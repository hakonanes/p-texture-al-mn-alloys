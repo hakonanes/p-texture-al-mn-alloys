{
 "cells": [
  {
   "cell_type": "markdown",
   "id": "5a70098f-c1f6-41ad-83af-2da35f866847",
   "metadata": {},
   "source": [
    "# Crop BSE images\n",
    "\n",
    "\n",
    "\n",
    "Håkon Wiik Ånes (hakon.w.anes@ntnu.no)"
   ]
  },
  {
   "cell_type": "code",
   "execution_count": null,
   "id": "432bea4c-39eb-40c2-9cca-771de581827a",
   "metadata": {},
   "outputs": [],
   "source": [
    "%matplotlib qt5\n",
    "\n",
    "from datetime import date\n",
    "import importlib_metadata\n",
    "import os\n",
    "\n",
    "import matplotlib.pyplot as plt\n",
    "import numpy as np\n",
    "import scipy.ndimage as ndi\n",
    "import skimage.color as skc\n",
    "import skimage.exposure as ske\n",
    "import skimage.io as ski\n",
    "import skimage.transform as skt\n",
    "\n",
    "\n",
    "# Directories\n",
    "sample = \"325c\"\n",
    "dset_no = 3\n",
    "dir_data = f\"/home/hakon/phd/data/p/prover/{sample}/{dset_no}\"\n",
    "dir_bse = os.path.join(dir_data, \"bse\")\n",
    "dir_kp = os.path.join(dir_data, \"kp\")\n",
    "\n",
    "print(\"Run date: \", date.today())\n",
    "print(\"\\nSoftware versions\\n-----------------\")\n",
    "for pkg in [\"matplotlib\", \"numpy\", \"scipy\", \"scikit-image\"]:\n",
    "    if pkg == \"numpy\":\n",
    "        ver = np.__version__\n",
    "    else:\n",
    "        ver = importlib_metadata.version(pkg)\n",
    "    print(pkg, \":\", ver)"
   ]
  },
  {
   "cell_type": "markdown",
   "id": "bc18d308-052d-4db9-93df-7121657fd090",
   "metadata": {},
   "source": [
    "## Dataset and image specific parameters\n",
    "\n",
    "These are found manually.\n",
    "\n",
    "The image layout is (usually without ML, MR)\n",
    "\n",
    "```\n",
    "| UL | UR |\n",
    "| ML | MR |\n",
    "| LL | LR |\n",
    "```\n",
    "\n",
    "If not specified, the order is UL, UR, LR, LL."
   ]
  },
  {
   "cell_type": "code",
   "execution_count": null,
   "id": "bb0a872d-c713-4b55-8873-e4ce727ddf90",
   "metadata": {},
   "outputs": [],
   "source": [
    "slices = {\n",
    "    \"0s\": {\n",
    "        1: [\n",
    "            (slice(0, -359), slice(0, -350)),\n",
    "            (slice(0, -200), slice(50, -1)),\n",
    "            (slice(0, -1), slice(450, -1)),\n",
    "            (slice(0, -1), slice(0, -1))\n",
    "        ],\n",
    "        2: [\n",
    "            (slice(0, -1), slice(40, -150)),  # UL\n",
    "            (slice(0, -1), slice(80, -50)),  # UR\n",
    "            (slice(0, -1), slice(100, -50)),  # MR\n",
    "            (slice(0, -50), slice(40, -50)),  # ML\n",
    "            (slice(0, -1), slice(50, -1)),  # LR\n",
    "            (slice(0, -1), slice(40, -50)),  # LL\n",
    "        ],\n",
    "        3: [\n",
    "            (slice(0, -250), slice(40, -440)),  # UL\n",
    "            (slice(0, -50), slice(30, -1)),  # UR\n",
    "            (slice(0, -1), slice(150, -1)),  # MR\n",
    "            (slice(0, -1), slice(40, -1)),  # ML\n",
    "            (slice(300, -1), slice(30, -1)),  # LR\n",
    "            (slice(0, -1), slice(330, -1)),  # LL\n",
    "        ],\n",
    "    },\n",
    "    \"175c\": {\n",
    "        1: [\n",
    "            (slice(0, -40), slice(40, -60)),\n",
    "            (slice(0, -130), slice(250, -1)),\n",
    "            (slice(50, -1), slice(40, -1)),\n",
    "            (slice(40, -1), slice(40, -20)),\n",
    "        ],\n",
    "        2: [\n",
    "            (slice(0, -75), slice(40, -75)),  # UL\n",
    "            (slice(0, -50), slice(40, -1)),  # UR\n",
    "            (slice(50, -50), slice(65, -1)),  # MR\n",
    "            (slice(75, -75), slice(40, -100)),  # ML\n",
    "            (slice(50, -1), slice(40, -50)),  # LL\n",
    "            (slice(20, -1), slice(40, -1)),  # LR\n",
    "        ],\n",
    "        3: [\n",
    "            (slice(800, 1200), slice(2200, 2800)),  # Center\n",
    "            (slice(0, -50), slice(40, -190)),  # UL\n",
    "            (slice(0, -150), slice(100, -1)),  # UR\n",
    "            (slice(50, -1), slice(280, -1)),  # LR\n",
    "            (slice(100, -1), slice(40, -1)),  # LL\n",
    "        ]\n",
    "    },\n",
    "    \"300c\": {\n",
    "        1: [\n",
    "            (slice(0, -150), slice(0, -300)),\n",
    "            (slice(0, -50), slice(125, -1)),\n",
    "            (slice(300, -1), slice(150, -1)),\n",
    "            (slice(200, -1), slice(0, -150)),\n",
    "        ],\n",
    "        2: [ # ??\n",
    "            (slice(0, -100), slice(0, -100)),\n",
    "            (slice(0, -100), slice(0, -100)),\n",
    "            (slice(0, -100), slice(0, -100)),\n",
    "            (slice(0, -100), slice(0, -100)),\n",
    "        ],\n",
    "        3: [\n",
    "            (slice(0, -150), slice(0, -300)),\n",
    "            (slice(0, -50), slice(125, -1)),\n",
    "            (slice(300, -1), slice(150, -1)),\n",
    "            (slice(200, -1), slice(0, -150)),\n",
    "        ],\n",
    "    },\n",
    "    \"325c\": {\n",
    "        1: [\n",
    "            (slice(0, -300), slice(40, -750)),\n",
    "            (slice(0, -200), slice(40, -1)),\n",
    "            (slice(120, -1), slice(40, -1)),\n",
    "            (slice(0, -1), slice(40, -150)),\n",
    "        ],\n",
    "        2: [\n",
    "            (slice(0, -300), slice(40, -300)),\n",
    "            (slice(0, -300), slice(275, -1)),\n",
    "            (slice(0, -1), slice(300, -1)),\n",
    "            (slice(0, -1), slice(40, -230)),\n",
    "        ],\n",
    "        3: [\n",
    "            (slice(0, -570), slice(40, -350)),\n",
    "            (slice(0, -240), slice(110, -1)),\n",
    "            (slice(290, -1), slice(40, -1)),\n",
    "            (slice(0, -1), slice(40, -190)),\n",
    "        ],\n",
    "    },\n",
    "}"
   ]
  },
  {
   "cell_type": "markdown",
   "id": "0dff362f-33a5-45d3-8900-9d63f8c8215d",
   "metadata": {},
   "source": [
    "Warp image by `(shear, [scale_x, scale_y])`"
   ]
  },
  {
   "cell_type": "code",
   "execution_count": null,
   "id": "cad01288-57f0-4c16-82e1-c0a100ebf596",
   "metadata": {},
   "outputs": [],
   "source": [
    "warp = {\n",
    "    \"0s\": {\n",
    "        1: [(0.0172, [1, 1]), (0, [1, 1]), (0, [1, 1]), (0, [1, 1])],\n",
    "        2: [(0, [1, 1]), (0, [1, 1]), (0, [1, 1]), (0, [1, 1]), (0, [1, 1]), (0, [1, 1])],\n",
    "        3: [(0, [1, 1]),(0, [1, 1]), (0, [1, 1]), (0, [1, 1]), (0, [1, 1]), (0, [1, 1])],\n",
    "    },\n",
    "    \"175c\": {\n",
    "        1: [(0, [1, 1]), (0, [1, 1]), (0, [1, 1]), (0, [1, 1])],\n",
    "        2: [(0, [1, 1]), (0, [1, 1]), (0, [1, 1]), (0, [1, 1]), (0, [1, 1]), (0, [1, 1])],\n",
    "        3: [(0, [1, 1]), (0, [1, 0.995]), (0, [1, 1]), (0, [1, 1]), (0, [1, 1.005])],\n",
    "    },\n",
    "    \"300c\": {\n",
    "        1: [(0, [1, 1]), (0, [1, 1]), (0, [1, 1]), (0, [1, 1])],\n",
    "        2: [(0, [1, 1]), (0, [1, 1]), (0, [1, 1]), (0, [1, 1])],\n",
    "        3: [(0, [1, 1]), (0, [1, 1]), (0, [1, 1]), (0, [1, 1])],\n",
    "    },\n",
    "    \"325c\": {\n",
    "        1: [(0, [1, 1]), (0, [1, 1]), (0, [1, 1]), (0, [1, 1])],\n",
    "        2: [(-0.005, [1, 0.993]), (0, [1, 1]), (0, [1, 1]), (-0.005, [1, 1.005])],\n",
    "        3: [(0, [1, 1]), (0, [1, 1]), (0, [1, 1]), (0.0119, [1, 1])],\n",
    "    },\n",
    "}"
   ]
  },
  {
   "cell_type": "markdown",
   "id": "7e26af78-88db-43ca-86fa-66e8404a82b0",
   "metadata": {},
   "source": [
    "Clock-wise rotation in degrees"
   ]
  },
  {
   "cell_type": "code",
   "execution_count": null,
   "id": "83de178f-82bf-4765-84c3-0e214fde0354",
   "metadata": {},
   "outputs": [],
   "source": [
    "rotate = {\n",
    "    \"0s\": {\n",
    "        1: [0, 0, 0, 0],\n",
    "        2: [0, 0, 0, 0, 0, 0],\n",
    "        3: [0, 0, 0, 0, -0.9, -0.9],\n",
    "    },\n",
    "    \"175c\": {\n",
    "        1: [0.2, 0, 0, 0.15],\n",
    "        2: [0, 0, 0, 0, 0, 0],\n",
    "        3: [0, 0, 0, 0, 0],\n",
    "    },\n",
    "    \"300c\": {\n",
    "        1: [0, 0, 0, 0],\n",
    "        2: [0, 0, 0, 0],\n",
    "        3: [0, 0, 0, 0],\n",
    "    },\n",
    "    \"325c\": {\n",
    "        1: [0, 0, 0, 0],\n",
    "        2: [0, 0, 0, 0],\n",
    "        3: [0, 0, 0, 0],\n",
    "    },\n",
    "}"
   ]
  },
  {
   "cell_type": "markdown",
   "id": "1166f376-e661-4d88-b198-c7dd401396a9",
   "metadata": {},
   "source": [
    "Final adjustment of fused image"
   ]
  },
  {
   "cell_type": "code",
   "execution_count": null,
   "id": "25d8089b-36a1-4206-b078-77c96b68a063",
   "metadata": {},
   "outputs": [],
   "source": [
    "# Indices are inclusive in the first slice, exclusive in the second\n",
    "# BSE\n",
    "bse_slice = {\n",
    "    \"0s\": {\n",
    "        1: (slice(28, 3795), slice(43, 5634)),\n",
    "        2: (slice(36, 5973), slice(171, 5946)),\n",
    "        3: (slice(10, 5531), slice(313, 5712)),\n",
    "    },\n",
    "    \"175c\": {\n",
    "        1: (slice(30, 3938), slice(265, 6050)),\n",
    "        2: (slice(114, 5879), slice(295, 5936)),\n",
    "        3: (slice(220, 3890), slice(546, 5759)),\n",
    "    },\n",
    "    \"300c\": {\n",
    "        1: (slice(25, 3949), slice(50, 5289)),\n",
    "        2: (slice(2, 3749), slice(124, 5576)),\n",
    "        3: (slice(16, 3837), slice(137, 5799))\n",
    "    },\n",
    "    \"325c\": {\n",
    "        1: (slice(2, 3795), slice(571, -2)),\n",
    "        2: (slice(28, 3811), slice(17, 5500)),\n",
    "        3: (slice(27, 3570), slice(199, 5786)),\n",
    "    },\n",
    "}"
   ]
  },
  {
   "cell_type": "markdown",
   "id": "af13d672-6f55-4d15-a270-5c6335d8c122",
   "metadata": {},
   "source": [
    "## Prepare images for BigStitcher\n",
    "\n",
    "Load images, process them, and save to TIFFs, to be loaded into BigStitcher"
   ]
  },
  {
   "cell_type": "code",
   "execution_count": null,
   "id": "d74225d4-5638-437f-af26-29249a955f99",
   "metadata": {},
   "outputs": [],
   "source": [
    "for i in range(1, len(slices[sample][dset_no]) + 1):\n",
    "    # Crop away banner with microscope information\n",
    "    img0 = plt.imread(os.path.join(dir_bse, f\"4500x{i}.tif\"))\n",
    "    img1 = img0[:2072]\n",
    "    img2 = skc.rgb2gray(img1[..., :3])\n",
    "    img3 = ske.rescale_intensity(img2, out_range=\"uint8\")\n",
    "\n",
    "    ski.imsave(os.path.join(dir_bse, f\"4500x{i}_cropped.tif\"), img3)\n",
    "\n",
    "    img4 = img3.copy()\n",
    "\n",
    "    # Fix possible shear\n",
    "    shear_i, scale_i = warp[sample][dset_no][i - 1]\n",
    "    if shear_i != 0 or not np.allclose(scale_i, [1, 1]):\n",
    "        tform = skt.AffineTransform(shear=shear_i, scale=scale_i)\n",
    "        img4 = skt.warp(img4, tform.inverse)\n",
    "        img4 = ske.rescale_intensity(img4, out_range=\"uint8\")\n",
    "\n",
    "    # Fix possible (small) rotation between images\n",
    "    angle = rotate[sample][dset_no][i - 1]\n",
    "    if angle != 0:\n",
    "        img4 = ndi.rotate(img4, angle, reshape=False)\n",
    "\n",
    "    # Crop again for better overlap with BigStitcher in ImageJ\n",
    "    img4 = img4[slices[sample][dset_no][i - 1]]\n",
    "\n",
    "    ski.imsave(os.path.join(dir_bse, f\"4500x{i}_cropped2.tif\"), img4)"
   ]
  },
  {
   "cell_type": "markdown",
   "id": "46cf99cc-5ebf-401f-bdf3-b81e9724b2f1",
   "metadata": {},
   "source": [
    "/home/hakon/phd/data/p/prover/0s/1/bse/*cropped2.tif"
   ]
  },
  {
   "cell_type": "markdown",
   "id": "5a29a794-3db9-41e7-bb92-67b85aeab932",
   "metadata": {},
   "source": [
    "## Crop image fused with BigStitcher"
   ]
  },
  {
   "cell_type": "code",
   "execution_count": null,
   "id": "08bb8ddf-e149-4ba4-910c-766d3e05dd5b",
   "metadata": {},
   "outputs": [],
   "source": [
    "img5 = plt.imread(os.path.join(dir_bse, \"4500x_cropped2_fused.png\"))\n",
    "img6 = ske.rescale_intensity(img5, out_range=\"uint8\")\n",
    "#fig, ax = plt.subplots()\n",
    "#ax.imshow(img5, cmap=\"gray\")"
   ]
  },
  {
   "cell_type": "markdown",
   "id": "619e56cc-41dd-436b-a4ab-8935d80d57d1",
   "metadata": {},
   "source": [
    "Crop for histogram matching (in `ImageJ`) and particle detection"
   ]
  },
  {
   "cell_type": "code",
   "execution_count": null,
   "id": "523f727b-0fd7-469f-82af-ea200be9c355",
   "metadata": {},
   "outputs": [],
   "source": [
    "ski.imsave(\n",
    "    os.path.join(dir_bse, \"4500x_cropped2_fused_cropped.png\"),\n",
    "    img6[bse_slice[sample][dset_no]]\n",
    ")"
   ]
  }
 ],
 "metadata": {
  "kernelspec": {
   "display_name": "Python 3 (ipykernel)",
   "language": "python",
   "name": "python3"
  },
  "language_info": {
   "codemirror_mode": {
    "name": "ipython",
    "version": 3
   },
   "file_extension": ".py",
   "mimetype": "text/x-python",
   "name": "python",
   "nbconvert_exporter": "python",
   "pygments_lexer": "ipython3",
   "version": "3.9.13"
  }
 },
 "nbformat": 4,
 "nbformat_minor": 5
}
