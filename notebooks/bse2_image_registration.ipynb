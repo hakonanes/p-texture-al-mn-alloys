{
 "cells": [
  {
   "cell_type": "markdown",
   "id": "e4a2b030",
   "metadata": {},
   "source": [
    "# Image registration of an EBSD data set to a BSE image\n",
    "\n",
    "Håkon Wiik Ånes (hakon.w.anes@ntnu.no)"
   ]
  },
  {
   "cell_type": "code",
   "execution_count": 1,
   "id": "d99f4cb2",
   "metadata": {},
   "outputs": [
    {
     "name": "stdout",
     "output_type": "stream",
     "text": [
      "0s 1\n",
      "Run date:  2022-09-07\n",
      "\n",
      "Software versions\n",
      "-----------------\n",
      "dask : 2022.7.1\n",
      "matplotlib : 3.5.2\n",
      "morphops : 0.1.13\n",
      "numpy : 1.22.4\n",
      "orix : 0.9.0.post0\n",
      "scikit-image : 0.19.3\n",
      "tqdm : 4.64.0\n"
     ]
    }
   ],
   "source": [
    "# Switch to interactive Matplotlib backend (e.g. qt5) for control point determination\n",
    "%matplotlib qt5\n",
    "\n",
    "from datetime import date\n",
    "import importlib_metadata\n",
    "import os\n",
    "\n",
    "from dask.diagnostics import ProgressBar\n",
    "import dask\n",
    "import matplotlib.pyplot as plt\n",
    "from mpl_toolkits.axes_grid1.axes_divider import make_axes_locatable\n",
    "import morphops\n",
    "import numpy as np\n",
    "from orix import io as oio\n",
    "from orix.crystal_map import CrystalMap\n",
    "from orix.quaternion import Rotation\n",
    "import skimage.color as skc\n",
    "import skimage.exposure as ske\n",
    "import skimage.transform as skt\n",
    "import skimage.util as sku\n",
    "from tqdm import trange, tqdm\n",
    "\n",
    "\n",
    "# Directories for input and output\n",
    "sample = \"0s\"\n",
    "dset_no = 1\n",
    "dir_data = f\"/home/hakon/phd/data/p/prover/{sample}\"\n",
    "dir_sample = os.path.join(dir_data, str(dset_no))\n",
    "dir_bse = os.path.join(dir_sample, \"bse\")\n",
    "dir_kp = os.path.join(dir_sample, \"kp\")\n",
    "dir_imreg = os.path.join(dir_sample, \"imreg\")\n",
    "dir_partdet = os.path.join(dir_sample, \"partdet\")\n",
    "\n",
    "# Data set specific parameters\n",
    "out_shapes = {\n",
    "    \"0s\": {1: (800, 800), 2: (1400, 1400), 3: (1100, 1000)},\n",
    "    \"175c\": {1: (950, 950), 2: (1100, 1100), 3: (1050, 1000)},\n",
    "    \"300c\": {1: (1000, 1000), 2: (900, 820), 3: (1050, 950)},\n",
    "    \"325c\": {1: (950, 950), 2: (850, 750), 3: (1100, 1100)}\n",
    "}\n",
    "cp_plot_pad = {\n",
    "    \"0s\": {1: (50, 50), 2: (75, 50), 3: (150, 50)},\n",
    "    \"175c\": {1: (50, 50), 2: (50, 50), 3: (150, 50)},\n",
    "    \"300c\": {1: (50, 50), 2: (150, 50), 3: (150, 50)},\n",
    "    \"325c\": {1: (150, 50), 2: (150, 50), 3: (100, 50)},\n",
    "}\n",
    "\n",
    "# Matplotlib configuration and keyword arguments\n",
    "plt.rcParams.update({\"font.size\": 12})\n",
    "savefig_kw = dict(bbox_inches=\"tight\", pad_inches=0, transparent=True, dpi=150)\n",
    "scatter_kw = dict(s=70, linewidth=2, facecolor=\"none\", clip_on=False)\n",
    "#plt.ioff()\n",
    "\n",
    "print(sample, dset_no)\n",
    "print(\"Run date: \", date.today())\n",
    "print(\"\\nSoftware versions\\n-----------------\")\n",
    "for pkg in [\n",
    "    \"dask\",\n",
    "    \"matplotlib\",\n",
    "    \"morphops\",\n",
    "    \"numpy\",\n",
    "    \"orix\",\n",
    "    \"scikit-image\",\n",
    "    \"tqdm\"\n",
    "]:\n",
    "    if pkg == \"numpy\":\n",
    "        ver = np.__version__\n",
    "    else:\n",
    "        ver = importlib_metadata.version(pkg)\n",
    "    print(pkg, \":\", ver)"
   ]
  },
  {
   "cell_type": "markdown",
   "id": "d103f18d",
   "metadata": {},
   "source": [
    "Step sizes"
   ]
  },
  {
   "cell_type": "code",
   "execution_count": 2,
   "id": "4fe30f97",
   "metadata": {},
   "outputs": [],
   "source": [
    "step_size = dict(ebsd=100, bse=1 / 39.2e-3)"
   ]
  },
  {
   "cell_type": "markdown",
   "id": "7ad54e51-172b-4fab-a980-e57411c6bb51",
   "metadata": {},
   "source": [
    "New BSE scale so that the particle map produced from the upscaled BSE image can be binned by an integer factor"
   ]
  },
  {
   "cell_type": "code",
   "execution_count": 3,
   "id": "c8141c02-2bb2-4c2b-87ae-aff471932cf6",
   "metadata": {},
   "outputs": [],
   "source": [
    "scale_ebsd_bse = step_size[\"ebsd\"] / step_size[\"bse\"]\n",
    "scale_bse_ebsd = step_size[\"bse\"] / step_size[\"ebsd\"]\n",
    "\n",
    "x_bin = int(np.ceil(scale_ebsd_bse))\n",
    "upscale_factor = x_bin * scale_bse_ebsd"
   ]
  },
  {
   "cell_type": "markdown",
   "id": "e2531885",
   "metadata": {},
   "source": [
    "## 1. Manually identify control points"
   ]
  },
  {
   "cell_type": "markdown",
   "id": "ea7518cb",
   "metadata": {},
   "source": [
    "EBSD map (sensed image)"
   ]
  },
  {
   "cell_type": "code",
   "execution_count": 4,
   "id": "63ffc58f",
   "metadata": {},
   "outputs": [],
   "source": [
    "ebsd = plt.imread(os.path.join(dir_kp, \"maps_mean_q1_q99.png\"))\n",
    "if len(ebsd.shape) > 2:\n",
    "    ebsd = skc.rgb2gray(ebsd[..., :3])\n",
    "#ebsd = plt.imread(os.path.join(dir_kp, \"maps_ncc_ref.png\"))"
   ]
  },
  {
   "cell_type": "markdown",
   "id": "34d8aa1b",
   "metadata": {},
   "source": [
    "BSE image (reference image)"
   ]
  },
  {
   "cell_type": "code",
   "execution_count": 5,
   "id": "b712e796",
   "metadata": {},
   "outputs": [],
   "source": [
    "bse = plt.imread(os.path.join(dir_bse, \"4500x_cropped2_fused_cropped_cropped.png\"))\n",
    "bse_sub = plt.imread(os.path.join(dir_bse, \"4500x_cropped2_fused_cropped_histmatch_sub_cropped.png\"))\n",
    "if bse.ndim > 2:\n",
    "    bse = skc.rgb2gray(bse[..., :3])\n",
    "if bse_sub.ndim > 2:\n",
    "    bse_sub = skc.rgb2gray(bse_sub[..., :3])"
   ]
  },
  {
   "cell_type": "markdown",
   "id": "c6343cd4-66e6-445f-89b5-5accf55e78d4",
   "metadata": {},
   "source": [
    "Identify coordinates (x, y) and (X, Y) of corresponding control points and write\n",
    "them to a text file"
   ]
  },
  {
   "cell_type": "code",
   "execution_count": null,
   "id": "56d5739c-c32c-4b96-ab1c-2178c63a9fbe",
   "metadata": {},
   "outputs": [],
   "source": [
    "fig, (ax0, ax1) = plt.subplots(ncols=2)\n",
    "ax0.imshow(ebsd, cmap=\"gray\")\n",
    "ax1.imshow(bse, cmap=\"gray\")\n",
    "ax0.axis(\"off\")\n",
    "ax1.axis(\"off\")\n",
    "fig.tight_layout();"
   ]
  },
  {
   "cell_type": "markdown",
   "id": "47156dee",
   "metadata": {},
   "source": [
    "Load identified control points"
   ]
  },
  {
   "cell_type": "code",
   "execution_count": 6,
   "id": "acd2d83e",
   "metadata": {},
   "outputs": [],
   "source": [
    "cpx_ebsd, cpy_ebsd, cpx_bse, cpy_bse = np.loadtxt(\n",
    "    os.path.join(dir_imreg, f\"cps_{sample}_{dset_no}_cropped2_fused_cropped_cropped.csv\"),\n",
    "    skiprows=1,\n",
    "    delimiter=\",\",\n",
    "    unpack=True,\n",
    ")\n",
    "cp_ebsd = np.column_stack([cpy_ebsd, cpx_ebsd])\n",
    "cp_bse = np.column_stack([cpy_bse, cpx_bse])\n",
    "\n",
    "# Scale BSE CPs to maintain EBSD resolution\n",
    "cp_bse_scaled = cp_bse / scale_ebsd_bse\n",
    "\n",
    "# Translate BSE CPs\n",
    "cp_bse_translated = cp_bse_scaled - (cp_bse_scaled.mean(axis=0) - cp_ebsd.mean(axis=0))"
   ]
  },
  {
   "cell_type": "markdown",
   "id": "02b6c732-ff5d-4bef-addd-ae0fd42ce7bd",
   "metadata": {},
   "source": [
    "Adjust CPs (e.g. when changing the padding of the cropped/fused/cropped BSE image)"
   ]
  },
  {
   "cell_type": "code",
   "execution_count": null,
   "id": "533a6394-6679-4e05-bbc0-6b345a20dc0b",
   "metadata": {},
   "outputs": [],
   "source": [
    "#np.savetxt(\n",
    "#    os.path.join(dir_imreg, f\"cps_{sample}_{dset_no}_cropped2_fused_cropped.csv\"),\n",
    "#    X=np.column_stack([cpx_ebsd, cpy_ebsd, cpx_bse - 0, cpy_bse - 28]),\n",
    "#    delimiter=\",\",\n",
    "#    fmt=\"%i\"\n",
    "#)"
   ]
  },
  {
   "cell_type": "markdown",
   "id": "92e67055-b066-449b-8af4-fc69298866cb",
   "metadata": {},
   "source": [
    "Plot control points on images"
   ]
  },
  {
   "cell_type": "code",
   "execution_count": null,
   "id": "eba6b23d-8324-4294-b98b-4046fd873a8e",
   "metadata": {},
   "outputs": [],
   "source": [
    "markers = [\"s\", \"o\"]\n",
    "marker_colors = [\"lime\", \"gold\"]\n",
    "\n",
    "fig, (ax0, ax1) = plt.subplots(ncols=2, figsize=(10, 5))\n",
    "ax0.imshow(ebsd, cmap=\"gray\")\n",
    "ax1.imshow(bse, cmap=\"gray\")\n",
    "for i, (y, x) in enumerate(cp_ebsd):\n",
    "    ax0.scatter(x, y, marker=markers[0], color=marker_colors[0], **scatter_kw)\n",
    "    ax0.text(x, y, str(i), c=\"r\", ha=\"left\", va=\"bottom\")\n",
    "for i, (y, x) in enumerate(cp_bse):\n",
    "    ax1.scatter(x, y, marker=markers[1], color=marker_colors[1], **scatter_kw)\n",
    "    ax1.text(x, y, str(i), c=\"r\", ha=\"left\", va=\"bottom\")\n",
    "ax0.axis(\"off\")\n",
    "ax1.axis(\"off\")\n",
    "fig.tight_layout()\n",
    "fig.savefig(os.path.join(dir_imreg, \"images_control_points.png\"), **savefig_kw)"
   ]
  },
  {
   "cell_type": "markdown",
   "id": "3f726948-7115-4ea2-80fe-fb621e4d94a3",
   "metadata": {},
   "source": [
    "Plot control points on images with relative shifts"
   ]
  },
  {
   "cell_type": "code",
   "execution_count": null,
   "id": "531c4321-a3cc-46aa-98c3-1fb81e4d87f8",
   "metadata": {},
   "outputs": [],
   "source": [
    "# Keyword arguments shared among Matplotlib calls\n",
    "imshow_kwds = dict(cmap=\"gray\", interpolation=None)\n",
    "\n",
    "figsize = (18 * bse.shape[1] / max(bse.shape), 6 * bse.shape[0] / max(bse.shape))\n",
    "fig, axes = plt.subplots(ncols=3, figsize=figsize)\n",
    "ax0, ax1, ax2 = axes\n",
    "ax0.imshow(ebsd, **imshow_kwds)\n",
    "ax1.imshow(bse, **imshow_kwds)\n",
    "# Shape of figure of relative positions between CPs\n",
    "pad = cp_plot_pad[sample][dset_no]\n",
    "nr, nc = tuple(np.max(np.concatenate((cp_bse_translated, cp_ebsd)), axis=0).astype(int) + np.array(pad))\n",
    "ax2.imshow(np.zeros((nr, nc)), cmap=\"gray\")\n",
    "\n",
    "# Control points\n",
    "for i, (y, x) in enumerate(cp_ebsd):\n",
    "    ax0.scatter(x, y, marker=markers[0], color=marker_colors[0], **scatter_kw)\n",
    "    ax0.text(x, y, str(i), c=\"r\", ha=\"left\", va=\"bottom\")\n",
    "for i, (y, x) in enumerate(cp_bse):\n",
    "    ax1.scatter(x, y, marker=markers[1], color=marker_colors[1], **scatter_kw)\n",
    "    ax1.text(x, y, str(i), c=\"r\", ha=\"left\", va=\"bottom\")\n",
    "for i, these_points in enumerate([cp_ebsd, cp_bse_translated]):\n",
    "    for r, c in these_points:\n",
    "        ax2.scatter(\n",
    "            c + pad[1] / 2,\n",
    "            r + pad[0] / 2,\n",
    "            color=marker_colors[i],\n",
    "            marker=markers[i],\n",
    "            **scatter_kw\n",
    "        )\n",
    "for ax in axes:\n",
    "    ax.axis(\"off\")\n",
    "fig.tight_layout(pad=0)\n",
    "fig.savefig(os.path.join(dir_imreg, \"images_control_points_shift.png\"), **savefig_kw)"
   ]
  },
  {
   "cell_type": "markdown",
   "id": "5a9720e6",
   "metadata": {},
   "source": [
    "## 2. Correct source image using the thin plate spline transformation function"
   ]
  },
  {
   "cell_type": "markdown",
   "id": "d0c711f3",
   "metadata": {},
   "source": [
    "Get inverse map (input coordinates in the output image) using `morphops`. We use `dask` to wrap calls to `morphops` to keep memory use low."
   ]
  },
  {
   "cell_type": "code",
   "execution_count": 7,
   "id": "c4c1adea-b939-4800-a9d7-0a396fc9dd5d",
   "metadata": {},
   "outputs": [
    {
     "name": "stdout",
     "output_type": "stream",
     "text": [
      "[########################################] | 100% Completed | 1.48 sms\n"
     ]
    }
   ],
   "source": [
    "# Output shape of corrected EBSD map\n",
    "out_shape = out_shapes[sample][dset_no]\n",
    "out_size = int(np.prod(out_shape))\n",
    "\n",
    "# 2D indices (flattened) for each point in the output map\n",
    "rc_out = np.indices(out_shape, dtype=float).reshape((2, -1)).T\n",
    "\n",
    "# Obtain inverse mapping one chunk at a time to reduce memory use. This is done\n",
    "# by first accumulating a list of delayed computations...\n",
    "delayed_list = []\n",
    "n_chunks = 100\n",
    "chunk_size = int(np.ceil(out_size / n_chunks))\n",
    "for idx in range(0, n_chunks * chunk_size, chunk_size):\n",
    "    rc_chunk = rc_out[idx:idx + chunk_size]\n",
    "    rc_in_part = dask.delayed(morphops.tps_warp)(X=cp_bse_scaled, Y=cp_ebsd, pts=rc_chunk)\n",
    "    delayed_list.append(rc_in_part)\n",
    "\n",
    "# ... and then computing the inverse mappings\n",
    "with ProgressBar():\n",
    "    rc_in_parts = dask.compute(*delayed_list)\n",
    "rc_in = np.row_stack(rc_in_parts)"
   ]
  },
  {
   "cell_type": "markdown",
   "id": "5ea4bb1f",
   "metadata": {},
   "source": [
    "Check coordinate shifts (should be smooth)"
   ]
  },
  {
   "cell_type": "code",
   "execution_count": 29,
   "id": "dca33801",
   "metadata": {},
   "outputs": [],
   "source": [
    "rc_shift = rc_in - rc_out\n",
    "rc_center = rc_shift - rc_shift.mean(axis=0)\n",
    "\n",
    "labels = (\"Y shift\", \"X shift\")\n",
    "v_extent = max(abs(rc_center.min()), abs(rc_center.max()))\n",
    "imshow_kwds = dict(vmin=-v_extent, vmax=v_extent, cmap=\"seismic\")\n",
    "\n",
    "fig, ax = plt.subplots(ncols=2, figsize=(8, 4))\n",
    "for i, a in enumerate(ax):\n",
    "    im = a.imshow(rc_center[:, i].reshape(out_shape), **imshow_kwds)\n",
    "    ax_divider = make_axes_locatable(a)\n",
    "    fig.colorbar(im, cax=ax_divider.append_axes(\"right\", size=\"7%\", pad=\"3%\"), label=labels[i])\n",
    "fig.tight_layout()\n",
    "fig.savefig(os.path.join(dir_imreg, \"rc_shift.png\"), **savefig_kw)"
   ]
  },
  {
   "cell_type": "code",
   "execution_count": 8,
   "id": "4988ea0e",
   "metadata": {},
   "outputs": [],
   "source": [
    "def get_mapping_arrays(rc_in, in_shape, out_shape):\n",
    "    \"\"\"Get 1D indices of corresponding points in input and output\n",
    "    arrays.\n",
    "    \n",
    "    Parameters\n",
    "    ----------\n",
    "    rc_in : numpy.ndarray\n",
    "    in_shape : tuple\n",
    "    out_shape : tuple\n",
    "    \n",
    "    Returns\n",
    "    -------\n",
    "    rc_in_1d : numpy.ndarray\n",
    "    rc_in_2d : tuple of numpy.ndarray\n",
    "    rc_out_1d : numpy.ndarray\n",
    "    rc_out_2d : tuple of numpy.ndarray\n",
    "    \"\"\"\n",
    "    # Round exact input coordinates to nearest neighbour coordinates\n",
    "    rc_in_int = np.round(rc_in).astype(int)\n",
    "\n",
    "    # Set up output coordinate array\n",
    "    rc_out = np.indices(out_shape).reshape((2, -1)).T\n",
    "    \n",
    "    # Remove coordinates outside input map in both arrays\n",
    "    is_outside = np.logical_or((rc_in_int < 0).any(axis=1), (rc_in_int >= np.array(in_shape)).any(axis=1))\n",
    "    is_outside_idx = np.where(is_outside)[0]\n",
    "    rc_in_int = np.delete(rc_in_int, is_outside_idx, axis=0)\n",
    "    rc_out = np.delete(rc_out, is_outside_idx, axis=0)\n",
    "    \n",
    "    # Get 1D indices\n",
    "    rc_in_1d = np.ravel_multi_index(rc_in_int.T, in_shape)\n",
    "    rc_out_1d = np.ravel_multi_index(rc_out.T, out_shape)\n",
    "\n",
    "    # 2D coordinate arrays\n",
    "    rc_in_2d = np.unravel_index(rc_in_1d, in_shape)\n",
    "    rc_out_2d = np.unravel_index(rc_out_1d, out_shape)\n",
    "    \n",
    "    return rc_in_1d, rc_in_2d, rc_out_1d, rc_out_2d\n",
    "\n",
    "\n",
    "def map_in_image(in_image, out_shape, rc_in_2d, rc_out_2d):\n",
    "    \"\"\"Map sensed (in) image from sensed coordinates to\n",
    "    reference coordinates.\n",
    "    \n",
    "    Parameters\n",
    "    ----------\n",
    "    in_image : numpy.ndarray\n",
    "    out_shape : tuple\n",
    "    rc_in_2d : tuple of numpy.ndarray\n",
    "    rc_out_2d : tuple of numpy.ndarray\n",
    "    \n",
    "    Returns\n",
    "    -------\n",
    "    out_image : numpy.ndarray\n",
    "    \"\"\"\n",
    "    out_image = np.zeros(out_shape, dtype=in_image.dtype)\n",
    "    out_image[rc_out_2d] = in_image[rc_in_2d]\n",
    "    return out_image"
   ]
  },
  {
   "cell_type": "code",
   "execution_count": 9,
   "id": "6909e3d1",
   "metadata": {},
   "outputs": [],
   "source": [
    "rc_in_1d, rc_in_2d, rc_out_1d, rc_out_2d = get_mapping_arrays(\n",
    "    rc_in=rc_in, in_shape=ebsd.shape, out_shape=out_shape\n",
    ")"
   ]
  },
  {
   "cell_type": "markdown",
   "id": "4a2f2496",
   "metadata": {},
   "source": [
    "Check mapping of EBSD intensity map"
   ]
  },
  {
   "cell_type": "code",
   "execution_count": 23,
   "id": "ee76db68",
   "metadata": {},
   "outputs": [],
   "source": [
    "ebsd_correct = map_in_image(ebsd, out_shape, rc_in_2d, rc_out_2d)\n",
    "\n",
    "fig, ax = plt.subplots(figsize=(6, 3), ncols=2)\n",
    "ax[0].imshow(ebsd, cmap=\"gray\")\n",
    "ax[1].imshow(ebsd_correct, cmap=\"gray\")\n",
    "for a in ax:\n",
    "    a.axis(\"off\")\n",
    "fig.tight_layout()"
   ]
  },
  {
   "cell_type": "code",
   "execution_count": null,
   "id": "514ddda7",
   "metadata": {},
   "outputs": [],
   "source": [
    "mask = np.zeros(out_shape, dtype=bool)\n",
    "mask[rc_out_2d] = True\n",
    "\n",
    "plt.imsave(os.path.join(dir_imreg, \"ebsd_correct.png\"), ebsd_correct, cmap=\"gray\")\n",
    "np.save(os.path.join(dir_imreg, \"mask_ebsd_correct\"), mask)"
   ]
  },
  {
   "cell_type": "markdown",
   "id": "b51595f0",
   "metadata": {},
   "source": [
    "Check overlap of EBSD map and BSE image"
   ]
  },
  {
   "cell_type": "code",
   "execution_count": null,
   "id": "5f52c810",
   "metadata": {},
   "outputs": [],
   "source": [
    "# Rescale mask and apply to rescaled EBSD intensity map\n",
    "mask2 = skt.rescale(mask, scale_ebsd_bse).astype(bool)\n",
    "ebsd_correct2 = skt.rescale(ebsd_correct, scale_ebsd_bse)\n",
    "\n",
    "# Pad BSE image or crop mask and EBSD ROI, depending on which have the greater\n",
    "# shape\n",
    "mask2_bse_shape_diff = np.array(mask2.shape) - np.array(bse.shape)\n",
    "if mask2_bse_shape_diff[0] > 0:\n",
    "    # Add rows to the end of the BSE image\n",
    "    bse2 = np.pad(bse, [(0, mask2_bse_shape_diff[0]), (0, 0)])\n",
    "    ebsd_correct3 = ebsd_correct2.copy()\n",
    "else:\n",
    "    # Add rows to the end of the rescaled mask and EBSD intensity map\n",
    "    mask2 = mask2[:bse.shape[0]]\n",
    "    ebsd_correct3 = ebsd_correct2[:bse.shape[0]]\n",
    "    mask2 = np.pad(mask2, [(0, -mask2_bse_shape_diff[0]), (0, 0)])\n",
    "    ebsd_correct3 = np.pad(ebsd_correct3, [(0, -mask2_bse_shape_diff[0]), (0, 0)])\n",
    "    bse2 = bse.copy()\n",
    "if mask2_bse_shape_diff[1] > 0:\n",
    "    # Add columns to the end of the BSE image\n",
    "    bse2 = np.pad(bse2, [(0, 0), (0, mask2_bse_shape_diff[1])])\n",
    "else:\n",
    "    # Add columns to the end of the rescaled mask and EBSD intensity map\n",
    "    mask2 = mask2[:, :bse.shape[1]]\n",
    "    ebsd_correct3 = ebsd_correct3[:, :bse.shape[1]]\n",
    "    mask2 = np.pad(mask2, [(0, 0), (0, -mask2_bse_shape_diff[1])])\n",
    "    ebsd_correct3 = np.pad(ebsd_correct3, [(0, 0), (0, -mask2_bse_shape_diff[1])])\n",
    "\n",
    "# Apply mask to BSE image\n",
    "bse2[~mask2] = 0\n",
    "\n",
    "# Rescale intensities\n",
    "ebsd_correct4 = ske.rescale_intensity(ebsd_correct3, out_range=(0, 1))\n",
    "bse3 = ske.rescale_intensity(bse2, out_range=(0, 1))\n",
    "reg_im = np.stack((ebsd_correct4, bse3, ebsd_correct4), axis=2)"
   ]
  },
  {
   "cell_type": "markdown",
   "id": "c3c9b03f-248f-4bc1-b3f9-37f4169c80bc",
   "metadata": {},
   "source": [
    "Check overlap of corrected EBSD map and BSE image"
   ]
  },
  {
   "cell_type": "code",
   "execution_count": null,
   "id": "635cff83",
   "metadata": {},
   "outputs": [],
   "source": [
    "fig, ax = plt.subplots(figsize=(9, 3), ncols=3, sharex=True, sharey=True)\n",
    "ax[0].imshow(ebsd_correct4, cmap=\"gray\")\n",
    "ax[1].imshow(bse3, cmap=\"gray\")\n",
    "ax[2].imshow(reg_im)\n",
    "for a in ax:\n",
    "    a.axis(\"off\")\n",
    "fig.tight_layout()"
   ]
  },
  {
   "cell_type": "markdown",
   "id": "3a6e04d7-dad6-487a-98fb-4b697b9627a0",
   "metadata": {},
   "source": [
    "Save images"
   ]
  },
  {
   "cell_type": "code",
   "execution_count": null,
   "id": "9357b472",
   "metadata": {},
   "outputs": [],
   "source": [
    "# With padding\n",
    "plt.imsave(os.path.join(dir_imreg, \"reg_ebsd.png\"), ebsd_correct4, cmap=\"gray\")\n",
    "plt.imsave(os.path.join(dir_imreg, \"reg_bse.png\"), bse3, cmap=\"gray\")\n",
    "plt.imsave(os.path.join(dir_imreg, \"reg_rgb.png\"), reg_im)"
   ]
  },
  {
   "cell_type": "code",
   "execution_count": null,
   "id": "f80a7e5f-fa62-437f-9998-21234c6b355f",
   "metadata": {},
   "outputs": [],
   "source": [
    "# Without padding\n",
    "rc_out_2d_scaled = np.column_stack(rc_out_2d) * scale_ebsd_bse\n",
    "r_start, c_start = np.floor(rc_out_2d_scaled.min(axis=0)).astype(int)\n",
    "r_end, c_end = np.ceil(rc_out_2d_scaled.max(axis=0)).astype(int)\n",
    "sl = (slice(r_start, r_end), slice(c_start, c_end))\n",
    "\n",
    "plt.imsave(os.path.join(dir_imreg, \"reg_ebsd_no_padding.png\"), ebsd_correct4[sl], cmap=\"gray\")\n",
    "plt.imsave(os.path.join(dir_imreg, \"reg_bse_no_padding.png\"), bse3[sl], cmap=\"gray\")\n",
    "plt.imsave(os.path.join(dir_imreg, \"reg_rgb_no_padding.png\"), reg_im[sl])"
   ]
  },
  {
   "cell_type": "markdown",
   "id": "99b9acd8",
   "metadata": {},
   "source": [
    "## 3. Upsample source image before particle detection"
   ]
  },
  {
   "cell_type": "code",
   "execution_count": null,
   "id": "0434ca37",
   "metadata": {},
   "outputs": [],
   "source": [
    "bse_sub4 = skt.rescale(bse_sub, upscale_factor)\n",
    "plt.imsave(os.path.join(dir_imreg, \"bse_rescaled.png\"), bse_sub4, cmap=\"gray\")"
   ]
  },
  {
   "cell_type": "markdown",
   "id": "eab16c27",
   "metadata": {
    "tags": []
   },
   "source": [
    "## 4. Detect particles in upscaled source image\n",
    "\n",
    "Done in notebook `bse3_particle_detection.ipynb`."
   ]
  },
  {
   "cell_type": "markdown",
   "id": "c210d506",
   "metadata": {},
   "source": [
    "## 5. Bin particle map and extract only ROI"
   ]
  },
  {
   "cell_type": "markdown",
   "id": "af559e17-abe1-4a76-8b97-cda422a5d2e1",
   "metadata": {},
   "source": [
    "Load binary particle map"
   ]
  },
  {
   "cell_type": "code",
   "execution_count": 11,
   "id": "ba152323",
   "metadata": {},
   "outputs": [],
   "source": [
    "labels = np.load(os.path.join(dir_partdet, \"bse_labels_filled_filtered.npy\"))"
   ]
  },
  {
   "cell_type": "markdown",
   "id": "ad2727b6-7fe2-4709-b866-fe1c80eae889",
   "metadata": {},
   "source": [
    "Slice binary particle map to enable integer binning"
   ]
  },
  {
   "cell_type": "code",
   "execution_count": 13,
   "id": "0c093d45",
   "metadata": {},
   "outputs": [],
   "source": [
    "row_labels, col_labels = labels.shape\n",
    "row_new = row_labels - (row_labels % x_bin)\n",
    "col_new = col_labels - (col_labels % x_bin)\n",
    "labels2 = labels[:row_new, :col_new]"
   ]
  },
  {
   "cell_type": "code",
   "execution_count": 15,
   "id": "9980af00-afc1-4074-ae82-058c056b2570",
   "metadata": {},
   "outputs": [
    {
     "data": {
      "text/plain": [
       "(2936, 3048)"
      ]
     },
     "execution_count": 15,
     "metadata": {},
     "output_type": "execute_result"
    }
   ],
   "source": [
    "labels2.shape"
   ]
  },
  {
   "cell_type": "markdown",
   "id": "c9005a98-0515-4a56-86dc-3a794512b632",
   "metadata": {},
   "source": [
    "Separate the map into blocks of equal size, e.g. (4, 4), which are binned using\n",
    "a custom function"
   ]
  },
  {
   "cell_type": "code",
   "execution_count": 18,
   "id": "194b60d3-fb10-475a-944a-28765530f952",
   "metadata": {},
   "outputs": [],
   "source": [
    "view = sku.view_as_blocks(labels2, block_shape=(x_bin, x_bin))"
   ]
  },
  {
   "cell_type": "markdown",
   "id": "4fe6faef-2b27-4685-95c0-987d41c92667",
   "metadata": {},
   "source": [
    "Bin by counting the number of particles within each block and the number of\n",
    "unbinned pixels that are particles. This property is important because within\n",
    "each block of size (4, 4), a particle of one pixel and 16 pixels must of course\n",
    "be assigned different sizes in the final analysis."
   ]
  },
  {
   "cell_type": "code",
   "execution_count": 19,
   "id": "20777356",
   "metadata": {},
   "outputs": [
    {
     "name": "stderr",
     "output_type": "stream",
     "text": [
      "100%|█████████████████████████████████████████████████████████| 559308/559308 [00:12<00:00, 45844.68it/s]\n"
     ]
    }
   ],
   "source": [
    "def count_particles(block):\n",
    "    unique_labels, unique_counts = np.unique(block, return_counts=True)\n",
    "    particle_labels = unique_labels > 0\n",
    "    return np.count_nonzero(particle_labels), unique_counts[particle_labels]\n",
    "\n",
    "\n",
    "n_particles = np.zeros(view.shape[:2], dtype=int)\n",
    "n_pixels_list = np.zeros(view.shape[:2], dtype=object)\n",
    "for idx in tqdm(np.ndindex(view.shape[:-2]), total=np.prod(view.shape[:2])):\n",
    "    n_particles_i, n_pixels_i = count_particles(view[idx])\n",
    "    n_particles[idx] = n_particles_i\n",
    "    n_pixels_list[idx] = n_pixels_i"
   ]
  },
  {
   "cell_type": "markdown",
   "id": "b9313d5b-f18f-41d9-9414-f84492e7c0f9",
   "metadata": {},
   "source": [
    "Calculate number of particle pixels within each binned pixel"
   ]
  },
  {
   "cell_type": "code",
   "execution_count": 20,
   "id": "b0be7beb-65c9-4799-beca-9af37298e951",
   "metadata": {},
   "outputs": [],
   "source": [
    "particle_mask = n_particles != 0\n",
    "n_pixels = np.zeros(n_particles.shape, dtype=float)\n",
    "for r, c in zip(*np.where(particle_mask)):\n",
    "    n_pixels[r, c] = n_pixels_list[r, c].sum()"
   ]
  },
  {
   "cell_type": "markdown",
   "id": "7239e0b9",
   "metadata": {},
   "source": [
    "Make particle map of equal size to new EBSD data"
   ]
  },
  {
   "cell_type": "code",
   "execution_count": 21,
   "id": "187cf33e",
   "metadata": {},
   "outputs": [],
   "source": [
    "n_particles_roi = np.zeros(out_shape, dtype=int)\n",
    "n_pixels_roi = np.zeros(out_shape)\n",
    "dr, dc = np.array(n_particles.shape) - np.array(out_shape)\n",
    "if dr > 0:\n",
    "    pad_r = [(0, dr), (0, 0)]\n",
    "    n_particles_roi = np.pad(n_particles_roi, pad_r)\n",
    "    n_pixels_roi = np.pad(n_pixels_roi, pad_r)\n",
    "if dc > 0:\n",
    "    pad_c = [(0, 0), (0, dc)]\n",
    "    n_particles_roi = np.pad(n_particles_roi, pad_c)\n",
    "    n_pixels_roi = np.pad(n_pixels_roi, pad_c)\n",
    "\n",
    "nr_part, nc_part = n_particles.shape\n",
    "n_particles_roi[:nr_part, :nc_part] = n_particles\n",
    "n_pixels_roi[:nr_part, :nc_part] = n_pixels\n",
    "\n",
    "# Mask to ROI only\n",
    "mask = np.zeros(out_shape, dtype=bool)\n",
    "mask[rc_out_2d] = True\n",
    "n_particles_roi = n_particles_roi[:out_shape[0], :out_shape[1]]\n",
    "n_pixels_roi = n_pixels_roi[:out_shape[0], :out_shape[1]]\n",
    "n_particles_roi[~mask] = 0\n",
    "n_pixels_roi[~mask] = 0"
   ]
  },
  {
   "cell_type": "markdown",
   "id": "86ecfbae",
   "metadata": {},
   "source": [
    "Check overlap"
   ]
  },
  {
   "cell_type": "code",
   "execution_count": 24,
   "id": "bad1b723",
   "metadata": {},
   "outputs": [],
   "source": [
    "fig, ax = plt.subplots(figsize=(9, 3), ncols=3, sharex=True, sharey=True)\n",
    "ax[0].imshow(ebsd_correct, cmap=\"gray\")\n",
    "ax[1].imshow(n_particles_roi)\n",
    "ax[2].imshow(n_pixels_roi)\n",
    "for a in ax:\n",
    "    a.axis(\"off\")\n",
    "fig.tight_layout()"
   ]
  },
  {
   "cell_type": "markdown",
   "id": "cd514c76",
   "metadata": {},
   "source": [
    "Save to file"
   ]
  },
  {
   "cell_type": "code",
   "execution_count": 25,
   "id": "a46ae454",
   "metadata": {},
   "outputs": [],
   "source": [
    "np.save(os.path.join(dir_imreg, \"n_particles\"), n_particles)\n",
    "np.save(os.path.join(dir_imreg, \"n_particles_roi\"), n_particles_roi)\n",
    "np.save(os.path.join(dir_imreg, \"n_pixels_roi\"), n_pixels_roi)"
   ]
  },
  {
   "cell_type": "markdown",
   "id": "9189bcd6",
   "metadata": {},
   "source": [
    "## 6. Create new crystal map with corrected coordinates and particle locations"
   ]
  },
  {
   "cell_type": "code",
   "execution_count": 26,
   "id": "8435ae1c",
   "metadata": {},
   "outputs": [],
   "source": [
    "xmap_refori = oio.load(os.path.join(dir_kp, \"xmap_refori.h5\"))\n",
    "xmap_refori.scan_unit = \"um\""
   ]
  },
  {
   "cell_type": "markdown",
   "id": "301d4b74",
   "metadata": {},
   "source": [
    "Get BSE ROI to insert into crystal map"
   ]
  },
  {
   "cell_type": "code",
   "execution_count": 27,
   "id": "c554f13f",
   "metadata": {},
   "outputs": [],
   "source": [
    "# Rescale\n",
    "bse_roi = skt.rescale(bse, step_size[\"bse\"] / step_size[\"ebsd\"])\n",
    "\n",
    "# Pad\n",
    "dr, dc = np.array(out_shape) - np.array(bse_roi.shape)\n",
    "if dr > 0:\n",
    "    bse_roi = np.pad(bse_roi, [(0, dr), (0, 0)])\n",
    "else:\n",
    "    bse_roi = bse_roi[:out_shape[0]]\n",
    "if dc > 0:\n",
    "    bse_roi = np.pad(bse_roi, [(0, 0), (0, dc)])\n",
    "else:\n",
    "    bse_roi = bse_roi[:, :out_shape[1]]\n",
    "\n",
    "# Mask\n",
    "bse_roi[~mask] = 0"
   ]
  },
  {
   "cell_type": "markdown",
   "id": "bdc0a60f",
   "metadata": {},
   "source": [
    "Map EBSD orientations, phase IDs etc."
   ]
  },
  {
   "cell_type": "code",
   "execution_count": 30,
   "id": "17e34143",
   "metadata": {},
   "outputs": [],
   "source": [
    "# Rotations\n",
    "rot_out = Rotation.identity((out_size,))\n",
    "rot_out[rc_out_1d] = xmap_refori._rotations[rc_in_1d]\n",
    "\n",
    "# Phase ID\n",
    "phase_id_out = -np.ones(out_size, dtype=int)\n",
    "phase_id_out[rc_out_1d] = xmap_refori._phase_id[rc_in_1d]\n",
    "\n",
    "# Spatial coordinates\n",
    "y_out, x_out = rc_out.T * xmap_refori.dx\n",
    "\n",
    "# Current properties\n",
    "prop_out = {}\n",
    "for k, v in xmap_refori.prop.items():\n",
    "    prop = np.full(out_size, fill_value=0, dtype=v.dtype)\n",
    "    prop[rc_out_1d] = v[rc_in_1d]\n",
    "    prop_out[k] = prop\n",
    "\n",
    "# New properties\n",
    "r_shift, c_shift = rc_shift.T\n",
    "prop_out[\"r_shift\"] = r_shift\n",
    "prop_out[\"c_shift\"] = c_shift\n",
    "prop_out[\"n_particles\"] = n_particles_roi.ravel()\n",
    "prop_out[\"bse\"] = bse_roi.ravel()\n",
    "prop_out[\"n_pixels\"] = n_pixels_roi.ravel()\n",
    "\n",
    "# Is in data mask\n",
    "is_in_data_out = np.zeros(out_size, dtype=bool)\n",
    "is_in_data_out[rc_out_1d] = True\n",
    "\n",
    "# Get new crystal map\n",
    "xmap_refori2 = CrystalMap(\n",
    "    rotations=rot_out,\n",
    "    phase_id=phase_id_out,\n",
    "    phase_list=xmap_refori.phases,\n",
    "    x=x_out,\n",
    "    y=y_out,\n",
    "    prop=prop_out,\n",
    "    scan_unit=xmap_refori.scan_unit,\n",
    "    is_in_data=is_in_data_out,\n",
    ")"
   ]
  },
  {
   "cell_type": "code",
   "execution_count": 31,
   "id": "53a1dad3",
   "metadata": {},
   "outputs": [],
   "source": [
    "fig, ax = plt.subplots(ncols=4, sharex=True, sharey=True, figsize=(15, 5))\n",
    "ax[0].imshow(xmap_refori2.get_map_data(\"scores\"), cmap=\"gray\")\n",
    "ax[1].imshow(xmap_refori2.get_map_data(\"n_particles\"))\n",
    "ax[2].imshow(xmap_refori2.get_map_data(\"bse\"), cmap=\"gray\")\n",
    "ax[3].imshow(xmap_refori2.get_map_data(\"r_shift\"), cmap=\"seismic\")\n",
    "for a in ax:\n",
    "    a.axis(\"off\")\n",
    "fig.tight_layout();"
   ]
  },
  {
   "cell_type": "code",
   "execution_count": 32,
   "id": "f6510181",
   "metadata": {},
   "outputs": [],
   "source": [
    "oio.save(os.path.join(dir_kp, \"xmap_refori2.h5\"), xmap_refori2, overwrite=True)\n",
    "oio.save(\n",
    "    os.path.join(dir_kp, \"xmap_refori2.ang\"),\n",
    "    xmap_refori2,\n",
    "    extra_prop=[\"n_particles\", \"n_pixels\"],\n",
    "    overwrite=True\n",
    ")"
   ]
  },
  {
   "cell_type": "markdown",
   "id": "2808eb63-c974-41a2-90e7-6303bca60d90",
   "metadata": {},
   "source": [
    "Compare map areas before and after correction"
   ]
  },
  {
   "cell_type": "code",
   "execution_count": 33,
   "id": "95441f4b-f69d-49bc-a06d-c9eaa6a2a5ab",
   "metadata": {},
   "outputs": [
    {
     "name": "stdout",
     "output_type": "stream",
     "text": [
      "ROI\n",
      "--- \n",
      "Nominal (square):\t [77.1 77.1] um^2 \n",
      "Actual (non-square):\t [72.7 74.6] um^2\n",
      "\n",
      "Area\n",
      "---- \n",
      "Nominal:\t\t 5944.41 um^2 \n",
      "Actual:\t\t\t 5082.00 um^2 \n",
      "Actual / nominal:\t 85.5%\n"
     ]
    }
   ],
   "source": [
    "# Shape of ROI\n",
    "nominal_shape = np.array(xmap_refori.shape) * xmap_refori.dx\n",
    "actual_shape = (\n",
    "    xmap_refori2.y.max() - xmap_refori2.y.min(),\n",
    "    xmap_refori2.x.max() - xmap_refori2.x.min()\n",
    ")\n",
    "print(\n",
    "    \"ROI\\n---\",\n",
    "    \"\\nNominal (square):\\t\", np.round(nominal_shape, decimals=1), \"um^2\",\n",
    "    \"\\nActual (non-square):\\t\", np.round(actual_shape, decimals=1), \"um^2\"\n",
    ")\n",
    "\n",
    "# Total area of scanned points\n",
    "nominal_area = xmap_refori.size * xmap_refori.dx ** 2\n",
    "actual_area = xmap_refori2.size * xmap_refori2.dx ** 2\n",
    "print(\n",
    "    \"\\nArea\\n----\",\n",
    "    f\"\\nNominal:\\t\\t {nominal_area:.2f} um^2\",\n",
    "    f\"\\nActual:\\t\\t\\t {actual_area:.2f} um^2\",\n",
    "    f\"\\nActual / nominal:\\t {100 * actual_area / nominal_area:.1f}%\",\n",
    ")"
   ]
  },
  {
   "cell_type": "markdown",
   "id": "6cf7e851-f1da-4881-a8a4-4f3d62cea76c",
   "metadata": {
    "tags": []
   },
   "source": [
    "## Compare similarity of corrected EBSD map and BSE image"
   ]
  },
  {
   "cell_type": "code",
   "execution_count": null,
   "id": "c4bf7068-843b-42ed-a133-59673a5bb432",
   "metadata": {},
   "outputs": [],
   "source": [
    "def norm_data(a):\n",
    "    return (a - np.mean(a)) / np.std(a)\n",
    "\n",
    "\n",
    "def ncc(a, b):\n",
    "    return np.sum(norm_data(a) * norm_data(b)) / a.size\n",
    "\n",
    "\n",
    "def draw_random_control_points(cp_bse, cp_ebsd, n):\n",
    "    n_all = cp_bse.shape[0]\n",
    "    keep_idx = np.random.choice(np.arange(n_all), size=n_all - n, replace=False)\n",
    "    return cp_bse_scaled[keep_idx], cp_ebsd[keep_idx], keep_idx"
   ]
  },
  {
   "cell_type": "markdown",
   "id": "ffec9e98-681a-4e07-8a5a-e70ab8250ed7",
   "metadata": {},
   "source": [
    "Similarity with all CPs"
   ]
  },
  {
   "cell_type": "code",
   "execution_count": null,
   "id": "bc05ea75-8c0d-48fb-8b35-45a374815d87",
   "metadata": {},
   "outputs": [],
   "source": [
    "ncc(ebsd_correct3[mask2], bse2[mask2])"
   ]
  },
  {
   "cell_type": "code",
   "execution_count": null,
   "id": "ef18f561-e395-446f-ae11-d0d299019de9",
   "metadata": {},
   "outputs": [],
   "source": [
    "scale = delta[\"ebsd\"] / delta[\"bse\"]\n",
    "\n",
    "out_shape = out_shapes[dset_no]\n",
    "out_size = int(np.prod(out_shape))\n",
    "rc_out = np.indices(out_shape, dtype=float).reshape((2, -1)).T\n",
    "n_chunks = 100\n",
    "chunk_size = int(np.ceil(out_size / n_chunks))"
   ]
  },
  {
   "cell_type": "markdown",
   "id": "5722f6f0-f561-4058-aa11-c70a48f5b8a3",
   "metadata": {},
   "source": [
    "Remove CPs in steps and perform 30 trials per n removals (takes about 10 minutes with the given parameters)"
   ]
  },
  {
   "cell_type": "code",
   "execution_count": null,
   "id": "75a51288-42b9-4654-bdc3-5e64ff41459b",
   "metadata": {},
   "outputs": [],
   "source": [
    "subtract = np.arange(5, n_cps - 5, 5)\n",
    "n_trials = 30\n",
    "\n",
    "ncc_scores = np.zeros((len(subtract), n_trials))\n",
    "n_cps_all = cp_ebsd.shape[0]\n",
    "cps_keep_idx = np.zeros((len(subtract), n_trials, n_cps_all), dtype=int)\n",
    "\n",
    "for i, sub in enumerate(subtract):\n",
    "    delayed_list = []\n",
    "    for trial in range(n_trials):\n",
    "        cp_bse_scaled2, cp_ebsd2, keep_idx = draw_random_control_points(cp_bse_scaled, cp_ebsd, sub)\n",
    "        cps_keep_idx[i, trial, :n_cps_all - sub] = keep_idx\n",
    "        for idx in range(0, n_chunks * chunk_size, chunk_size):\n",
    "            rc_chunk = rc_out[idx:idx + chunk_size]\n",
    "            rc_in_part = dask.delayed(morphops.tps_warp)(X=cp_bse_scaled2, Y=cp_ebsd2, pts=rc_chunk)\n",
    "            delayed_list.append(rc_in_part)\n",
    "\n",
    "    with ProgressBar():\n",
    "        rc_in_all = np.stack(dask.compute(*delayed_list)).reshape((n_trials, out_size, 2))\n",
    "\n",
    "    for trial in trange(n_trials):\n",
    "        rc_in = rc_in_all[trial]\n",
    "        rc_in_1d, rc_in_2d, rc_out_1d, rc_out_2d = get_mapping_arrays(\n",
    "            rc_in=rc_in, in_shape=ebsd.shape, out_shape=out_shape\n",
    "        )\n",
    "        \n",
    "        ebsd_correct_i = map_in_image(ebsd, out_shape, rc_in_2d, rc_out_2d)\n",
    "        ebsd_correct2_i = skt.rescale(ebsd_correct_i, scale)\n",
    "        ebsd_correct3_i = ebsd_correct2_i[:bse.shape[0], :bse.shape[1]]\n",
    "        \n",
    "        mask_i = np.zeros(out_shape, dtype=bool)\n",
    "        mask_i[rc_out_2d] = True\n",
    "        mask2_i = skt.rescale(mask_i, scale).astype(bool)\n",
    "        mask2_i = mask2_i[:bse.shape[0], :bse.shape[1]]\n",
    "\n",
    "        ncc_scores[i, trial] = ncc(ebsd_correct3_i[mask2_i], bse[mask2_i])\n",
    "    print(f\"{sub}: \", ncc_scores[i].mean())"
   ]
  },
  {
   "cell_type": "markdown",
   "id": "e6407503-73bc-4437-be98-70cd85fc1422",
   "metadata": {},
   "source": [
    "Save results to file"
   ]
  },
  {
   "cell_type": "code",
   "execution_count": null,
   "id": "4acd783f-e468-4493-914c-193e9511f4ea",
   "metadata": {},
   "outputs": [],
   "source": [
    "np.save(os.path.join(dir_bse, \"cps_keep_idx\"), cps_keep_idx)\n",
    "np.save(os.path.join(dir_bse, \"ncc_scores\"), ncc_scores)"
   ]
  },
  {
   "cell_type": "code",
   "execution_count": null,
   "id": "db32ba71-deb8-4210-a407-6703660fa22d",
   "metadata": {},
   "outputs": [],
   "source": [
    "cps_keep_idx = np.load(os.path.join(dir_imreg, \"cps_keep_idx.npy\"))\n",
    "ncc_scores = np.load(os.path.join(dir_imreg, \"ncc_scores.npy\"))\n",
    "n_cps_all = cp_ebsd.shape[0]\n",
    "subtract = np.arange(5, n_cps - 5, 5)\n",
    "n_trials = 30\n",
    "n_cps_used = n_cps_all - np.array(subtract)\n",
    "n_cps_used = np.append(n_cps_used[::-1], n_cps_all)[::-1]"
   ]
  },
  {
   "cell_type": "code",
   "execution_count": null,
   "id": "24fba466-44d4-4587-a190-3c2458835ee7",
   "metadata": {},
   "outputs": [],
   "source": [
    "ncc_scores_mean_rounded = np.round(ncc_scores_mean, 4)\n",
    "conf_int_rounded = np.round(conf_int, 4)\n",
    "ncc_diff_rel_rounded = np.round(ncc_diff_rel, 4)\n",
    "for i in range(len(ncc_scores_mean_rounded)):\n",
    "    print(n_cps_used[i], ncc_scores_mean_rounded[i], conf_int_rounded[i], ncc_diff_rel_rounded[i])"
   ]
  },
  {
   "cell_type": "markdown",
   "id": "9b8d647a-68ed-44d6-a3fd-4939f8543230",
   "metadata": {},
   "source": [
    "Plot absolute decrease in $r$"
   ]
  },
  {
   "cell_type": "code",
   "execution_count": null,
   "id": "d0ec8d8b-6d2e-4019-840c-fb47d871b6cf",
   "metadata": {},
   "outputs": [],
   "source": [
    "n_cps_used = n_cps_all - np.array(subtract)\n",
    "ncc_scores_mean = ncc_scores.mean(axis=1)\n",
    "conf_int = 1.96 * ncc_scores.std(axis=1) / np.sqrt(n_trials)\n",
    "\n",
    "# Prepend all CPs\n",
    "n_cps_used = np.append(n_cps_used[::-1], n_cps_all)[::-1]\n",
    "ncc_scores_mean = np.append(ncc_scores_mean[::-1], ncc(ebsd_correct3[mask2], bse2[mask2]))[::-1]\n",
    "conf_int = np.append(conf_int[::-1], 0)[::-1]\n",
    "\n",
    "fig, ax = plt.subplots()\n",
    "ax.plot(n_cps_used, ncc_scores_mean)\n",
    "ax.fill_between(n_cps_used, y1=ncc_scores_mean - conf_int, y2=ncc_scores_mean + conf_int, alpha=0.5)\n",
    "ax.invert_xaxis()\n",
    "ax.set_xlabel(\"Control points used in registration\")\n",
    "ax.set_ylabel(r\"Normalized cross correlation $\\rho$\")\n",
    "fig.tight_layout()\n",
    "fig.savefig(os.path.join(dir_bse, \"ncc_vs_n_cps.png\"), **savefig_kw)"
   ]
  },
  {
   "cell_type": "markdown",
   "id": "367214cf-42df-4c9a-acb0-26d19481e45d",
   "metadata": {},
   "source": [
    "Plot relative increase in the difference of $r$"
   ]
  },
  {
   "cell_type": "code",
   "execution_count": null,
   "id": "53ef67e4-26cb-4b67-b6c8-54b674a27484",
   "metadata": {},
   "outputs": [],
   "source": [
    "ncc_diff = np.append(np.diff(ncc_scores_mean[::-1]), 0)[::-1]\n",
    "ncc_diff_rel = 100 * ncc_diff / ncc_scores_mean\n",
    "\n",
    "fig, ax = plt.subplots()\n",
    "ax.plot(n_cps_used, ncc_diff_rel)\n",
    "ax.invert_xaxis()\n",
    "ax.set_xlabel(\"Control points used in registration\")\n",
    "ax.set_ylabel(r\"Relative error in $\\rho$ [%], $100 \\cdot (\\rho_i - \\rho_{i + 1}) / \\rho_i$\")\n",
    "fig.tight_layout()\n",
    "fig.savefig(os.path.join(dir_bse, \"ncc_error_vs_n_cps.png\"), **savefig_kw)"
   ]
  },
  {
   "cell_type": "markdown",
   "id": "d20cb87b-d998-4126-81c6-c257e2c53fb8",
   "metadata": {},
   "source": [
    "### Similarity of corrected EBSD map and BSE image from all three data sets"
   ]
  },
  {
   "cell_type": "code",
   "execution_count": null,
   "id": "969668c6-289b-4682-9634-2a3f71932bfd",
   "metadata": {},
   "outputs": [],
   "source": [
    "ncc_scores_all = []\n",
    "n_cps_kept = []\n",
    "for i in range(1, 4):\n",
    "    dir_bse_i = os.path.join(dir_data, str(i), \"bse\")\n",
    "    ncc_scores_i = np.load(os.path.join(dir_bse_i, \"ncc_scores.npy\"))\n",
    "    ncc_scores_all.append(ncc_scores_i)\n",
    "    \n",
    "    n_cps_kept.append(np.arange(5, n_cps[i] - 5, 5))"
   ]
  },
  {
   "cell_type": "code",
   "execution_count": null,
   "id": "fa53ec45-d7d6-4cb0-8527-b61b1c285d40",
   "metadata": {},
   "outputs": [],
   "source": [
    "n_trials = ncc_scores_all[0].shape[1]\n",
    "\n",
    "labels = [\"1$^{\\mathrm{st}}$\", \"2$^{\\mathrm{nd}}$\", \"3$^{\\mathrm{rd}}$\"]\n",
    "\n",
    "fig, ax = plt.subplots(ncols=2, figsize=(10, 3))\n",
    "for i in range(3):\n",
    "    label_i = f\"{labels[i]} dataset\"\n",
    "    n_cps_used_i = n_cps[i + 1] - n_cps_kept[i]\n",
    "    ncc_scores_mean_i = ncc_scores_all[i].mean(axis=1)\n",
    "    conf_int_i = 1.96 * ncc_scores_all[i].std(axis=1) / np.sqrt(n_trials)\n",
    "    ax[0].plot(n_cps_used_i, ncc_scores_mean_i, label=label_i)\n",
    "    ax[0].fill_between(\n",
    "        n_cps_used_i, y1=ncc_scores_mean_i - conf_int_i,\n",
    "        y2=ncc_scores_mean_i + conf_int_i,\n",
    "        alpha=0.5\n",
    "    )\n",
    "\n",
    "    ncc_diff_i = np.append(np.diff(ncc_scores_mean_i[::-1]), 0)[::-1]\n",
    "    ncc_diff_rel_i = 100 * ncc_diff_i / ncc_scores_mean_i\n",
    "    ax[1].plot(n_cps_used_i, ncc_diff_rel_i, label=label_i)\n",
    "\n",
    "ax[0].invert_xaxis()\n",
    "ax[1].invert_xaxis()\n",
    "ax[0].set_xlim(100, 0)\n",
    "ax[1].set_xlim(100, 0)\n",
    "ax[1].set_ylim(0)\n",
    "ax[0].set_xlabel(\"Control points in image registration\")\n",
    "ax[1].set_xlabel(\"Control points in image registration\")\n",
    "ax[0].set_ylabel(r\"Normalized cross correlation $r$\")\n",
    "ax[1].set_ylabel(r\"Relative error in $r$\" + \"\\n\" + r\"$100 \\cdot (r_i - r_{i + 1}) / r_i$ [%]\")\n",
    "ax[0].text(0, 1.03, \"(a)\", fontweight=\"bold\", transform=ax[0].transAxes) \n",
    "ax[1].text(0, 1.03, \"(b)\", fontweight=\"bold\", transform=ax[1].transAxes) \n",
    "ax[0].legend()\n",
    "ax[1].legend()\n",
    "fig.tight_layout()\n",
    "\n",
    "fig.savefig(\n",
    "    os.path.join(dir_suppl, \"registration_similarity\", \"registration_similarity.pdf\"),\n",
    "    **savefig_kw\n",
    ")"
   ]
  }
 ],
 "metadata": {
  "kernelspec": {
   "display_name": "Python 3 (ipykernel)",
   "language": "python",
   "name": "python3"
  },
  "language_info": {
   "codemirror_mode": {
    "name": "ipython",
    "version": 3
   },
   "file_extension": ".py",
   "mimetype": "text/x-python",
   "name": "python",
   "nbconvert_exporter": "python",
   "pygments_lexer": "ipython3",
   "version": "3.9.13"
  }
 },
 "nbformat": 4,
 "nbformat_minor": 5
}
