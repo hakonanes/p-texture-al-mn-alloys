{
 "cells": [
  {
   "cell_type": "markdown",
   "metadata": {},
   "source": [
    "# Detect particles in BSE images and EBSD intensity maps\n",
    "\n",
    "Håkon Wiik Ånes (hakon.w.anes@ntnu.no)"
   ]
  },
  {
   "cell_type": "code",
   "execution_count": 7,
   "metadata": {},
   "outputs": [
    {
     "name": "stdout",
     "output_type": "stream",
     "text": [
      "Run date:  2022-08-02\n",
      "\n",
      "Software versions\n",
      "-----------------\n",
      "mapregions : 0.1.dev0\n",
      "matplotlib : 3.5.2\n",
      "numpy : 1.22.4\n",
      "orix : 0.9.0.post0\n",
      "scipy : 1.8.1\n",
      "scikit-image : 0.19.3\n"
     ]
    }
   ],
   "source": [
    "# Switch to interactive Matplotlib backend (e.g. qt5) for control point determination\n",
    "%matplotlib qt5\n",
    "\n",
    "from datetime import date\n",
    "import importlib_metadata\n",
    "import os\n",
    "\n",
    "from mapregions import MapRegions\n",
    "import matplotlib.pyplot as plt\n",
    "import numpy as np\n",
    "from scipy import ndimage\n",
    "import skimage.color as skc\n",
    "import skimage.filters as skf\n",
    "from skimage.segmentation import watershed\n",
    "\n",
    "\n",
    "# Directories\n",
    "sample = \"0s\"\n",
    "dset_no = 2\n",
    "dir_data = f\"/home/hakon/phd/data/p/prover/{sample}/{dset_no}\"\n",
    "dir_bse = os.path.join(dir_data, \"bse\")\n",
    "dir_imreg = os.path.join(dir_data, \"imreg\")\n",
    "dir_kp = os.path.join(dir_data, \"kp\")\n",
    "dir_partdet = os.path.join(dir_data, \"partdet\")\n",
    "\n",
    "# Matplotlib\n",
    "plt.rcParams.update({\"axes.grid\": False, \"figure.figsize\": (15, 5), \"font.size\": 12})\n",
    "savefig_kw = dict(bbox_inches=\"tight\", pad_inches=0, transparent=True, dpi=150)\n",
    "scatter_kw = dict(s=70, linewidth=2, facecolor=\"none\", clip_on=False)\n",
    "\n",
    "print(\"Run date: \", date.today())\n",
    "print(\"\\nSoftware versions\\n-----------------\")\n",
    "for pkg in [\"mapregions\", \"matplotlib\", \"numpy\", \"orix\", \"scipy\", \"scikit-image\"]:\n",
    "    if pkg == \"numpy\":\n",
    "        ver = np.__version__\n",
    "    else:\n",
    "        ver = importlib_metadata.version(pkg)\n",
    "    print(pkg, \":\", ver)"
   ]
  },
  {
   "cell_type": "markdown",
   "metadata": {},
   "source": [
    "Step sizes (`bse` is upscaled)"
   ]
  },
  {
   "cell_type": "code",
   "execution_count": 8,
   "metadata": {},
   "outputs": [],
   "source": [
    "step_size = dict(ebsd=0.1, bse=0.025, bse_full=1 / 39.2)"
   ]
  },
  {
   "cell_type": "markdown",
   "metadata": {},
   "source": [
    "Dataset specific parameters"
   ]
  },
  {
   "cell_type": "code",
   "execution_count": 16,
   "metadata": {},
   "outputs": [],
   "source": [
    "# Remove zero-regions resulting from stitching of BSE images\n",
    "crop_bse = {\n",
    "    \"0s\": {\n",
    "        1: (slice(0, -1), slice(0, -1)),\n",
    "        2: (slice(0, -1), slice(0, -1)),\n",
    "        3: (slice(0, -1), slice(0, -1)),\n",
    "    },\n",
    "    \"175c\": {\n",
    "        1: (slice(107, -1), slice(273, -1)),\n",
    "        2: (slice(117, -1), slice(0, -1)),\n",
    "        3: (slice(224, 3670), slice(251, -1)),\n",
    "    },\n",
    "    \"300c\": {\n",
    "        1: (slice(0, 3826), slice(0, -1)),\n",
    "        2: (slice(0, 3418), slice(0, -1)),\n",
    "        3: (slice(16, 3916), slice(0, -1)),\n",
    "    },\n",
    "    \"325c\": {\n",
    "        1: (slice(0, -1), slice(0, -1)),\n",
    "        2: (slice(0, 3277), slice(0, -1)),\n",
    "        3: (slice(129, 3745), slice(0, -1)),\n",
    "    },\n",
    "}\n",
    "crop_bse_full = {\n",
    "    \"0s\": {\n",
    "        1: (slice(28, 3795), slice(43, 5634)),\n",
    "        2: (slice(36, 5973), slice(171, 5946)),\n",
    "        3: (slice(10, 5560), slice(313, 5717)),\n",
    "    },\n",
    "    \"175c\": {\n",
    "        1: (slice(147, 3962), slice(36, 4442)),\n",
    "        2: (slice(None, None), slice(None, None)),\n",
    "        3: (slice(None, None), slice(None, None)),\n",
    "    },\n",
    "    \"300c\": {\n",
    "        1: (slice(1,  3749), slice(124, 5576)),\n",
    "        2: (slice(16, 3837), slice(137, 5798)),\n",
    "        3: (slice(25, 3949), slice(50,  5289))\n",
    "    },\n",
    "    \"325c\": {\n",
    "        1: (slice(2, 3795), slice(570, 5850)),\n",
    "        2: (slice(28, 3811), slice(17, 5497)),\n",
    "        3: (slice(27, 3575), slice(199, 5786)),\n",
    "    },\n",
    "}"
   ]
  },
  {
   "cell_type": "markdown",
   "metadata": {},
   "source": [
    "Image to load"
   ]
  },
  {
   "cell_type": "code",
   "execution_count": 10,
   "metadata": {},
   "outputs": [],
   "source": [
    "#data_type = \"ebsd\"\n",
    "#data_type = \"bse\"\n",
    "data_type = \"bse_full\""
   ]
  },
  {
   "cell_type": "markdown",
   "metadata": {},
   "source": [
    "Load image"
   ]
  },
  {
   "cell_type": "code",
   "execution_count": 17,
   "metadata": {},
   "outputs": [],
   "source": [
    "if data_type == \"ebsd\":\n",
    "    mask = np.load(os.path.join(dir_imreg, \"mask_ebsd_correct.npy\"))\n",
    "    img = plt.imread(os.path.join(dir_imreg, \"ebsd_correct.png\"))\n",
    "else:\n",
    "    if data_type == \"bse\":\n",
    "        img = plt.imread(os.path.join(dir_imreg, \"bse_rescaled.png\"))[crop_bse[sample][dset_no]]\n",
    "    else:  # bse_full\n",
    "        img = plt.imread(os.path.join(dir_bse, \"4500x_cropped2_fused.png\"))[crop_bse_full[sample][dset_no]]\n",
    "    if len(img.shape) > 2:\n",
    "        img = skc.rgb2gray(img[..., :3])\n",
    "    mask = np.ones(img.shape, dtype=bool)"
   ]
  },
  {
   "cell_type": "code",
   "execution_count": 18,
   "metadata": {},
   "outputs": [
    {
     "data": {
      "text/plain": [
       "<matplotlib.image.AxesImage at 0x7fc5f9b9d070>"
      ]
     },
     "execution_count": 18,
     "metadata": {},
     "output_type": "execute_result"
    }
   ],
   "source": [
    "plt.figure()\n",
    "plt.imshow(img)"
   ]
  },
  {
   "cell_type": "markdown",
   "metadata": {},
   "source": [
    "## Detection steps\n",
    "\n",
    "### 1. Intensity processing"
   ]
  },
  {
   "cell_type": "code",
   "execution_count": 7,
   "metadata": {},
   "outputs": [],
   "source": [
    "# Flat field by subtracting long-range intensity variations\n",
    "sigma = int(5 / step_size[\"bse\"])  # microns / step size\n",
    "blur = ndimage.gaussian_filter(img, sigma=sigma)\n",
    "img2 = img - blur"
   ]
  },
  {
   "cell_type": "code",
   "execution_count": 8,
   "metadata": {},
   "outputs": [],
   "source": [
    "# Normalize to enable thresholding independent of absolute intensities\n",
    "img3 = img2 - img2[mask].mean()\n",
    "img3 = img3 / np.linalg.norm(img3[mask])"
   ]
  },
  {
   "cell_type": "code",
   "execution_count": 9,
   "metadata": {},
   "outputs": [],
   "source": [
    "figsize = (15, 5 * img.shape[0] / img.shape[1])\n",
    "\n",
    "# Inspect intensity processing\n",
    "fig, ax = plt.subplots(ncols=3, sharex=True, sharey=True, figsize=figsize)\n",
    "ax[0].imshow(img, cmap=\"gray\")\n",
    "ax[1].imshow(blur)\n",
    "ax[2].imshow(img3, cmap=\"gray\")\n",
    "for a in ax:\n",
    "    a.axis(\"off\")\n",
    "fig.tight_layout(pad=0.5)\n",
    "fig.savefig(os.path.join(dir_partdet, f\"{data_type}_maps_intensity_processing.png\"), **savefig_kw)"
   ]
  },
  {
   "cell_type": "markdown",
   "metadata": {},
   "source": [
    "### 2. Generate elevation map"
   ]
  },
  {
   "cell_type": "code",
   "execution_count": 10,
   "metadata": {},
   "outputs": [],
   "source": [
    "# Elevation map\n",
    "elevation_map = skf.sobel(img3)"
   ]
  },
  {
   "cell_type": "markdown",
   "metadata": {},
   "source": [
    "### 3. Determine markers for background and particles"
   ]
  },
  {
   "cell_type": "code",
   "execution_count": 11,
   "metadata": {},
   "outputs": [],
   "source": [
    "int_range = (img3[mask].min(), img3[mask].max())\n",
    "diff = abs(np.diff(int_range)[0])\n",
    "\n",
    "# Threshold for markers\n",
    "threshold = skf.threshold_triangle(img3[mask])\n",
    "background = threshold + 0.15 * diff\n",
    "particles = threshold + 0.25 * diff\n",
    "\n",
    "# Intensity histogram\n",
    "fig, ax = plt.subplots()\n",
    "ax.hist(img3[mask].ravel(), bins=255, range=int_range);\n",
    "ax.set_xlabel(\"Intensity\")\n",
    "ax.set_ylabel(\"Frequency\")\n",
    "ax.set_xlim(int_range)\n",
    "ax.axvspan(int_range[0], background, color=\"C1\", alpha=0.5, label=\"Background\")\n",
    "ax.axvspan(particles, int_range[1], color=\"C2\", alpha=0.5, label=\"Particles\")\n",
    "ax.legend()\n",
    "fig.savefig(os.path.join(dir_partdet, f\"{data_type}_hist_intensity.png\"), **savefig_kw)"
   ]
  },
  {
   "cell_type": "markdown",
   "metadata": {},
   "source": [
    "### 4. Compute watershed and 5. remove holes within particles segmented from the watershed"
   ]
  },
  {
   "cell_type": "code",
   "execution_count": 12,
   "metadata": {},
   "outputs": [
    {
     "name": "stdout",
     "output_type": "stream",
     "text": [
      "3472\n"
     ]
    }
   ],
   "source": [
    "# Generate sure markers of background and particles from the extreme parts of the\n",
    "# intensity histogram\n",
    "markers = np.zeros_like(img3)\n",
    "markers[img3 < background] = 1\n",
    "markers[img3 > particles] = 2\n",
    "\n",
    "# Compute the watershed transformation (computationally intensive)\n",
    "segmentation = watershed(elevation_map, markers)\n",
    "\n",
    "# Remove small holes with mathematical morphology\n",
    "segmentation = ndimage.binary_fill_holes(segmentation - 1)\n",
    "\n",
    "# Label particles\n",
    "labeled_particles, n = ndimage.label(segmentation)\n",
    "print(n)\n",
    "\n",
    "# Inspect segmentation (useful to plot when optimizing processing and detection\n",
    "# parameters)\n",
    "fig, ax = plt.subplots(ncols=3, sharex=True, sharey=True, figsize=figsize)\n",
    "ax[0].imshow(img3, cmap=\"gray\")\n",
    "ax[1].imshow(markers)\n",
    "ax[2].imshow(img3, cmap=\"gray\")\n",
    "ax[2].contour(segmentation, colors=\"r\", linewidths=0.5)\n",
    "for a in ax:\n",
    "    a.axis(\"off\")\n",
    "fig.tight_layout(pad=0.5)\n",
    "fig.savefig(os.path.join(dir_partdet, f\"{data_type}_maps_segmentation.png\"), **savefig_kw)"
   ]
  },
  {
   "cell_type": "markdown",
   "metadata": {},
   "source": [
    "### 6. Remove incorrectly detected particles"
   ]
  },
  {
   "cell_type": "code",
   "execution_count": 13,
   "metadata": {},
   "outputs": [],
   "source": [
    "# Remove incorrectly detected particles\n",
    "regions = MapRegions(\n",
    "    label_map=labeled_particles,\n",
    "    background_label=0,\n",
    "    intensity_image=img3,\n",
    ")\n",
    "\n",
    "mean_intensity = regions.mean_intensity\n",
    "roundness = regions.roundness\n",
    "solidity = regions.solidity"
   ]
  },
  {
   "cell_type": "code",
   "execution_count": 14,
   "metadata": {},
   "outputs": [],
   "source": [
    "# Check spatial distribution of rejection properties\n",
    "titles = [\"Mean intensity\", \"Roundness\", \"Solidity\"]\n",
    "fig, ax = plt.subplots(ncols=3, sharex=True, sharey=True, figsize=figsize)\n",
    "ax[0].imshow(regions.get_map_data(mean_intensity))\n",
    "ax[1].imshow(regions.get_map_data(roundness))\n",
    "ax[2].imshow(regions.get_map_data(solidity))\n",
    "for i, ax_i in enumerate(ax):\n",
    "    ax_i.set_title(titles[i])\n",
    "    ax_i.axis(\"off\")\n",
    "fig.tight_layout(pad=0.5)\n",
    "fig.savefig(os.path.join(dir_partdet, f\"{data_type}_maps_reject.png\"), **savefig_kw)"
   ]
  },
  {
   "cell_type": "code",
   "execution_count": 15,
   "metadata": {},
   "outputs": [
    {
     "name": "stdout",
     "output_type": "stream",
     "text": [
      "0.0007200949476100504 0.9505779571638973 0.9907688811883999\n",
      "MapRegions: 3466\n"
     ]
    }
   ],
   "source": [
    "# Filter detected particles\n",
    "threshold_mean_intensity = np.percentile(mean_intensity, 55)  # 55\n",
    "threshold_roundness = np.percentile(roundness[roundness > 0], 20)  # 25\n",
    "threshold_solidity = np.percentile(solidity[solidity > 0], 15)  # 25\n",
    "print(threshold_mean_intensity, threshold_roundness, threshold_solidity)\n",
    "\n",
    "keep = (\n",
    "    mean_intensity > threshold_mean_intensity,\n",
    "    roundness == 0,\n",
    "    roundness > threshold_roundness,\n",
    "    solidity == 0,\n",
    "    solidity > threshold_solidity,\n",
    ")\n",
    "\n",
    "# Reject some particles\n",
    "regions2 = regions[np.logical_or.reduce(keep)]\n",
    "print(regions2)"
   ]
  },
  {
   "cell_type": "code",
   "execution_count": 16,
   "metadata": {},
   "outputs": [],
   "source": [
    "# Check histograms of rejection properties\n",
    "titles = [\"Mean intensity\", \"Roundness\", \"Solidity\"]\n",
    "# Inspect thresholds\n",
    "fig, (ax0, ax1, ax2) = plt.subplots(ncols=3, figsize=(9, 3))\n",
    "ax0.hist(mean_intensity, bins=100);\n",
    "ax1.hist(roundness, bins=100);\n",
    "ax2.hist(solidity, bins=100);\n",
    "ax0.axvspan(threshold_mean_intensity, mean_intensity.max(), color=\"C1\", alpha=0.5, label=\"Keep\")\n",
    "ax1.axvspan(threshold_roundness, roundness.max(), color=\"C1\", alpha=0.5, label=\"Keep\")\n",
    "ax2.axvspan(threshold_solidity, solidity.max(), color=\"C1\", alpha=0.5, label=\"Keep\")\n",
    "for i, ax in enumerate((ax0, ax1, ax2)):\n",
    "    ax.set_xlabel(titles[i])\n",
    "    ax.set_ylabel(\"Frequency\")\n",
    "    ax.legend()\n",
    "fig.tight_layout()\n",
    "fig.savefig(os.path.join(dir_partdet, f\"{data_type}_hist_reject.png\"), **savefig_kw)"
   ]
  },
  {
   "cell_type": "code",
   "execution_count": 17,
   "metadata": {},
   "outputs": [],
   "source": [
    "# Check plot of rejected particles\n",
    "with plt.rc_context(rc={\"lines.linewidth\": 0.5}):\n",
    "    contour_kwds = dict(zorder=2)\n",
    "    fig, ax = plt.subplots(sharex=True, sharey=True, figsize=(10, 10))\n",
    "    ax.imshow(regions.intensity_image, cmap=\"gray\")\n",
    "    ax.contour(~regions.is_background_map, colors=\"red\", **contour_kwds)\n",
    "    ax.contour(~regions2.is_background_map, colors=\"lime\", **contour_kwds)\n",
    "    ax.axis(\"off\")\n",
    "    fig.tight_layout()\n",
    "    fig.savefig(os.path.join(dir_partdet, f\"{data_type}_maps_particles.png\"), **savefig_kw)"
   ]
  },
  {
   "cell_type": "code",
   "execution_count": 18,
   "metadata": {},
   "outputs": [],
   "source": [
    "# Save labeled particles to file\n",
    "if data_type == \"ebsd\":\n",
    "    np.save(os.path.join(dir_partdet, \"ebsd_labels_filled\"), labeled_particles)\n",
    "elif data_type == \"bse\":\n",
    "    np.save(os.path.join(dir_partdet, \"bse_labels_filled_filtered\"), regions2.label_map)\n",
    "else:  # bse_full\n",
    "    np.save(os.path.join(dir_partdet, \"bse_full_labels_filled_filtered\"), regions2.label_map)"
   ]
  }
 ],
 "metadata": {
  "kernelspec": {
   "display_name": "Python 3 (ipykernel)",
   "language": "python",
   "name": "python3"
  },
  "language_info": {
   "codemirror_mode": {
    "name": "ipython",
    "version": 3
   },
   "file_extension": ".py",
   "mimetype": "text/x-python",
   "name": "python",
   "nbconvert_exporter": "python",
   "pygments_lexer": "ipython3",
   "version": "3.9.13"
  }
 },
 "nbformat": 4,
 "nbformat_minor": 4
}
