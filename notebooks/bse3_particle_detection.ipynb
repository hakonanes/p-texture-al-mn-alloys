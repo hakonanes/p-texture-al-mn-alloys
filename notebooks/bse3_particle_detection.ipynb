{
 "cells": [
  {
   "cell_type": "markdown",
   "metadata": {},
   "source": [
    "# Detect particles in BSE images and EBSD intensity maps\n",
    "\n",
    "Håkon Wiik Ånes (hakon.w.anes@ntnu.no)"
   ]
  },
  {
   "cell_type": "code",
   "execution_count": 1,
   "metadata": {},
   "outputs": [
    {
     "name": "stdout",
     "output_type": "stream",
     "text": [
      "0s 1\n",
      "Run date:  2022-09-07\n",
      "\n",
      "Software versions\n",
      "-----------------\n",
      "mapregions : 0.1.dev1\n",
      "matplotlib : 3.5.2\n",
      "numpy : 1.22.4\n",
      "orix : 0.9.0.post0\n",
      "scipy : 1.9.0\n",
      "scikit-image : 0.19.3\n"
     ]
    }
   ],
   "source": [
    "# Switch to interactive Matplotlib backend (e.g. qt5) for control point determination\n",
    "%matplotlib qt5\n",
    "\n",
    "from datetime import date\n",
    "import gc\n",
    "import importlib_metadata\n",
    "import os\n",
    "\n",
    "from mapregions import MapRegions\n",
    "import matplotlib.pyplot as plt\n",
    "import numpy as np\n",
    "from scipy import ndimage\n",
    "import skimage.color as skc\n",
    "import skimage.exposure as ske\n",
    "import skimage.io as ski\n",
    "import skimage.filters as skf\n",
    "from skimage.segmentation import watershed\n",
    "import skimage.transform as skt\n",
    "\n",
    "\n",
    "# Directories for input and output\n",
    "sample = \"0s\"\n",
    "dset_no = 1\n",
    "dir_data = f\"/home/hakon/phd/data/p/prover/{sample}/{dset_no}\"\n",
    "dir_bse = os.path.join(dir_data, \"bse\")\n",
    "dir_imreg = os.path.join(dir_data, \"imreg\")\n",
    "dir_kp = os.path.join(dir_data, \"kp\")\n",
    "dir_partdet = os.path.join(dir_data, \"partdet\")\n",
    "\n",
    "# Matplotlib configuration and keyword arguments\n",
    "plt.rcParams.update({\"axes.grid\": False, \"figure.figsize\": (15, 5), \"font.size\": 12})\n",
    "savefig_kw = dict(bbox_inches=\"tight\", pad_inches=0, transparent=True, dpi=300)\n",
    "scatter_kw = dict(s=70, linewidth=2, facecolor=\"none\", clip_on=False)\n",
    "#plt.ioff()\n",
    "\n",
    "print(sample, dset_no)\n",
    "print(\"Run date: \", date.today())\n",
    "print(\"\\nSoftware versions\\n-----------------\")\n",
    "for pkg in [\"mapregions\", \"matplotlib\", \"numpy\", \"orix\", \"scipy\", \"scikit-image\"]:\n",
    "    if pkg == \"numpy\":\n",
    "        ver = np.__version__\n",
    "    else:\n",
    "        ver = importlib_metadata.version(pkg)\n",
    "    print(pkg, \":\", ver)"
   ]
  },
  {
   "cell_type": "markdown",
   "metadata": {},
   "source": [
    "Step sizes (`bse` is upscaled)"
   ]
  },
  {
   "cell_type": "code",
   "execution_count": 2,
   "metadata": {},
   "outputs": [],
   "source": [
    "step_size = dict(ebsd=0.1, bse=0.025, bse_full=1 / 39.2)"
   ]
  },
  {
   "cell_type": "markdown",
   "metadata": {},
   "source": [
    "Dataset specific parameters"
   ]
  },
  {
   "cell_type": "code",
   "execution_count": 3,
   "metadata": {},
   "outputs": [],
   "source": [
    "# Remove zero-regions resulting from stitching of BSE images\n",
    "crop_bse = {\n",
    "    \"0s\": {\n",
    "        1: (slice(0, -1), slice(0, -1)),\n",
    "        2: (slice(0, -1), slice(0, -1)),\n",
    "        3: (slice(0, -1), slice(0, -1)),\n",
    "    },\n",
    "    \"175c\": {\n",
    "        1: (slice(107, -1), slice(273, -1)),\n",
    "        2: (slice(117, -1), slice(0, -1)),\n",
    "        3: (slice(224, 3670), slice(251, -1)),\n",
    "    },\n",
    "    \"300c\": {\n",
    "        1: (slice(0, 3826), slice(0, -1)),\n",
    "        2: (slice(0, 3418), slice(0, -1)),\n",
    "        3: (slice(16, 3916), slice(0, -1)),\n",
    "    },\n",
    "    \"325c\": {\n",
    "        1: (slice(0, -1), slice(0, -1)),\n",
    "        2: (slice(0, 3277), slice(0, -1)),\n",
    "        3: (slice(129, 3745), slice(0, -1)),\n",
    "    },\n",
    "}\n",
    "# EBSD\n",
    "ebsd_slice = {\n",
    "    \"0s\": {\n",
    "        1: (slice(392, 3272), slice(1367, 4357)),\n",
    "        2: (slice(4, 5364), slice(229, 5229)),\n",
    "        3: (slice(190, 4390), slice(787, 4487)),\n",
    "    },\n",
    "    \"175c\": {\n",
    "        1: (slice(0, 3642), slice(0, 3214)),\n",
    "        2: (slice(0, 4386), slice(205, 4206)),\n",
    "        3: (slice(0, -1), slice(0, 3354)),\n",
    "    },\n",
    "    \"300c\": {\n",
    "        1: (slice(175, -1), slice(850, 4450)),\n",
    "        2: (slice(398, -1), slice(1276, 4376)),\n",
    "        3: (slice(0, -1), slice(263, 3763)),\n",
    "    },\n",
    "    \"325c\": {\n",
    "        1: (slice(198, 3788), slice(229, 3930)),\n",
    "        2: (slice(572, -1), slice(1083, 4083)),\n",
    "        3: (slice(0, -1), slice(0, 4201)),\n",
    "    },\n",
    "}\n",
    "ebsd_pad = {\n",
    "    \"0s\": {1: [(0, 0), (0, 0)], 2: [(0, 0), (0, 0)], 3: [(0, 0), (0, 0)]},\n",
    "    \"175c\": {1: [(100, 0), (0, 0)], 2: [(0, 0), (0, 0)], 3: [(0, 0), (0, 0)]},\n",
    "    \"300c\": {1: [(0, 0), (0, 0)], 2: [(0, 0), (0, 0)], 3: [(0, 0), (0, 0)]},\n",
    "    \"325c\": {1: [(0, 0), (0, 0)], 2: [(0, 0), (0, 0)], 3: [(100, 0), (0, 0)]},\n",
    "}"
   ]
  },
  {
   "cell_type": "markdown",
   "metadata": {},
   "source": [
    "Image to load"
   ]
  },
  {
   "cell_type": "code",
   "execution_count": 4,
   "metadata": {},
   "outputs": [],
   "source": [
    "#data_type = \"ebsd\"\n",
    "data_type = \"bse\""
   ]
  },
  {
   "cell_type": "markdown",
   "metadata": {},
   "source": [
    "Load image"
   ]
  },
  {
   "cell_type": "code",
   "execution_count": 5,
   "metadata": {},
   "outputs": [],
   "source": [
    "if data_type == \"ebsd\":\n",
    "    mask = np.load(os.path.join(dir_imreg, \"mask_ebsd_correct.npy\"))\n",
    "    img = plt.imread(os.path.join(dir_imreg, \"ebsd_correct.png\"))\n",
    "    intensity_img = img.copy()\n",
    "else:\n",
    "    img = plt.imread(os.path.join(dir_bse, \"4500x_cropped2_fused_cropped_histmatch_sub.png\"))\n",
    "    intensity_img = plt.imread(os.path.join(dir_bse, \"4500x_cropped2_fused_cropped.png\"))\n",
    "    if img.ndim > 2:\n",
    "        img = skc.rgb2gray(img[..., :3])\n",
    "    if intensity_img.ndim > 2:\n",
    "        intensity_img = skc.rgb2gray(intensity_img[..., :3])\n",
    "    mask = np.ones(img.shape, dtype=bool)\n",
    "\n",
    "img = img.astype(np.float32)\n",
    "figsize = (9 * img.shape[1] / max(img.shape), 3 * img.shape[0] / max(img.shape))"
   ]
  },
  {
   "cell_type": "markdown",
   "metadata": {},
   "source": [
    "# Detection steps\n",
    "\n",
    "### 1. Intensity processing\n",
    "\n",
    "In *ImageJ*:\n",
    "1. Histogram matching to 300C #1, available in the *Bleach Correction* plugin (Image > Adjust > Bleach Correction)\n",
    "2. Unsharp mask, i.e. subtract a blurred copy of the image and rescale to obtain the same contrast of large structures as in the input image (Process > Filters > Unsharp Mask)\n",
    "3. Subtract background (Process > Subtract Background)"
   ]
  },
  {
   "cell_type": "code",
   "execution_count": 6,
   "metadata": {},
   "outputs": [],
   "source": [
    "# Normalize to enable thresholding independent of absolute intensities\n",
    "img2 = img - img[mask].mean()\n",
    "img3 = img2 / np.linalg.norm(img2[mask])"
   ]
  },
  {
   "cell_type": "markdown",
   "metadata": {},
   "source": [
    "### 2. Generate elevation map"
   ]
  },
  {
   "cell_type": "code",
   "execution_count": 7,
   "metadata": {},
   "outputs": [],
   "source": [
    "# Elevation map\n",
    "elevation_map = skf.sobel(img3).astype(np.float32)"
   ]
  },
  {
   "cell_type": "markdown",
   "metadata": {},
   "source": [
    "### 3. Determine markers for background and particles"
   ]
  },
  {
   "cell_type": "code",
   "execution_count": 8,
   "metadata": {},
   "outputs": [
    {
     "name": "stdout",
     "output_type": "stream",
     "text": [
      "1.1931324e-05 0.0003617879572630045 0.0005367162741094943\n"
     ]
    }
   ],
   "source": [
    "int_range = (img3[mask].min(), img3[mask].max())\n",
    "diff = abs(np.diff(int_range)[0])\n",
    "\n",
    "# Threshold for markers\n",
    "threshold = skf.threshold_triangle(img3[mask])\n",
    "background = threshold + 0.20 * diff  # 0.15\n",
    "particles = threshold + 0.30 * diff  # 0.25\n",
    "print(threshold, background, particles)\n",
    "\n",
    "## Intensity histogram\n",
    "#fig, ax = plt.subplots()\n",
    "#ax.hist(img3[mask].ravel(), bins=255, range=int_range);\n",
    "#ax.set_xlabel(\"Intensity\")\n",
    "#ax.set_ylabel(\"Frequency\")\n",
    "#ax.set_xlim(int_range)\n",
    "#ax.axvspan(int_range[0], background, color=\"C1\", alpha=0.5, label=\"Background\")\n",
    "#ax.axvspan(particles, int_range[1], color=\"C2\", alpha=0.5, label=\"Particles\")\n",
    "#ax.legend()\n",
    "#fig.savefig(os.path.join(dir_partdet, f\"{data_type}_hist_intensity.png\"), **savefig_kw)"
   ]
  },
  {
   "cell_type": "markdown",
   "metadata": {},
   "source": [
    "### 4. Compute watershed and 5. remove holes within particles segmented from the watershed"
   ]
  },
  {
   "cell_type": "code",
   "execution_count": 20,
   "metadata": {},
   "outputs": [],
   "source": [
    "# Generate sure markers of background and particles from the extreme parts of the\n",
    "# intensity histogram\n",
    "markers = np.zeros(img3.shape, dtype=np.uint8)\n",
    "markers[img3 < background] = 1\n",
    "markers[img3 > particles] = 2\n",
    "\n",
    "# Compute the watershed transformation (computationally intensive)\n",
    "segmentation = watershed(elevation_map, markers)\n",
    "\n",
    "# Remove small holes with mathematical morphology\n",
    "segmentation = ndimage.binary_fill_holes(segmentation - 1)\n",
    "\n",
    "# Label particles\n",
    "#labeled_particles, n = ndimage.label(segmentation)\n",
    "#print(n)\n",
    "\n",
    "# Inspect segmentation (useful to plot when optimizing processing and detection\n",
    "# parameters)\n",
    "#fig, ax = plt.subplots(ncols=3, sharex=True, sharey=True, figsize=figsize)\n",
    "#ax[0].imshow(img3, cmap=\"gray\")\n",
    "#ax[1].imshow(markers)\n",
    "#ax[2].imshow(img3, cmap=\"gray\")\n",
    "#ax[2].contour(segmentation, colors=\"r\", linewidths=0.5)\n",
    "#for a in ax:\n",
    "#    a.axis(\"off\")\n",
    "#fig.tight_layout(pad=0.1)\n",
    "#fig.savefig(os.path.join(dir_partdet, f\"{data_type}_maps_segmentation.png\"), **savefig_kw)"
   ]
  },
  {
   "cell_type": "code",
   "execution_count": 39,
   "metadata": {},
   "outputs": [
    {
     "name": "stdout",
     "output_type": "stream",
     "text": [
      "6747\n"
     ]
    }
   ],
   "source": [
    "\n",
    "\n",
    "\n",
    "step_size = dict(ebsd=100, bse=1 / 39.2e-3)\n",
    "\n",
    "scale_ebsd_bse = step_size[\"ebsd\"] / step_size[\"bse\"]\n",
    "scale_bse_ebsd = step_size[\"bse\"] / step_size[\"ebsd\"]\n",
    "x_bin = int(np.ceil(scale_ebsd_bse))\n",
    "upscale_factor = x_bin * scale_bse_ebsd\n",
    "\n",
    "segmentation2 = np.pad(segmentation, ebsd_pad[sample][dset_no])\n",
    "segmentation3 = segmentation2[ebsd_slice[sample][dset_no]]\n",
    "segmentation4 = skt.rescale(segmentation3, upscale_factor)\n",
    "\n",
    "intensity_img2 = np.pad(intensity_img, ebsd_pad[sample][dset_no])\n",
    "intensity_img3 = intensity_img2[ebsd_slice[sample][dset_no]]\n",
    "intensity_img4 = skt.rescale(intensity_img3, upscale_factor)\n",
    "\n",
    "labeled_particles, n = ndimage.label(segmentation4)\n",
    "print(n)"
   ]
  },
  {
   "cell_type": "markdown",
   "metadata": {},
   "source": [
    "### 6. Remove incorrectly detected particles"
   ]
  },
  {
   "cell_type": "code",
   "execution_count": null,
   "metadata": {},
   "outputs": [],
   "source": [
    "del elevation_map\n",
    "del markers\n",
    "del segmentation\n",
    "gc.collect()"
   ]
  },
  {
   "cell_type": "code",
   "execution_count": 40,
   "metadata": {},
   "outputs": [],
   "source": [
    "# Remove incorrectly detected particles\n",
    "regions = MapRegions(\n",
    "    label_map=labeled_particles,\n",
    "    background_label=0,\n",
    "    intensity_image=intensity_img4,\n",
    ")\n",
    "mean_intensity = regions.mean_intensity\n",
    "roundness = regions.roundness\n",
    "solidity = regions.solidity"
   ]
  },
  {
   "cell_type": "code",
   "execution_count": null,
   "metadata": {},
   "outputs": [],
   "source": [
    "## Check spatial distribution of rejection properties\n",
    "#titles = [\"Mean intensity\", \"Roundness\", \"Solidity\"]\n",
    "#fig, ax = plt.subplots(ncols=3, sharex=True, sharey=True, figsize=figsize)\n",
    "#ax[0].imshow(regions.get_map_data(mean_intensity))\n",
    "#ax[1].imshow(regions.get_map_data(roundness))\n",
    "#ax[2].imshow(regions.get_map_data(solidity))\n",
    "#for i, ax_i in enumerate(ax):\n",
    "#    ax_i.set_title(titles[i])\n",
    "#    ax_i.axis(\"off\")\n",
    "#fig.tight_layout(pad=-0.1)\n",
    "#fig.savefig(os.path.join(dir_partdet, f\"{data_type}_maps_reject.png\"), **savefig_kw)"
   ]
  },
  {
   "cell_type": "code",
   "execution_count": 41,
   "metadata": {},
   "outputs": [
    {
     "name": "stdout",
     "output_type": "stream",
     "text": [
      "0.40941421687602997 0.9999999403953552 1.6190476417541504\n",
      "MapRegions: 6482\n"
     ]
    }
   ],
   "source": [
    "# Filter detected particles\n",
    "threshold_mean_intensity = np.percentile(mean_intensity, 55)  # 55\n",
    "threshold_roundness = np.percentile(roundness[roundness > 0], 25)  # 25\n",
    "threshold_solidity = np.percentile(solidity[solidity > 0], 25)  # 25\n",
    "print(threshold_mean_intensity, threshold_roundness, threshold_solidity)\n",
    "\n",
    "keep = (\n",
    "    mean_intensity > threshold_mean_intensity,\n",
    "    roundness == 0,\n",
    "    roundness > threshold_roundness,\n",
    "    solidity == 0,\n",
    "    solidity > threshold_solidity,\n",
    ")\n",
    "\n",
    "# Reject some particles\n",
    "regions2 = regions[np.logical_or.reduce(keep)]\n",
    "print(regions2)"
   ]
  },
  {
   "cell_type": "code",
   "execution_count": null,
   "metadata": {},
   "outputs": [],
   "source": [
    "# Check histograms of rejection properties\n",
    "titles = [\"Mean intensity\", \"Roundness\", \"Solidity\"]\n",
    "# Inspect thresholds\n",
    "fig, (ax0, ax1, ax2) = plt.subplots(ncols=3)\n",
    "ax0.hist(mean_intensity, bins=100);\n",
    "ax1.hist(roundness, bins=100);\n",
    "ax2.hist(solidity, bins=100);\n",
    "ax0.axvspan(threshold_mean_intensity, mean_intensity.max(), color=\"C1\", alpha=0.5, label=\"Keep\")\n",
    "ax1.axvspan(threshold_roundness, roundness.max(), color=\"C1\", alpha=0.5, label=\"Keep\")\n",
    "ax2.axvspan(threshold_solidity, solidity.max(), color=\"C1\", alpha=0.5, label=\"Keep\")\n",
    "for i, ax in enumerate((ax0, ax1, ax2)):\n",
    "    ax.set_xlabel(titles[i])\n",
    "    ax.set_ylabel(\"Frequency\")\n",
    "    ax.legend()\n",
    "fig.tight_layout()\n",
    "fig.savefig(os.path.join(dir_partdet, f\"{data_type}_hist_reject.png\"), **savefig_kw)"
   ]
  },
  {
   "cell_type": "code",
   "execution_count": 42,
   "metadata": {},
   "outputs": [],
   "source": [
    "# Check plot of rejected particles\n",
    "with plt.rc_context(rc={\"lines.linewidth\": 0.5}):\n",
    "    contour_kwds = dict(zorder=2, linewidths=0.5)\n",
    "    fig, ax = plt.subplots(sharex=True, sharey=True, figsize=(10, 10))\n",
    "    ax.imshow(regions.intensity_image, cmap=\"gray\")\n",
    "    ax.contour(~regions.is_background_map, colors=\"red\", **contour_kwds)\n",
    "    ax.contour(~regions2.is_background_map, colors=\"lime\", **contour_kwds)\n",
    "    ax.axis(\"off\")\n",
    "    fig.tight_layout()\n",
    "#    fig.savefig(os.path.join(dir_partdet, f\"{data_type}_maps_particles.png\"), **savefig_kw)"
   ]
  },
  {
   "cell_type": "code",
   "execution_count": 43,
   "metadata": {},
   "outputs": [],
   "source": [
    "data_type = \"bse\""
   ]
  },
  {
   "cell_type": "code",
   "execution_count": 44,
   "metadata": {},
   "outputs": [],
   "source": [
    "# Save labeled particles to file\n",
    "if data_type == \"ebsd\":\n",
    "    np.save(os.path.join(dir_partdet, \"ebsd_labels_filled\"), labeled_particles)\n",
    "elif data_type == \"bse\":\n",
    "    np.save(os.path.join(dir_partdet, \"bse_labels_filled_filtered\"), regions2.label_map)\n",
    "else:  # bse_full\n",
    "    np.save(os.path.join(dir_partdet, \"bse_full_labels_filled_filtered\"), regions2.label_map)"
   ]
  }
 ],
 "metadata": {
  "kernelspec": {
   "display_name": "Python 3 (ipykernel)",
   "language": "python",
   "name": "python3"
  },
  "language_info": {
   "codemirror_mode": {
    "name": "ipython",
    "version": 3
   },
   "file_extension": ".py",
   "mimetype": "text/x-python",
   "name": "python",
   "nbconvert_exporter": "python",
   "pygments_lexer": "ipython3",
   "version": "3.9.13"
  }
 },
 "nbformat": 4,
 "nbformat_minor": 4
}
