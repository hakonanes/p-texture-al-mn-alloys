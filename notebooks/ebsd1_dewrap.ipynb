{
 "cells": [
  {
   "cell_type": "markdown",
   "id": "c0979e71-f1de-46e8-96df-a35b7aa34b13",
   "metadata": {},
   "source": [
    "# De-wrap NORDIF Pattern.dat file\n",
    "\n",
    "Håkon Wiik Ånes (hakon.w.anes@ntnu.no)\n",
    "\n",
    "See the relevant package documentation for more details on the packages used here:\n",
    "* kikuchipy: https://kikuchipy.org/en/stable/\n",
    "\n",
    "Import required packages and print their versions"
   ]
  },
  {
   "cell_type": "code",
   "execution_count": 1,
   "id": "c35f3777",
   "metadata": {},
   "outputs": [
    {
     "name": "stdout",
     "output_type": "stream",
     "text": [
      "Run date:  2022-06-18\n",
      "\n",
      "Software versions\n",
      "------------------\n",
      "dask : 2022.6.0\n",
      "kikuchipy : 0.6.1\n",
      "matplotlib : 3.5.2\n",
      "numpy : 1.22.4\n"
     ]
    }
   ],
   "source": [
    "%matplotlib inline\n",
    "\n",
    "from datetime import date\n",
    "import importlib_metadata\n",
    "import os\n",
    "\n",
    "import dask.array as da\n",
    "import matplotlib.pyplot as plt\n",
    "import numpy as np\n",
    "\n",
    "import kikuchipy as kp\n",
    "\n",
    "\n",
    "# Data directories\n",
    "sample = \"325c\"\n",
    "dset_no = 3\n",
    "dir_data = os.path.join(\"/home/hakon/phd/data/p/prover\", sample, str(dset_no))\n",
    "dir_nordif = os.path.join(dir_data, \"nordif\")\n",
    "dir_kp = os.path.join(dir_data, \"kp\")\n",
    "\n",
    "print(\"Run date: \", date.today())\n",
    "print(\"\\nSoftware versions\\n------------------\")\n",
    "for pkg in [\"dask\", \"kikuchipy\", \"matplotlib\", \"numpy\"]:\n",
    "    if pkg == \"numpy\":\n",
    "        ver = np.__version__\n",
    "    else:\n",
    "        ver = importlib_metadata.version(pkg)\n",
    "    print(pkg, \":\", ver)"
   ]
  },
  {
   "cell_type": "markdown",
   "id": "c250439b",
   "metadata": {},
   "source": [
    "Load patterns lazily (not into RAM)"
   ]
  },
  {
   "cell_type": "code",
   "execution_count": 2,
   "id": "be445a10",
   "metadata": {},
   "outputs": [
    {
     "data": {
      "text/html": [
       "<table>\n",
       "    <tr>\n",
       "        <td>\n",
       "            <table>\n",
       "                <thead>\n",
       "                    <tr>\n",
       "                        <th> Title: </th>\n",
       "                        <td> Pattern </td>\n",
       "                    </tr>\n",
       "                    <tr>\n",
       "                        <th> SignalType: </th>\n",
       "                        <td> EBSD </td>\n",
       "                    </tr>\n",
       "                </thead>\n",
       "                <thead>\n",
       "                    <tr>\n",
       "                        <td>  </td>\n",
       "                        <th> Array </th>\n",
       "                        <th> Chunk </th>\n",
       "                    </tr>\n",
       "                </thead>\n",
       "                <tbody>\n",
       "                    \n",
       "                    <tr>\n",
       "                        <th> Bytes </th>\n",
       "                        <td> 3.54 GiB </td>\n",
       "                        <td> 45.01 MiB </td>\n",
       "                    </tr>\n",
       "                    \n",
       "                    <tr>\n",
       "                        <th> Shape </th>\n",
       "                        <td> (1028, 1026|60, 60) </td>\n",
       "                        <td> (115,114|<b>60</b>,<b>60</b>) </td>\n",
       "                    </tr>\n",
       "                    <tr>\n",
       "                        <th> Count </th>\n",
       "                        <td> 82 Tasks </td>\n",
       "                        <td> 81 Chunks </td>\n",
       "                    </tr>\n",
       "                    <tr>\n",
       "                    <th> Type </th>\n",
       "                    <td> uint8 </td>\n",
       "                    <td> numpy.ndarray </td>\n",
       "                    </tr>\n",
       "                </tbody>\n",
       "            </table>\n",
       "        </td>\n",
       "        <td>\n",
       "            <table>\n",
       "                <thead>\n",
       "                    <tr>\n",
       "                        <th><p style=\"text-align:left;\">Navigation Axes</p>  </th>\n",
       "                        <th> <p style=\"text-align:left;\">Signal Axes</p> </th>\n",
       "                    </tr>\n",
       "                </thead>\n",
       "                <tbody>\n",
       "                    <tr>\n",
       "                        <td> <svg width=\"170\" height=\"169\" style=\"stroke:rgb(0,0,0);stroke-width:1\" >\n",
       "\n",
       "  <!-- Horizontal lines -->\n",
       "  <line x1=\"0\" y1=\"0\" x2=\"120\" y2=\"0\" style=\"stroke-width:2\" />\n",
       "  <line x1=\"0\" y1=\"13\" x2=\"120\" y2=\"13\" />\n",
       "  <line x1=\"0\" y1=\"26\" x2=\"120\" y2=\"26\" />\n",
       "  <line x1=\"0\" y1=\"39\" x2=\"120\" y2=\"39\" />\n",
       "  <line x1=\"0\" y1=\"53\" x2=\"120\" y2=\"53\" />\n",
       "  <line x1=\"0\" y1=\"66\" x2=\"120\" y2=\"66\" />\n",
       "  <line x1=\"0\" y1=\"79\" x2=\"120\" y2=\"79\" />\n",
       "  <line x1=\"0\" y1=\"93\" x2=\"120\" y2=\"93\" />\n",
       "  <line x1=\"0\" y1=\"106\" x2=\"120\" y2=\"106\" />\n",
       "  <line x1=\"0\" y1=\"119\" x2=\"120\" y2=\"119\" style=\"stroke-width:2\" />\n",
       "\n",
       "  <!-- Vertical lines -->\n",
       "  <line x1=\"0\" y1=\"0\" x2=\"0\" y2=\"119\" style=\"stroke-width:2\" />\n",
       "  <line x1=\"13\" y1=\"0\" x2=\"13\" y2=\"119\" />\n",
       "  <line x1=\"26\" y1=\"0\" x2=\"26\" y2=\"119\" />\n",
       "  <line x1=\"40\" y1=\"0\" x2=\"40\" y2=\"119\" />\n",
       "  <line x1=\"53\" y1=\"0\" x2=\"53\" y2=\"119\" />\n",
       "  <line x1=\"66\" y1=\"0\" x2=\"66\" y2=\"119\" />\n",
       "  <line x1=\"80\" y1=\"0\" x2=\"80\" y2=\"119\" />\n",
       "  <line x1=\"93\" y1=\"0\" x2=\"93\" y2=\"119\" />\n",
       "  <line x1=\"106\" y1=\"0\" x2=\"106\" y2=\"119\" />\n",
       "  <line x1=\"120\" y1=\"0\" x2=\"120\" y2=\"119\" style=\"stroke-width:2\" />\n",
       "\n",
       "  <!-- Colored Rectangle -->\n",
       "  <polygon points=\"0.0,0.0 120.0,0.0 120.0,119.76653696498053 0.0,119.76653696498053\" style=\"fill:#ECB172A0;stroke-width:0\"/>\n",
       "\n",
       "  <!-- Text -->\n",
       "  <text x=\"60.000000\" y=\"139.766537\" font-size=\"1.0rem\" font-weight=\"100\" text-anchor=\"middle\" >1028</text>\n",
       "  <text x=\"140.000000\" y=\"59.883268\" font-size=\"1.0rem\" font-weight=\"100\" text-anchor=\"middle\" transform=\"rotate(-90,140.000000,59.883268)\">1026</text>\n",
       "</svg> </td>\n",
       "                        <td> <svg width=\"170\" height=\"170\" style=\"stroke:rgb(0,0,0);stroke-width:1\" >\n",
       "\n",
       "  <!-- Horizontal lines -->\n",
       "  <line x1=\"0\" y1=\"0\" x2=\"120\" y2=\"0\" style=\"stroke-width:2\" />\n",
       "  <line x1=\"0\" y1=\"120\" x2=\"120\" y2=\"120\" style=\"stroke-width:2\" />\n",
       "\n",
       "  <!-- Vertical lines -->\n",
       "  <line x1=\"0\" y1=\"0\" x2=\"0\" y2=\"120\" style=\"stroke-width:2\" />\n",
       "  <line x1=\"120\" y1=\"0\" x2=\"120\" y2=\"120\" style=\"stroke-width:2\" />\n",
       "\n",
       "  <!-- Colored Rectangle -->\n",
       "  <polygon points=\"0.0,0.0 120.0,0.0 120.0,120.0 0.0,120.0\" style=\"fill:#ECB172A0;stroke-width:0\"/>\n",
       "\n",
       "  <!-- Text -->\n",
       "  <text x=\"60.000000\" y=\"140.000000\" font-size=\"1.0rem\" font-weight=\"100\" text-anchor=\"middle\" >60</text>\n",
       "  <text x=\"140.000000\" y=\"60.000000\" font-size=\"1.0rem\" font-weight=\"100\" text-anchor=\"middle\" transform=\"rotate(0,140.000000,60.000000)\">60</text>\n",
       "</svg> </td>\n",
       "                    </tr>\n",
       "                </tbody>\n",
       "            </table>\n",
       "        </td>\n",
       "    </tr>\n",
       "</table>"
      ],
      "text/plain": [
       "<LazyEBSD, title: Pattern, dimensions: (1028, 1026|60, 60)>"
      ]
     },
     "execution_count": 2,
     "metadata": {},
     "output_type": "execute_result"
    }
   ],
   "source": [
    "s = kp.load(os.path.join(dir_nordif, \"Pattern.dat\"), lazy=True)\n",
    "nr = s.axes_manager.navigation_shape[1]  # Number of rows\n",
    "s"
   ]
  },
  {
   "cell_type": "markdown",
   "id": "08b3e5c8",
   "metadata": {},
   "source": [
    "Get first, second and last column of patterns"
   ]
  },
  {
   "cell_type": "code",
   "execution_count": 3,
   "id": "9a50e61d",
   "metadata": {},
   "outputs": [],
   "source": [
    "s_col0 = s.inav[0]\n",
    "s_col1 = s.inav[1]\n",
    "s_col_last = s.inav[-1]"
   ]
  },
  {
   "cell_type": "markdown",
   "id": "2049d42d",
   "metadata": {},
   "source": [
    "Increase signal-to-noise ratio (enhance Kikuchi pattern)"
   ]
  },
  {
   "cell_type": "code",
   "execution_count": 4,
   "id": "39545ae3",
   "metadata": {},
   "outputs": [],
   "source": [
    "s_col0.remove_static_background()\n",
    "s_col1.remove_static_background()\n",
    "s_col_last.remove_static_background()\n",
    "\n",
    "s_col0.remove_dynamic_background()\n",
    "s_col1.remove_dynamic_background()\n",
    "s_col_last.remove_dynamic_background()\n",
    "\n",
    "dtype = np.float32\n",
    "s_col0.rescale_intensity(dtype_out=dtype)\n",
    "s_col1.rescale_intensity(dtype_out=dtype)\n",
    "s_col_last.rescale_intensity(dtype_out=dtype)"
   ]
  },
  {
   "cell_type": "markdown",
   "id": "c904e368",
   "metadata": {},
   "source": [
    "Match patterns (it's done all-to-all, instead of 1-1 which is enough, so we have to extract the diagonal)"
   ]
  },
  {
   "cell_type": "code",
   "execution_count": 5,
   "id": "83db9358",
   "metadata": {},
   "outputs": [],
   "source": [
    "metric_ncc = kp.indexing.similarity_metrics.NormalizedCrossCorrelationMetric(\n",
    "    n_experimental_patterns=nr, n_dictionary_patterns=nr\n",
    ")\n",
    "\n",
    "ncc_01_all = metric_ncc(s_col0.data, s_col1.data)\n",
    "ncc_0last_all = metric_ncc(s_col0.data, s_col_last.data)\n",
    "ncc_01 = da.diagonal(ncc_01_all).compute()\n",
    "ncc_0last = da.diagonal(ncc_0last_all).compute()"
   ]
  },
  {
   "cell_type": "markdown",
   "id": "825074ab-5bc7-4482-86dd-ba6365514ab0",
   "metadata": {},
   "source": [
    "Plot normalized cross-correlation (NCC) scores"
   ]
  },
  {
   "cell_type": "code",
   "execution_count": 6,
   "id": "36e531ee",
   "metadata": {},
   "outputs": [
    {
     "data": {
      "image/png": "[encoded data removed]",
      "text/plain": [
       "<Figure size 432x288 with 1 Axes>"
      ]
     },
     "metadata": {
      "needs_background": "light"
     },
     "output_type": "display_data"
    }
   ],
   "source": [
    "fig, ax = plt.subplots()\n",
    "ax.plot(ncc_01, \"r-o\", label=\"Second column\")\n",
    "ax.plot(ncc_0last, \"b-s\", label=\"Last column\")\n",
    "ax.set_xlabel(\"Row\")\n",
    "ax.set_ylabel(\"Normalized cross-correlation score\")\n",
    "ax.legend();"
   ]
  },
  {
   "cell_type": "markdown",
   "id": "60552d8d-53e7-4779-a999-97e8e140f003",
   "metadata": {},
   "source": [
    "Do we have to de-wrap?"
   ]
  },
  {
   "cell_type": "code",
   "execution_count": 7,
   "id": "fe4458da",
   "metadata": {},
   "outputs": [
    {
     "name": "stdout",
     "output_type": "stream",
     "text": [
      "De-wrap!\n"
     ]
    }
   ],
   "source": [
    "if ncc_0last.mean() > ncc_01.mean():\n",
    "    print(\"De-wrap!\")\n",
    "else:\n",
    "    print(\"Don't de-wrap\")"
   ]
  },
  {
   "cell_type": "markdown",
   "id": "adb9eaed",
   "metadata": {},
   "source": [
    "The first column is clearly more similar to the last column than the second, hence we need to de-wrap.\n",
    "\n",
    "Create a deepcopy and shift the first column last"
   ]
  },
  {
   "cell_type": "code",
   "execution_count": 8,
   "id": "74593ddd",
   "metadata": {},
   "outputs": [],
   "source": [
    "s2 = s.deepcopy()\n",
    "s2.data = da.roll(s2.data, shift=-1, axis=1)"
   ]
  },
  {
   "cell_type": "markdown",
   "id": "7dc569b9-c7ef-49a2-aae1-4b949cf38174",
   "metadata": {},
   "source": [
    "Extract the new first, second and last column"
   ]
  },
  {
   "cell_type": "code",
   "execution_count": 9,
   "id": "24645b60",
   "metadata": {},
   "outputs": [],
   "source": [
    "s2_col0 = s2.inav[0]\n",
    "s2_col1 = s2.inav[1]\n",
    "s2_col_last = s2.inav[-1]"
   ]
  },
  {
   "cell_type": "markdown",
   "id": "d236ae98-4b8e-4918-99c4-f6fd9dd80c29",
   "metadata": {},
   "source": [
    "Increase signal-to-noise ratio (enhance Kikuchi pattern)"
   ]
  },
  {
   "cell_type": "code",
   "execution_count": 10,
   "id": "7a8bb36a",
   "metadata": {},
   "outputs": [],
   "source": [
    "s2_col0.remove_static_background()\n",
    "s2_col1.remove_static_background()\n",
    "s2_col_last.remove_static_background()\n",
    "\n",
    "s2_col0.remove_dynamic_background()\n",
    "s2_col1.remove_dynamic_background()\n",
    "s2_col_last.remove_dynamic_background()\n",
    "\n",
    "s2_col0.rescale_intensity(dtype_out=dtype)\n",
    "s2_col1.rescale_intensity(dtype_out=dtype)\n",
    "s2_col_last.rescale_intensity(dtype_out=dtype)"
   ]
  },
  {
   "cell_type": "markdown",
   "id": "3de41399-b13a-4f3c-a4d7-e61a7729399e",
   "metadata": {},
   "source": [
    "Match patterns"
   ]
  },
  {
   "cell_type": "code",
   "execution_count": 11,
   "id": "a6436332",
   "metadata": {},
   "outputs": [],
   "source": [
    "ncc2_01_all = metric_ncc(s2_col0.data, s2_col1.data)\n",
    "ncc2_0last_all = metric_ncc(s2_col0.data, s2_col_last.data)\n",
    "ncc2_01 = da.diagonal(ncc2_01_all).compute()\n",
    "ncc2_0last = da.diagonal(ncc2_0last_all).compute()"
   ]
  },
  {
   "cell_type": "markdown",
   "id": "06d74e5d-0f54-44f1-a757-f2337acbeb06",
   "metadata": {},
   "source": [
    "Plot NCC scores"
   ]
  },
  {
   "cell_type": "code",
   "execution_count": 12,
   "id": "069895a9",
   "metadata": {},
   "outputs": [
    {
     "data": {
      "image/png": "[encoded data removed]",
      "text/plain": [
       "<Figure size 432x288 with 1 Axes>"
      ]
     },
     "metadata": {
      "needs_background": "light"
     },
     "output_type": "display_data"
    }
   ],
   "source": [
    "fig, ax = plt.subplots()\n",
    "ax.plot(ncc2_01, \"r-o\", label=\"Second column\")\n",
    "ax.plot(ncc2_0last, \"b-s\", label=\"Last column\")\n",
    "ax.set_xlabel(\"Row\")\n",
    "ax.set_ylabel(\"Normalized cross-correlation score\")\n",
    "ax.legend();"
   ]
  },
  {
   "cell_type": "markdown",
   "id": "7f8f8cd8-41c3-4838-9f74-f902fb79fd6c",
   "metadata": {},
   "source": [
    "Do we have to de-wrap a second time?"
   ]
  },
  {
   "cell_type": "code",
   "execution_count": 13,
   "id": "54ff1c31",
   "metadata": {},
   "outputs": [
    {
     "name": "stdout",
     "output_type": "stream",
     "text": [
      "Don't de-wrap\n"
     ]
    }
   ],
   "source": [
    "if ncc2_0last.mean() > ncc_01.mean():\n",
    "    print(\"De-wrap!\")\n",
    "else:\n",
    "    print(\"Don't de-wrap\")"
   ]
  },
  {
   "cell_type": "markdown",
   "id": "5a589fc6",
   "metadata": {},
   "source": [
    "The new first column (previously second column) is now more similar to the new second column\n",
    "(previously third column) than the new last column (previously first column), which is what\n",
    "we expect.\n",
    "\n",
    "Finally, save the de-wrapped signal to file."
   ]
  },
  {
   "cell_type": "code",
   "execution_count": 14,
   "id": "588afc9d",
   "metadata": {},
   "outputs": [],
   "source": [
    "s2.save(os.path.join(dir_kp, \"patterns_dewrap.h5\"))"
   ]
  }
 ],
 "metadata": {
  "kernelspec": {
   "display_name": "Python 3 (ipykernel)",
   "language": "python",
   "name": "python3"
  },
  "language_info": {
   "codemirror_mode": {
    "name": "ipython",
    "version": 3
   },
   "file_extension": ".py",
   "mimetype": "text/x-python",
   "name": "python",
   "nbconvert_exporter": "python",
   "pygments_lexer": "ipython3",
   "version": "3.9.13"
  }
 },
 "nbformat": 4,
 "nbformat_minor": 5
}
