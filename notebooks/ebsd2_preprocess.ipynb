{
 "cells": [
  {
   "cell_type": "markdown",
   "id": "d951f637-54a7-4dda-9f76-ccdb900ad1e1",
   "metadata": {},
   "source": [
    "# Pre-process EBSD patterns from an Al-Mn alloy\n",
    "\n",
    "Håkon Wiik Ånes (hakon.w.anes@ntnu.no)\n",
    "\n",
    "See the relevant package documentation for more details on the packages used here:\n",
    "* diffsims: https://diffsims.readthedocs.io/en/latest/\n",
    "* kikuchipy: https://kikuchipy.org/en/stable/\n",
    "* hyperspy: https://hyperspy.org/hyperspy-doc/current/\n",
    "* pyebsdindex: https://pyebsdindex.readthedocs.io/en/latest/\n",
    "* orix: https://orix.readthedocs.io/en/stable/\n",
    "\n",
    "Import required packages and print their versions"
   ]
  },
  {
   "cell_type": "code",
   "execution_count": 21,
   "id": "dd9a1423-ca4d-4c14-b4f8-9d45fda369c5",
   "metadata": {},
   "outputs": [
    {
     "name": "stdout",
     "output_type": "stream",
     "text": [
      "Run date:  2022-06-18\n",
      "\n",
      "Software versions\n",
      "------------------\n",
      "dask : 2022.6.0\n",
      "diffpy.structure : 3.0.1\n",
      "diffsims : 0.5.0\n",
      "hyperspy : 1.7.0\n",
      "kikuchipy : 0.6.1\n",
      "matplotlib : 3.5.2\n",
      "numpy : 1.22.4\n",
      "pyebsdindex : 0.1rc2\n",
      "orix : 0.9.0.post0\n"
     ]
    }
   ],
   "source": [
    "# Replace \"inline\" with \"qt5\" from the pyqt package for interactive plotting\n",
    "%matplotlib qt5\n",
    "\n",
    "from datetime import date\n",
    "import importlib_metadata\n",
    "import os\n",
    "from time import time\n",
    "\n",
    "import dask\n",
    "from dask.diagnostics import ProgressBar\n",
    "from diffpy.structure import Lattice, Structure\n",
    "from diffsims.crystallography import ReciprocalLatticeVector\n",
    "import hyperspy.api as hs\n",
    "import kikuchipy as kp\n",
    "import matplotlib.pyplot as plt\n",
    "import numpy as np\n",
    "from pyebsdindex import ebsd_index, pcopt\n",
    "from orix import io, plot, sampling\n",
    "from orix.crystal_map import CrystalMap, PhaseList\n",
    "from orix.quaternion import Rotation\n",
    "\n",
    "\n",
    "# Directories\n",
    "sample = \"325c\"\n",
    "dset_no = 3\n",
    "dir_mp = \"/home/hakon/kode/emsoft/emdata/crystal_data\"\n",
    "dir_data = os.path.join(\"/home/hakon/phd/data/p/prover\", sample, str(dset_no))\n",
    "dir_nordif = os.path.join(dir_data, \"nordif\")\n",
    "dir_kp = os.path.join(dir_data, \"kp\")\n",
    "\n",
    "# Data set specific parameters\n",
    "cal_pats_al = {\n",
    "    \"0s\": {\n",
    "        1: [0, 1, 2, 3, 4],\n",
    "        2: [0, 1, 2, 3, 4],\n",
    "        3: [0, 1, 2, 3, 4]\n",
    "    },\n",
    "    \"325c\": {\n",
    "        1: [0, 10, 11, 12, 13, 14],\n",
    "        2: [6, 7, 8, 9],\n",
    "        3: [0, 1, 2, 3, 4, 5],\n",
    "    }\n",
    "}\n",
    "pc0 = {\n",
    "    \"0s\": {\n",
    "        1: (0.513, 0.120, 0.550),\n",
    "        2: (0.506, 0.180, 0.580),\n",
    "        3: (0.649, 0.135, 0.707),\n",
    "    },\n",
    "    \"325c\": {\n",
    "        1: (0.5, 0.2, 0.5),\n",
    "        2: (0.49689, 0.2083, 0.5560),\n",
    "        3: (0.4970, 0.1348, 0.5527),\n",
    "    }\n",
    "}\n",
    "\n",
    "# Matplotlib\n",
    "plt.rcParams.update({\"figure.figsize\": (5, 5), \"font.size\": 12})\n",
    "savefig_kw = dict(bbox_inches=\"tight\", pad_inches=0, dpi=150)\n",
    "\n",
    "print(\"Run date: \", date.today())\n",
    "print(\"\\nSoftware versions\\n------------------\")\n",
    "for pkg in [\n",
    "    \"dask\",\n",
    "    \"diffpy.structure\",\n",
    "    \"diffsims\",\n",
    "    \"hyperspy\",\n",
    "    \"kikuchipy\",\n",
    "    \"matplotlib\",\n",
    "    \"numpy\",\n",
    "    \"pyebsdindex\",\n",
    "    \"orix\",\n",
    "]:\n",
    "    if pkg == \"numpy\":\n",
    "        ver = np.__version__\n",
    "    else:\n",
    "        ver = importlib_metadata.version(pkg)\n",
    "    print(pkg, \":\", ver)"
   ]
  },
  {
   "cell_type": "markdown",
   "id": "d97e4a7e-1ea2-4388-9e34-3fdfc7510d91",
   "metadata": {
    "tags": []
   },
   "source": [
    "# Pre-correction maps"
   ]
  },
  {
   "cell_type": "markdown",
   "id": "d704eab2-af4e-432c-951e-ffb1dbf9b3d7",
   "metadata": {},
   "source": [
    "Load data lazily (not into RAM)"
   ]
  },
  {
   "cell_type": "code",
   "execution_count": 3,
   "id": "ebadffb9-2b1b-449f-80f9-29234e6c9ce1",
   "metadata": {},
   "outputs": [
    {
     "data": {
      "text/html": [
       "<table>\n",
       "    <tr>\n",
       "        <td>\n",
       "            <table>\n",
       "                <thead>\n",
       "                    <tr>\n",
       "                        <th> Title: </th>\n",
       "                        <td> patterns_dewrap Scan... </td>\n",
       "                    </tr>\n",
       "                    <tr>\n",
       "                        <th> SignalType: </th>\n",
       "                        <td> EBSD </td>\n",
       "                    </tr>\n",
       "                </thead>\n",
       "                <thead>\n",
       "                    <tr>\n",
       "                        <td>  </td>\n",
       "                        <th> Array </th>\n",
       "                        <th> Chunk </th>\n",
       "                    </tr>\n",
       "                </thead>\n",
       "                <tbody>\n",
       "                    \n",
       "                    <tr>\n",
       "                        <th> Bytes </th>\n",
       "                        <td> 3.54 GiB </td>\n",
       "                        <td> 38.82 MiB </td>\n",
       "                    </tr>\n",
       "                    \n",
       "                    <tr>\n",
       "                        <th> Shape </th>\n",
       "                        <td> (1028, 1026|60, 60) </td>\n",
       "                        <td> (<b>1028</b>,11|<b>60</b>,<b>60</b>) </td>\n",
       "                    </tr>\n",
       "                    <tr>\n",
       "                        <th> Count </th>\n",
       "                        <td> 189 Tasks </td>\n",
       "                        <td> 94 Chunks </td>\n",
       "                    </tr>\n",
       "                    <tr>\n",
       "                    <th> Type </th>\n",
       "                    <td> uint8 </td>\n",
       "                    <td> numpy.ndarray </td>\n",
       "                    </tr>\n",
       "                </tbody>\n",
       "            </table>\n",
       "        </td>\n",
       "        <td>\n",
       "            <table>\n",
       "                <thead>\n",
       "                    <tr>\n",
       "                        <th><p style=\"text-align:left;\">Navigation Axes</p>  </th>\n",
       "                        <th> <p style=\"text-align:left;\">Signal Axes</p> </th>\n",
       "                    </tr>\n",
       "                </thead>\n",
       "                <tbody>\n",
       "                    <tr>\n",
       "                        <td> <svg width=\"170\" height=\"169\" style=\"stroke:rgb(0,0,0);stroke-width:1\" >\n",
       "\n",
       "  <!-- Horizontal lines -->\n",
       "  <line x1=\"0\" y1=\"0\" x2=\"120\" y2=\"0\" style=\"stroke-width:2\" />\n",
       "  <line x1=\"0\" y1=\"5\" x2=\"120\" y2=\"5\" />\n",
       "  <line x1=\"0\" y1=\"11\" x2=\"120\" y2=\"11\" />\n",
       "  <line x1=\"0\" y1=\"17\" x2=\"120\" y2=\"17\" />\n",
       "  <line x1=\"0\" y1=\"24\" x2=\"120\" y2=\"24\" />\n",
       "  <line x1=\"0\" y1=\"30\" x2=\"120\" y2=\"30\" />\n",
       "  <line x1=\"0\" y1=\"37\" x2=\"120\" y2=\"37\" />\n",
       "  <line x1=\"0\" y1=\"43\" x2=\"120\" y2=\"43\" />\n",
       "  <line x1=\"0\" y1=\"50\" x2=\"120\" y2=\"50\" />\n",
       "  <line x1=\"0\" y1=\"56\" x2=\"120\" y2=\"56\" />\n",
       "  <line x1=\"0\" y1=\"62\" x2=\"120\" y2=\"62\" />\n",
       "  <line x1=\"0\" y1=\"69\" x2=\"120\" y2=\"69\" />\n",
       "  <line x1=\"0\" y1=\"75\" x2=\"120\" y2=\"75\" />\n",
       "  <line x1=\"0\" y1=\"82\" x2=\"120\" y2=\"82\" />\n",
       "  <line x1=\"0\" y1=\"88\" x2=\"120\" y2=\"88\" />\n",
       "  <line x1=\"0\" y1=\"95\" x2=\"120\" y2=\"95\" />\n",
       "  <line x1=\"0\" y1=\"101\" x2=\"120\" y2=\"101\" />\n",
       "  <line x1=\"0\" y1=\"107\" x2=\"120\" y2=\"107\" />\n",
       "  <line x1=\"0\" y1=\"114\" x2=\"120\" y2=\"114\" />\n",
       "  <line x1=\"0\" y1=\"119\" x2=\"120\" y2=\"119\" style=\"stroke-width:2\" />\n",
       "\n",
       "  <!-- Vertical lines -->\n",
       "  <line x1=\"0\" y1=\"0\" x2=\"0\" y2=\"119\" style=\"stroke-width:2\" />\n",
       "  <line x1=\"120\" y1=\"0\" x2=\"120\" y2=\"119\" style=\"stroke-width:2\" />\n",
       "\n",
       "  <!-- Colored Rectangle -->\n",
       "  <polygon points=\"0.0,0.0 120.0,0.0 120.0,119.76653696498053 0.0,119.76653696498053\" style=\"fill:#8B4903A0;stroke-width:0\"/>\n",
       "\n",
       "  <!-- Text -->\n",
       "  <text x=\"60.000000\" y=\"139.766537\" font-size=\"1.0rem\" font-weight=\"100\" text-anchor=\"middle\" >1028</text>\n",
       "  <text x=\"140.000000\" y=\"59.883268\" font-size=\"1.0rem\" font-weight=\"100\" text-anchor=\"middle\" transform=\"rotate(-90,140.000000,59.883268)\">1026</text>\n",
       "</svg> </td>\n",
       "                        <td> <svg width=\"170\" height=\"170\" style=\"stroke:rgb(0,0,0);stroke-width:1\" >\n",
       "\n",
       "  <!-- Horizontal lines -->\n",
       "  <line x1=\"0\" y1=\"0\" x2=\"120\" y2=\"0\" style=\"stroke-width:2\" />\n",
       "  <line x1=\"0\" y1=\"120\" x2=\"120\" y2=\"120\" style=\"stroke-width:2\" />\n",
       "\n",
       "  <!-- Vertical lines -->\n",
       "  <line x1=\"0\" y1=\"0\" x2=\"0\" y2=\"120\" style=\"stroke-width:2\" />\n",
       "  <line x1=\"120\" y1=\"0\" x2=\"120\" y2=\"120\" style=\"stroke-width:2\" />\n",
       "\n",
       "  <!-- Colored Rectangle -->\n",
       "  <polygon points=\"0.0,0.0 120.0,0.0 120.0,120.0 0.0,120.0\" style=\"fill:#ECB172A0;stroke-width:0\"/>\n",
       "\n",
       "  <!-- Text -->\n",
       "  <text x=\"60.000000\" y=\"140.000000\" font-size=\"1.0rem\" font-weight=\"100\" text-anchor=\"middle\" >60</text>\n",
       "  <text x=\"140.000000\" y=\"60.000000\" font-size=\"1.0rem\" font-weight=\"100\" text-anchor=\"middle\" transform=\"rotate(0,140.000000,60.000000)\">60</text>\n",
       "</svg> </td>\n",
       "                    </tr>\n",
       "                </tbody>\n",
       "            </table>\n",
       "        </td>\n",
       "    </tr>\n",
       "</table>"
      ],
      "text/plain": [
       "<LazyEBSD, title: patterns_dewrap Scan..., dimensions: (1028, 1026|60, 60)>"
      ]
     },
     "execution_count": 3,
     "metadata": {},
     "output_type": "execute_result"
    }
   ],
   "source": [
    "s = kp.load(os.path.join(dir_kp, \"patterns_dewrap.h5\"), lazy=True)\n",
    "s.static_background = plt.imread(os.path.join(dir_nordif, \"Background acquisition pattern.bmp\"))\n",
    "\n",
    "sig_shape = s.axes_manager.signal_shape[::-1]\n",
    "s"
   ]
  },
  {
   "cell_type": "markdown",
   "id": "c564a705-a1c4-46bc-b678-0b9c8ec0fd84",
   "metadata": {},
   "source": [
    "Mean intensity map"
   ]
  },
  {
   "cell_type": "code",
   "execution_count": 4,
   "id": "dc2210e8-b8d6-46bf-afb0-9129bf9e599c",
   "metadata": {},
   "outputs": [
    {
     "name": "stdout",
     "output_type": "stream",
     "text": [
      "[########################################] | 100% Completed |  7.1s\n"
     ]
    }
   ],
   "source": [
    "s_mean = s.mean(axis=s.axes_manager.signal_axes)\n",
    "s_mean.compute()"
   ]
  },
  {
   "cell_type": "markdown",
   "id": "6a602704-589d-44b3-a0f3-2b2307ec5c78",
   "metadata": {},
   "source": [
    "Save unprocessed map and contrast stretched map"
   ]
  },
  {
   "cell_type": "code",
   "execution_count": 5,
   "id": "0af64e88-fb28-4b31-ba34-fb3dc90e3030",
   "metadata": {},
   "outputs": [],
   "source": [
    "# Unprocessed map\n",
    "map_mean1 = s_mean.data\n",
    "plt.imsave(os.path.join(dir_kp, \"maps_mean.png\"), map_mean1, cmap=\"gray\")\n",
    "\n",
    "# Contrast stretched map\n",
    "percentiles = np.percentile(map_mean1, q=(1, 99))\n",
    "map_mean2 = kp.pattern.rescale_intensity(map_mean1, in_range=percentiles)\n",
    "plt.imsave(os.path.join(dir_kp, \"maps_mean_q1_q99.png\"), map_mean2, cmap=\"gray\")"
   ]
  },
  {
   "cell_type": "markdown",
   "id": "3de9986e-de9f-47bf-94c8-e4f98ea120e4",
   "metadata": {},
   "source": [
    "Generate an RGB virtual backscatter electron (VBSE) image. First, set up the generator"
   ]
  },
  {
   "cell_type": "code",
   "execution_count": 6,
   "id": "ec1adea6-ab91-4b87-b18f-1023614b83c0",
   "metadata": {},
   "outputs": [],
   "source": [
    "vbse_gen = kp.generators.VirtualBSEGenerator(s)"
   ]
  },
  {
   "cell_type": "markdown",
   "id": "001c854b-2175-4e41-886b-c07dca8342d3",
   "metadata": {},
   "source": [
    "Plot all grid tiles and hightlight the RGB tiles"
   ]
  },
  {
   "cell_type": "code",
   "execution_count": 7,
   "id": "cfca6bf9-cc4e-4162-b935-d5ac3696930b",
   "metadata": {},
   "outputs": [],
   "source": [
    "vbse_gen.grid_shape = (5, 5)\n",
    "red = (2, 1)\n",
    "green = (2, 2)\n",
    "blue = (2, 3)\n",
    "vbse_grid_plot = vbse_gen.plot_grid(\n",
    "    rgb_channels=[red, green, blue], pattern_idx=(0, 0)\n",
    ")\n",
    "vbse_grid_plot._plot.signal_plot.figure.savefig(\n",
    "    os.path.join(dir_kp, \"vbse5x5_grid_plot.png\"), **savefig_kw\n",
    ")\n",
    "\n",
    "plt.close(\"all\")"
   ]
  },
  {
   "cell_type": "markdown",
   "id": "e819d10b-8df3-4148-a26a-2cfe1f3f1316",
   "metadata": {},
   "source": [
    "Generate the VBSE RGB image"
   ]
  },
  {
   "cell_type": "code",
   "execution_count": 8,
   "id": "ba4840fb-9c5d-4e8d-9935-308d924b63bf",
   "metadata": {
    "tags": []
   },
   "outputs": [
    {
     "name": "stderr",
     "output_type": "stream",
     "text": [
      "2022-06-18 14:58:21,973 - hyperspy.io - WARNING - `signal_type='VirtualBSEImage'` not understood. See `hs.print_known_signal_types()` for a list of installed signal types or https://github.com/hyperspy/hyperspy-extensions-list for the list of all hyperspy extensions providing signals.\n",
      "2022-06-18 14:58:23,253 - hyperspy.io - WARNING - `signal_type='VirtualBSEImage'` not understood. See `hs.print_known_signal_types()` for a list of installed signal types or https://github.com/hyperspy/hyperspy-extensions-list for the list of all hyperspy extensions providing signals.\n",
      "2022-06-18 14:58:24,365 - hyperspy.io - WARNING - `signal_type='VirtualBSEImage'` not understood. See `hs.print_known_signal_types()` for a list of installed signal types or https://github.com/hyperspy/hyperspy-extensions-list for the list of all hyperspy extensions providing signals.\n"
     ]
    }
   ],
   "source": [
    "vbse_rgb = vbse_gen.get_rgb_image(r=red, g=green, b=blue)\n",
    "vbse_rgb.save(os.path.join(dir_kp, \"vbse5x5_rgb.png\"))"
   ]
  },
  {
   "cell_type": "markdown",
   "id": "eedb46a0-ba0d-41ba-a581-4aa5e2bd7e12",
   "metadata": {},
   "source": [
    "Background correction:\n",
    "1. Remove static background\n",
    "2. Remove dynamic background\n",
    "3. Average patterns with their eight nearest neighbour using a Gaussian kernel with $\\sigma$ = 1"
   ]
  },
  {
   "cell_type": "code",
   "execution_count": 9,
   "id": "6a8a6cb5-5b2a-4b44-a55b-e2620a1ac268",
   "metadata": {},
   "outputs": [],
   "source": [
    "s.remove_static_background()"
   ]
  },
  {
   "cell_type": "code",
   "execution_count": 10,
   "id": "6c0a1c34-2ffd-43c7-90ab-074f728277ac",
   "metadata": {},
   "outputs": [],
   "source": [
    "s.remove_dynamic_background()"
   ]
  },
  {
   "cell_type": "code",
   "execution_count": 11,
   "id": "804fe96d-2d67-47e4-9dfb-667e125eb308",
   "metadata": {},
   "outputs": [],
   "source": [
    "w = kp.filters.Window(window=\"gaussian\", std=1)"
   ]
  },
  {
   "cell_type": "code",
   "execution_count": 12,
   "id": "30c9b445-599a-419c-b322-5316cbdfe695",
   "metadata": {},
   "outputs": [],
   "source": [
    "s.average_neighbour_patterns(window=w)"
   ]
  },
  {
   "cell_type": "markdown",
   "id": "87ee96cd-3a9a-4875-95ec-29546010ce5f",
   "metadata": {},
   "source": [
    "Write processed patterns to file"
   ]
  },
  {
   "cell_type": "code",
   "execution_count": 13,
   "id": "182c030d-8c55-4217-8676-4d794ef246d7",
   "metadata": {},
   "outputs": [
    {
     "name": "stdout",
     "output_type": "stream",
     "text": [
      "[########################################] | 100% Completed |  3min 52.3s\n"
     ]
    }
   ],
   "source": [
    "with ProgressBar():\n",
    "    s.save(os.path.join(dir_kp, \"pattern_sda.h5\"))"
   ]
  },
  {
   "cell_type": "markdown",
   "id": "4c953a54-7aa4-4f03-b37f-a1b197c099a2",
   "metadata": {},
   "source": [
    "## Pre-indexing maps\n",
    "\n",
    "Generate image quality $\\mathbf{Q}$ and average dot product maps"
   ]
  },
  {
   "cell_type": "code",
   "execution_count": 14,
   "id": "4ab53d49-ea33-4c63-8f99-b1364f37384c",
   "metadata": {},
   "outputs": [
    {
     "data": {
      "text/html": [
       "<table>\n",
       "    <tr>\n",
       "        <td>\n",
       "            <table>\n",
       "                <thead>\n",
       "                    <tr>\n",
       "                        <th> Title: </th>\n",
       "                        <td> pattern_sda Scan 1 </td>\n",
       "                    </tr>\n",
       "                    <tr>\n",
       "                        <th> SignalType: </th>\n",
       "                        <td> EBSD </td>\n",
       "                    </tr>\n",
       "                </thead>\n",
       "                <thead>\n",
       "                    <tr>\n",
       "                        <td>  </td>\n",
       "                        <th> Array </th>\n",
       "                        <th> Chunk </th>\n",
       "                    </tr>\n",
       "                </thead>\n",
       "                <tbody>\n",
       "                    \n",
       "                    <tr>\n",
       "                        <th> Bytes </th>\n",
       "                        <td> 3.54 GiB </td>\n",
       "                        <td> 38.82 MiB </td>\n",
       "                    </tr>\n",
       "                    \n",
       "                    <tr>\n",
       "                        <th> Shape </th>\n",
       "                        <td> (1028, 1026|60, 60) </td>\n",
       "                        <td> (<b>1028</b>,11|<b>60</b>,<b>60</b>) </td>\n",
       "                    </tr>\n",
       "                    <tr>\n",
       "                        <th> Count </th>\n",
       "                        <td> 189 Tasks </td>\n",
       "                        <td> 94 Chunks </td>\n",
       "                    </tr>\n",
       "                    <tr>\n",
       "                    <th> Type </th>\n",
       "                    <td> uint8 </td>\n",
       "                    <td> numpy.ndarray </td>\n",
       "                    </tr>\n",
       "                </tbody>\n",
       "            </table>\n",
       "        </td>\n",
       "        <td>\n",
       "            <table>\n",
       "                <thead>\n",
       "                    <tr>\n",
       "                        <th><p style=\"text-align:left;\">Navigation Axes</p>  </th>\n",
       "                        <th> <p style=\"text-align:left;\">Signal Axes</p> </th>\n",
       "                    </tr>\n",
       "                </thead>\n",
       "                <tbody>\n",
       "                    <tr>\n",
       "                        <td> <svg width=\"170\" height=\"169\" style=\"stroke:rgb(0,0,0);stroke-width:1\" >\n",
       "\n",
       "  <!-- Horizontal lines -->\n",
       "  <line x1=\"0\" y1=\"0\" x2=\"120\" y2=\"0\" style=\"stroke-width:2\" />\n",
       "  <line x1=\"0\" y1=\"5\" x2=\"120\" y2=\"5\" />\n",
       "  <line x1=\"0\" y1=\"11\" x2=\"120\" y2=\"11\" />\n",
       "  <line x1=\"0\" y1=\"17\" x2=\"120\" y2=\"17\" />\n",
       "  <line x1=\"0\" y1=\"24\" x2=\"120\" y2=\"24\" />\n",
       "  <line x1=\"0\" y1=\"30\" x2=\"120\" y2=\"30\" />\n",
       "  <line x1=\"0\" y1=\"37\" x2=\"120\" y2=\"37\" />\n",
       "  <line x1=\"0\" y1=\"43\" x2=\"120\" y2=\"43\" />\n",
       "  <line x1=\"0\" y1=\"50\" x2=\"120\" y2=\"50\" />\n",
       "  <line x1=\"0\" y1=\"56\" x2=\"120\" y2=\"56\" />\n",
       "  <line x1=\"0\" y1=\"62\" x2=\"120\" y2=\"62\" />\n",
       "  <line x1=\"0\" y1=\"69\" x2=\"120\" y2=\"69\" />\n",
       "  <line x1=\"0\" y1=\"75\" x2=\"120\" y2=\"75\" />\n",
       "  <line x1=\"0\" y1=\"82\" x2=\"120\" y2=\"82\" />\n",
       "  <line x1=\"0\" y1=\"88\" x2=\"120\" y2=\"88\" />\n",
       "  <line x1=\"0\" y1=\"95\" x2=\"120\" y2=\"95\" />\n",
       "  <line x1=\"0\" y1=\"101\" x2=\"120\" y2=\"101\" />\n",
       "  <line x1=\"0\" y1=\"107\" x2=\"120\" y2=\"107\" />\n",
       "  <line x1=\"0\" y1=\"114\" x2=\"120\" y2=\"114\" />\n",
       "  <line x1=\"0\" y1=\"119\" x2=\"120\" y2=\"119\" style=\"stroke-width:2\" />\n",
       "\n",
       "  <!-- Vertical lines -->\n",
       "  <line x1=\"0\" y1=\"0\" x2=\"0\" y2=\"119\" style=\"stroke-width:2\" />\n",
       "  <line x1=\"120\" y1=\"0\" x2=\"120\" y2=\"119\" style=\"stroke-width:2\" />\n",
       "\n",
       "  <!-- Colored Rectangle -->\n",
       "  <polygon points=\"0.0,0.0 120.0,0.0 120.0,119.76653696498053 0.0,119.76653696498053\" style=\"fill:#8B4903A0;stroke-width:0\"/>\n",
       "\n",
       "  <!-- Text -->\n",
       "  <text x=\"60.000000\" y=\"139.766537\" font-size=\"1.0rem\" font-weight=\"100\" text-anchor=\"middle\" >1028</text>\n",
       "  <text x=\"140.000000\" y=\"59.883268\" font-size=\"1.0rem\" font-weight=\"100\" text-anchor=\"middle\" transform=\"rotate(-90,140.000000,59.883268)\">1026</text>\n",
       "</svg> </td>\n",
       "                        <td> <svg width=\"170\" height=\"170\" style=\"stroke:rgb(0,0,0);stroke-width:1\" >\n",
       "\n",
       "  <!-- Horizontal lines -->\n",
       "  <line x1=\"0\" y1=\"0\" x2=\"120\" y2=\"0\" style=\"stroke-width:2\" />\n",
       "  <line x1=\"0\" y1=\"120\" x2=\"120\" y2=\"120\" style=\"stroke-width:2\" />\n",
       "\n",
       "  <!-- Vertical lines -->\n",
       "  <line x1=\"0\" y1=\"0\" x2=\"0\" y2=\"120\" style=\"stroke-width:2\" />\n",
       "  <line x1=\"120\" y1=\"0\" x2=\"120\" y2=\"120\" style=\"stroke-width:2\" />\n",
       "\n",
       "  <!-- Colored Rectangle -->\n",
       "  <polygon points=\"0.0,0.0 120.0,0.0 120.0,120.0 0.0,120.0\" style=\"fill:#ECB172A0;stroke-width:0\"/>\n",
       "\n",
       "  <!-- Text -->\n",
       "  <text x=\"60.000000\" y=\"140.000000\" font-size=\"1.0rem\" font-weight=\"100\" text-anchor=\"middle\" >60</text>\n",
       "  <text x=\"140.000000\" y=\"60.000000\" font-size=\"1.0rem\" font-weight=\"100\" text-anchor=\"middle\" transform=\"rotate(0,140.000000,60.000000)\">60</text>\n",
       "</svg> </td>\n",
       "                    </tr>\n",
       "                </tbody>\n",
       "            </table>\n",
       "        </td>\n",
       "    </tr>\n",
       "</table>"
      ],
      "text/plain": [
       "<LazyEBSD, title: pattern_sda Scan 1, dimensions: (1028, 1026|60, 60)>"
      ]
     },
     "execution_count": 14,
     "metadata": {},
     "output_type": "execute_result"
    }
   ],
   "source": [
    "s = kp.load(os.path.join(dir_kp, \"pattern_sda.h5\"), lazy=True)\n",
    "s"
   ]
  },
  {
   "cell_type": "code",
   "execution_count": 15,
   "id": "e4f06559-3646-4c4d-8837-efff3d620ace",
   "metadata": {},
   "outputs": [
    {
     "name": "stdout",
     "output_type": "stream",
     "text": [
      "[########################################] | 100% Completed |  1min  8.3s\n"
     ]
    }
   ],
   "source": [
    "iq_dask = s.get_image_quality()\n",
    "\n",
    "with ProgressBar():\n",
    "    iq = iq_dask.compute()\n",
    "\n",
    "plt.imsave(os.path.join(dir_kp, \"maps_iq.png\"), arr=iq, cmap=\"gray\")"
   ]
  },
  {
   "cell_type": "code",
   "execution_count": 16,
   "id": "da18ded6-8e61-4211-bc59-000daa3521d6",
   "metadata": {},
   "outputs": [
    {
     "name": "stdout",
     "output_type": "stream",
     "text": [
      "[########################################] | 100% Completed |  9min 37.7s\n"
     ]
    }
   ],
   "source": [
    "adp_dask = s.get_average_neighbour_dot_product_map()\n",
    "\n",
    "with ProgressBar():\n",
    "    adp = adp_dask.compute()\n",
    "\n",
    "plt.imsave(os.path.join(dir_kp, \"maps_adp.png\"), arr=adp, cmap=\"gray\")"
   ]
  },
  {
   "cell_type": "markdown",
   "id": "cde34c31-c12c-4ea8-b25b-c4467199fafb",
   "metadata": {},
   "source": [
    "Plot maps"
   ]
  },
  {
   "cell_type": "code",
   "execution_count": 17,
   "id": "9c64278f-3a3b-4613-bac7-8d27191a02d2",
   "metadata": {},
   "outputs": [],
   "source": [
    "fig, ax = plt.subplots(ncols=2, figsize=(10, 5))\n",
    "ax[0].imshow(iq, cmap=\"gray\")\n",
    "ax[1].imshow(adp, cmap=\"gray\")\n",
    "ax[0].axis(\"off\")\n",
    "ax[1].axis(\"off\")\n",
    "fig.tight_layout()"
   ]
  },
  {
   "cell_type": "markdown",
   "id": "046dbb9e-3f52-4565-bbdf-cb8af6c6fce6",
   "metadata": {},
   "source": [
    "## Projection center from PyEBSDIndex"
   ]
  },
  {
   "cell_type": "markdown",
   "id": "e77c6599",
   "metadata": {},
   "source": [
    "Load calibration patterns"
   ]
  },
  {
   "cell_type": "code",
   "execution_count": 18,
   "id": "08ea1d69-ece2-4aa7-b336-2bb94702ccf0",
   "metadata": {},
   "outputs": [
    {
     "data": {
      "text/plain": [
       "<EBSD, title: Calibration patterns, dimensions: (6|480, 480)>"
      ]
     },
     "execution_count": 18,
     "metadata": {},
     "output_type": "execute_result"
    }
   ],
   "source": [
    "s_cal0 = kp.load(os.path.join(dir_nordif, \"Setting.txt\"))\n",
    "sig_shape_cal = s_cal0.axes_manager.signal_shape[::-1]\n",
    "s_cal0"
   ]
  },
  {
   "cell_type": "markdown",
   "id": "cedfe87b-491f-48fe-b07e-601870cd9757",
   "metadata": {},
   "source": [
    "Increase the signal-to-noise ratio"
   ]
  },
  {
   "cell_type": "code",
   "execution_count": 19,
   "id": "6f3610c1",
   "metadata": {},
   "outputs": [
    {
     "name": "stdout",
     "output_type": "stream",
     "text": [
      "Removing the static background:\n",
      "[########################################] | 100% Completed |  0.1s\n",
      "[########################################] | 100% Completed |  0.1s\n",
      "Removing the dynamic background:\n",
      "[########################################] | 100% Completed |  0.1s\n",
      "[########################################] | 100% Completed |  0.1s\n"
     ]
    }
   ],
   "source": [
    "s_cal0.remove_static_background()\n",
    "s_cal0.remove_dynamic_background()"
   ]
  },
  {
   "cell_type": "code",
   "execution_count": 20,
   "id": "a28e3a59-c949-444c-91ef-36d85f60d93f",
   "metadata": {},
   "outputs": [],
   "source": [
    "s_cal0.plot()"
   ]
  },
  {
   "cell_type": "markdown",
   "id": "835d07c3-13e3-4686-819e-a475f107eabe",
   "metadata": {},
   "source": [
    "Extract Al calibration patterns"
   ]
  },
  {
   "cell_type": "code",
   "execution_count": 22,
   "id": "824d7704",
   "metadata": {},
   "outputs": [],
   "source": [
    "s_cal = kp.signals.EBSD(s_cal0.data[cal_pats_al[sample][dset_no]])\n",
    "s_cal.axes_manager[0].name = \"x\"\n",
    "nav_size = s_cal.axes_manager.navigation_size"
   ]
  },
  {
   "cell_type": "markdown",
   "id": "bf5f6445-3636-42b6-954f-890bc6e5435d",
   "metadata": {},
   "source": [
    "Extract relevant metadata"
   ]
  },
  {
   "cell_type": "code",
   "execution_count": 23,
   "id": "1353490d-542b-43f8-a78d-5f1c9364f4ad",
   "metadata": {},
   "outputs": [],
   "source": [
    "md_sem = s_cal0.metadata.Acquisition_instrument.SEM\n",
    "md_ebsd = md_sem.Detector.EBSD\n",
    "sample_tilt = md_ebsd.sample_tilt  # Degrees\n",
    "camera_tilt = md_ebsd.azimuth_angle  # Degrees\n",
    "energy = md_sem.beam_energy  # kV"
   ]
  },
  {
   "cell_type": "markdown",
   "id": "9897b001-b8fe-4bf2-b559-751ea743e762",
   "metadata": {},
   "source": [
    "Generate an indexer instance with PyEBSDIndex for easy storage of relevant\n",
    "parameters used in projection center (PC) optimization"
   ]
  },
  {
   "cell_type": "code",
   "execution_count": 24,
   "id": "6ef1cc28",
   "metadata": {},
   "outputs": [],
   "source": [
    "indexer = ebsd_index.EBSDIndexer(\n",
    "    phaselist=[\"FCC\"],\n",
    "    vendor=\"BRUKER\",\n",
    "    PC=None,\n",
    "    sampleTilt=sample_tilt,\n",
    "    camElev=camera_tilt,\n",
    "    patDim=sig_shape_cal,\n",
    ")"
   ]
  },
  {
   "cell_type": "markdown",
   "id": "459b14b6-355e-4a90-b3b6-99813d31bc1a",
   "metadata": {},
   "source": [
    "Define an EBSD detector without a specific PC set"
   ]
  },
  {
   "cell_type": "code",
   "execution_count": 25,
   "id": "e6f9ecba-b39f-4089-ba62-108d35d16c47",
   "metadata": {},
   "outputs": [],
   "source": [
    "detector = kp.detectors.EBSDDetector(\n",
    "    shape=sig_shape_cal,\n",
    "    sample_tilt=sample_tilt,\n",
    "    tilt=camera_tilt,\n",
    ")"
   ]
  },
  {
   "cell_type": "markdown",
   "id": "0276a144-7ed0-4124-ab29-078d30c24f33",
   "metadata": {},
   "source": [
    "Load Al master pattern to use in PC refinement and to extract the Al crystal structure"
   ]
  },
  {
   "cell_type": "code",
   "execution_count": 26,
   "id": "dc92261b",
   "metadata": {},
   "outputs": [],
   "source": [
    "mp = kp.load(\n",
    "    os.path.join(dir_mp, \"al\", \"al_mc_mp_20kv.h5\"),\n",
    "    projection=\"lambert\",\n",
    "    energy=energy,\n",
    "    hemisphere=\"upper\",\n",
    ")\n",
    "mp.phase.name = \"al\""
   ]
  },
  {
   "cell_type": "markdown",
   "id": "32e7f4fe-3ccc-425f-8a54-62b45aa32ab6",
   "metadata": {},
   "source": [
    "Inspect geometrical simulations"
   ]
  },
  {
   "cell_type": "code",
   "execution_count": 27,
   "id": "33709886-3346-4ea3-82d5-6ea285260d33",
   "metadata": {},
   "outputs": [
    {
     "name": "stdout",
     "output_type": "stream",
     "text": [
      " h k l      d     |F|_hkl   |F|^2   |F|^2_rel   Mult \n",
      " 3 1 1    0.122     nan      nan       nan       24  \n",
      " 1 1 1    0.233     nan      nan       nan       8   \n",
      " 2 2 0    0.143     nan      nan       nan       12  \n",
      " 2 0 0    0.202     nan      nan       nan       6   \n"
     ]
    }
   ],
   "source": [
    "ref = ReciprocalLatticeVector(\n",
    "    phase=mp.phase, hkl=((1, 1, 1), (2, 0, 0), (2, 2, 0), (3, 1, 1))\n",
    ")\n",
    "ref = ref.symmetrise().unique()\n",
    "ref.print_table()"
   ]
  },
  {
   "cell_type": "code",
   "execution_count": 28,
   "id": "ab2e1a59-4118-4398-9cc7-1527fdd246ae",
   "metadata": {},
   "outputs": [],
   "source": [
    "simulator = kp.simulations.KikuchiPatternSimulator(ref)"
   ]
  },
  {
   "cell_type": "code",
   "execution_count": 29,
   "id": "a9e97430-6c40-4f54-b39c-ca60da50bc5a",
   "metadata": {},
   "outputs": [],
   "source": [
    "simulator.plot()"
   ]
  },
  {
   "cell_type": "markdown",
   "id": "d5651511",
   "metadata": {},
   "source": [
    "Find PC from single pattern using an initial guess, as a test"
   ]
  },
  {
   "cell_type": "code",
   "execution_count": 54,
   "id": "e03eed16",
   "metadata": {},
   "outputs": [
    {
     "name": "stdout",
     "output_type": "stream",
     "text": [
      "PC:  [0.48423261 0.13196559 0.54655104]\n",
      "Fit:  0.81284523\n",
      "Finding bands that are in some pattern:\n",
      "[########################################] | 100% Completed |  0.1s\n",
      "Finding zone axes that are in some pattern:\n",
      "[########################################] | 100% Completed |  0.1s\n",
      "Calculating detector coordinates for bands and zone axes:\n",
      "[########################################] | 100% Completed |  0.1s\n"
     ]
    }
   ],
   "source": [
    "pattern = s_cal.inav[0].data\n",
    "\n",
    "pc0_i = (0.4842, 0.1320, 0.5466)\n",
    "pc = pcopt.optimize(pattern, indexer, PC0=pc0_i)\n",
    "print(\"PC: \", pc)\n",
    "\n",
    "data = indexer.index_pats(pattern, PC=pc)[0]\n",
    "rot = Rotation(data[\"quat\"][-1]) * Rotation.from_axes_angles((0, 0, -1), np.pi / 2)\n",
    "print(\"Fit: \", data[\"fit\"][-1][0])\n",
    "\n",
    "detector.pc = pc\n",
    "geosim = simulator.on_detector(detector, rot)\n",
    "geosim.plot(pattern=pattern, zone_axes_labels=False, zone_axes=False)"
   ]
  },
  {
   "cell_type": "markdown",
   "id": "8e9c7c0b",
   "metadata": {},
   "source": [
    "Find PC from all patterns"
   ]
  },
  {
   "cell_type": "code",
   "execution_count": 55,
   "id": "fb5951ca",
   "metadata": {
    "tags": []
   },
   "outputs": [
    {
     "name": "stdout",
     "output_type": "stream",
     "text": [
      "[[0.48423261 0.13196559 0.54655104]\n",
      " [0.50740462 0.13010225 0.55332459]\n",
      " [0.4900785  0.1350787  0.55056136]\n",
      " [0.4885871  0.1410818  0.56044398]\n",
      " [0.51510815 0.14166006 0.54616885]\n",
      " [0.49661281 0.12874948 0.55910983]]\n",
      "[0.49700397 0.13477298 0.55269327]\n"
     ]
    }
   ],
   "source": [
    "pcs = np.zeros((nav_size, 3))\n",
    "for i in range(nav_size):\n",
    "    pcs[i] = pcopt.optimize(s_cal.inav[i].data, indexer, PC0=pc)\n",
    "print(pcs)\n",
    "\n",
    "pc = pcs.mean(axis=0)\n",
    "print(pc)"
   ]
  },
  {
   "cell_type": "markdown",
   "id": "0ad3cf0e-5ff1-429a-bb87-c5da8e06fc66",
   "metadata": {},
   "source": [
    "Index calibration patterns to check PCs"
   ]
  },
  {
   "cell_type": "code",
   "execution_count": 56,
   "id": "6c5f7717",
   "metadata": {},
   "outputs": [
    {
     "name": "stdout",
     "output_type": "stream",
     "text": [
      "[0.81284523 0.6172587  0.70641977 0.7907745  0.6424133  0.31427395]\n"
     ]
    }
   ],
   "source": [
    "data = indexer.index_pats(patsin=s_cal.data, PC=pcs)[0]\n",
    "rot = Rotation(data[\"quat\"][-1]) * Rotation.from_axes_angles((0, 0, -1), np.pi / 2)\n",
    "print(data[\"fit\"][-1])"
   ]
  },
  {
   "cell_type": "markdown",
   "id": "09faf1a1-2e5f-4a16-a9e8-1788a6d68bba",
   "metadata": {},
   "source": [
    "Update detector instance"
   ]
  },
  {
   "cell_type": "code",
   "execution_count": 57,
   "id": "61f4e8e3-23ee-4286-908a-bd2fdb7f45d6",
   "metadata": {},
   "outputs": [],
   "source": [
    "detector.pc = pcs"
   ]
  },
  {
   "cell_type": "code",
   "execution_count": 58,
   "id": "bf98d374-3dab-4b35-af97-15375d146b1c",
   "metadata": {},
   "outputs": [
    {
     "name": "stdout",
     "output_type": "stream",
     "text": [
      "Finding bands that are in some pattern:\n",
      "[########################################] | 100% Completed |  0.1s\n",
      "Finding zone axes that are in some pattern:\n",
      "[########################################] | 100% Completed |  0.1s\n",
      "Calculating detector coordinates for bands and zone axes:\n",
      "[########################################] | 100% Completed |  0.1s\n"
     ]
    }
   ],
   "source": [
    "geosim = simulator.on_detector(detector, rot)"
   ]
  },
  {
   "cell_type": "code",
   "execution_count": 59,
   "id": "366b82b1-a3c5-45f4-be8f-b9017a2d9680",
   "metadata": {},
   "outputs": [],
   "source": [
    "s_cal.add_marker(geosim.as_markers())"
   ]
  },
  {
   "cell_type": "markdown",
   "id": "3aa7cb2b-1b50-4aeb-96a9-e2eca26244ac",
   "metadata": {},
   "source": [
    "Refine results from PyEBSDIndex"
   ]
  },
  {
   "cell_type": "code",
   "execution_count": 60,
   "id": "aaee5aee-9391-438e-b900-1a742852767c",
   "metadata": {},
   "outputs": [
    {
     "name": "stdout",
     "output_type": "stream",
     "text": [
      "Refinement information:\n",
      "\tLocal optimization method: Nelder-Mead (minimize)\n",
      "\tKeyword arguments passed to method: {'method': 'Nelder-Mead'}\n",
      "Refining 6 orientation(s):\n",
      "[########################################] | 100% Completed | 10.0s\n",
      "Refinement speed: 0 patterns/s\n",
      "Refinement information:\n",
      "\tLocal optimization method: Nelder-Mead (minimize)\n",
      "\tKeyword arguments passed to method: {'method': 'Nelder-Mead'}\n",
      "Refining 6 projection center(s):\n",
      "[########################################] | 100% Completed |  7.6s\n",
      "Refinement speed: 0 patterns/s\n"
     ]
    }
   ],
   "source": [
    "xmap = CrystalMap(rotations=rot, phase_list=PhaseList(mp.phase))\n",
    "\n",
    "# First refine orientations, then projection centers\n",
    "ref_kwargs = dict(detector=detector, master_pattern=mp, energy=energy)\n",
    "xmap_refined = s_cal.refine_orientation(xmap=xmap, **ref_kwargs)\n",
    "_, detector_ref = s_cal.refine_projection_center(xmap=xmap_refined, **ref_kwargs)"
   ]
  },
  {
   "cell_type": "markdown",
   "id": "43285fd8",
   "metadata": {},
   "source": [
    "Check geometrical simulations of refined orientations and PCs"
   ]
  },
  {
   "cell_type": "code",
   "execution_count": 61,
   "id": "37f7d2c6-bc82-499a-9ac0-36d04ef8d731",
   "metadata": {},
   "outputs": [
    {
     "name": "stdout",
     "output_type": "stream",
     "text": [
      "Finding bands that are in some pattern:\n",
      "[########################################] | 100% Completed |  0.1s\n",
      "Finding zone axes that are in some pattern:\n",
      "[########################################] | 100% Completed |  0.1s\n",
      "Calculating detector coordinates for bands and zone axes:\n",
      "[########################################] | 100% Completed |  0.1s\n"
     ]
    }
   ],
   "source": [
    "geosim_ref = simulator.on_detector(detector_ref, xmap_refined.rotations)"
   ]
  },
  {
   "cell_type": "code",
   "execution_count": 62,
   "id": "5e9bfa47-d7a7-4652-8524-400f44089451",
   "metadata": {},
   "outputs": [],
   "source": [
    "s_cal.add_marker(geosim_ref.as_markers())"
   ]
  },
  {
   "cell_type": "code",
   "execution_count": 63,
   "id": "67bf4974-ef78-426b-9bd0-14e7976bb847",
   "metadata": {},
   "outputs": [],
   "source": [
    "np.savetxt(\n",
    "    os.path.join(dir_kp, \"cal_pcs.txt\"),\n",
    "    np.column_stack((cal_pats_al[sample][dset_no], detector_ref.pc)),\n",
    "    fmt=\"%i %.12f %.12f %.12f\",\n",
    "    header=\"Cal. pattern, PC (x, y, z) in Bruker's convention\"\n",
    ")"
   ]
  },
  {
   "cell_type": "markdown",
   "id": "8ebc851e-3fd9-4a7e-b7d0-0f20bbf9ba86",
   "metadata": {},
   "source": [
    "## Dictionary indexing\n",
    "\n",
    "Done in a separate notebook using the above obtained PC.\n",
    "\n",
    "## Refinement\n",
    "\n",
    "Done in a separate notebook using the DI results."
   ]
  }
 ],
 "metadata": {
  "kernelspec": {
   "display_name": "Python 3 (ipykernel)",
   "language": "python",
   "name": "python3"
  },
  "language_info": {
   "codemirror_mode": {
    "name": "ipython",
    "version": 3
   },
   "file_extension": ".py",
   "mimetype": "text/x-python",
   "name": "python",
   "nbconvert_exporter": "python",
   "pygments_lexer": "ipython3",
   "version": "3.9.13"
  }
 },
 "nbformat": 4,
 "nbformat_minor": 5
}
