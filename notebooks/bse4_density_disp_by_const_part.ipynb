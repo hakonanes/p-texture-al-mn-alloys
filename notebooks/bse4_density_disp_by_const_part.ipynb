{
 "cells": [
  {
   "cell_type": "markdown",
   "id": "0377347c-b6c5-44c2-884a-c6fc3ca0e03e",
   "metadata": {},
   "source": [
    "# Density of dispersoids by constituent particles\n",
    "\n",
    "Håkon Wiik Ånes (hakon.w.anes@ntnu.no), 2022-11-24, Norwegian University of Science and Technology (NTNU)\n",
    "\n",
    "This notebook as a *Python* script accepting parameters is also available under the same file name.\n",
    "\n",
    "Procedure:\n",
    "1. Get label map for particles\n",
    "2. Expand label map using `skimage.segmentation.expand_labels()`, which uses `scipy.ndimage.distance_transform_edt()`\n",
    "3. Get masks of region inside precipitate-free zones (PFZs), excluding big particles, and outside\n",
    "4. Calculate:\n",
    "    1. Density of particles inside and outside PFZs\n",
    "    2. Area weighted particle size inside and outside PFZs"
   ]
  },
  {
   "cell_type": "code",
   "execution_count": null,
   "id": "710d0000-173a-41af-adde-530ee2a4a3b8",
   "metadata": {},
   "outputs": [],
   "source": [
    "%matplotlib inline\n",
    "\n",
    "from datetime import date\n",
    "import importlib_metadata\n",
    "from pathlib import Path\n",
    "import re\n",
    "\n",
    "import matplotlib.patches as mpatches\n",
    "import matplotlib.pyplot as plt\n",
    "import numpy as np\n",
    "import pandas as pd\n",
    "import skimage.color as skc\n",
    "from skimage.measure import label\n",
    "from skimage.segmentation import expand_labels\n",
    "\n",
    "from mapregions import MapRegions\n",
    "\n",
    "\n",
    "print(\"Run date: \", date.today())\n",
    "print(\"\\nSoftware versions\\n-----------------\")\n",
    "for pkg in [\"mapregions\", \"matplotlib\", \"numpy\", \"pandas\", \"scikit-image\"]:\n",
    "    if pkg == \"numpy\":\n",
    "        ver = np.__version__\n",
    "    else:\n",
    "        ver = importlib_metadata.version(pkg)\n",
    "    print(pkg, \":\", ver)"
   ]
  },
  {
   "cell_type": "code",
   "execution_count": null,
   "id": "380c64d2-1abb-488f-ac38-b22179ba4313",
   "metadata": {},
   "outputs": [],
   "source": [
    "bse_step_size = 1 / 39.2\n",
    "titles = [\"Def.\", r\"175 $^{\\circ}$C\", r\"300 $^{\\circ}$C\", r\"325 $^{\\circ}$C\"]\n",
    "identifier = [\"0s\", \"175c\", \"300c\", \"325c\"]"
   ]
  },
  {
   "cell_type": "markdown",
   "id": "3866c02f-88e2-4bdc-a24c-321861d8b7e9",
   "metadata": {
    "tags": []
   },
   "source": [
    "## Densities and sizes per dataset"
   ]
  },
  {
   "cell_type": "markdown",
   "id": "54d047ff-0529-4ba6-8fc1-25c72f89ace9",
   "metadata": {},
   "source": [
    "Set input parameters"
   ]
  },
  {
   "cell_type": "code",
   "execution_count": null,
   "id": "b3d612f0-2db1-485c-8a5f-1bbdf0326a43",
   "metadata": {},
   "outputs": [],
   "source": [
    "to_plot = True\n",
    "\n",
    "# Dataset\n",
    "sample = \"300c\"\n",
    "dset = 1\n",
    "\n",
    "# Particle size thresholds in um for constituent particles (PSN) and\n",
    "# dispersoids (Smith-Zener drag)\n",
    "constituent_threshold = 0.8\n",
    "dispersoid_threshold_max = 0.24  # um\n",
    "dispersoid_threshold_min = 0.03  # um\n",
    "\n",
    "# Extent of PFZ out from constituent particles in um\n",
    "pfz_extent = 2"
   ]
  },
  {
   "cell_type": "code",
   "execution_count": null,
   "id": "58374730-e0fe-43ac-9592-eafa9b96bc13",
   "metadata": {},
   "outputs": [],
   "source": [
    "pfz_extent_px = int(np.ceil(pfz_extent * bse_step_size * 1e3))"
   ]
  },
  {
   "cell_type": "markdown",
   "id": "923a8279-55e1-4edd-81f9-9e5928b65b22",
   "metadata": {},
   "source": [
    "Load data"
   ]
  },
  {
   "cell_type": "code",
   "execution_count": null,
   "id": "25e4baf7-8d20-49ed-bbdc-a655f39a8c31",
   "metadata": {},
   "outputs": [],
   "source": [
    "dir_data = Path(\"/home/hakon/phd/data/p/prover\") / sample / str(dset) / \"partdet\"\n",
    "img = np.load(dir_data / \"bse_labels_filled_filtered.npy\")"
   ]
  },
  {
   "cell_type": "markdown",
   "id": "0664290a-c3d0-4460-a66d-1320f2fc7e05",
   "metadata": {},
   "source": [
    "Get label map of particles"
   ]
  },
  {
   "cell_type": "code",
   "execution_count": null,
   "id": "86759880-19c1-49fd-b29e-6ead5420f75a",
   "metadata": {},
   "outputs": [],
   "source": [
    "seg1 = label(img)\n",
    "mreg = MapRegions(seg1, dx=bse_step_size, dy=bse_step_size, background_label=0, scan_unit=\"um\")"
   ]
  },
  {
   "cell_type": "markdown",
   "id": "45edd47a-09aa-4d5e-90c5-c2ab15f6c1a9",
   "metadata": {},
   "source": [
    "Get big particles"
   ]
  },
  {
   "cell_type": "code",
   "execution_count": null,
   "id": "0d098285-e2b7-47c8-baa7-285da69664d3",
   "metadata": {},
   "outputs": [],
   "source": [
    "mask_big = 0.816 * 2 * mreg.equivalent_radius >= constituent_threshold\n",
    "\n",
    "mreg_big = mreg[mask_big]\n",
    "mreg_big"
   ]
  },
  {
   "cell_type": "markdown",
   "id": "231fe86e-402d-4515-91d1-f3c7ebbdfbeb",
   "metadata": {},
   "source": [
    "Extend label map of big particles"
   ]
  },
  {
   "cell_type": "code",
   "execution_count": null,
   "id": "0b9bb0f9-2756-4e3f-acbb-0cf0a085bccd",
   "metadata": {},
   "outputs": [],
   "source": [
    "seg2 = expand_labels(mreg_big.label_map, distance=pfz_extent_px)\n",
    "mask = seg2 > 0"
   ]
  },
  {
   "cell_type": "markdown",
   "id": "34502fa1-cc1a-45e2-bcc8-870f7a265209",
   "metadata": {},
   "source": [
    "Mask and area of precipitate-free zones (PFZs)"
   ]
  },
  {
   "cell_type": "code",
   "execution_count": null,
   "id": "cc50606d-bdba-4448-b572-b9b0ef21c0a8",
   "metadata": {},
   "outputs": [],
   "source": [
    "pfz = mask.astype(int) - (~mreg_big.is_background_map).astype(int)\n",
    "pfz = pfz.astype(bool)\n",
    "area_pfz = np.sum(pfz) * bse_step_size ** 2"
   ]
  },
  {
   "cell_type": "markdown",
   "id": "03291619-ed7f-4e73-b823-23c4dc9d483e",
   "metadata": {},
   "source": [
    "Mask and area of pixels outside PFZs (excluding constituent particles themselves)"
   ]
  },
  {
   "cell_type": "code",
   "execution_count": null,
   "id": "67d7f8f3-0290-4632-badd-43bd49ccdb9f",
   "metadata": {},
   "outputs": [],
   "source": [
    "not_pfz = ~pfz\n",
    "not_pfz[~mreg_big.is_background_map] = False\n",
    "area_not_pfz = np.sum(not_pfz) * bse_step_size ** 2"
   ]
  },
  {
   "cell_type": "markdown",
   "id": "58c2a4f7-d407-4900-a298-e5e1157fdba0",
   "metadata": {},
   "source": [
    "Sanity checks (raise assertion error(s) if false)"
   ]
  },
  {
   "cell_type": "code",
   "execution_count": null,
   "id": "a5ab1083-8e7d-411b-bcbd-c9713630d9c3",
   "metadata": {},
   "outputs": [],
   "source": [
    "# Mask sizes\n",
    "assert np.sum([pfz, not_pfz, ~mreg_big.is_background_map]) == img.size\n",
    "\n",
    "# Areas\n",
    "assert np.allclose(\n",
    "    np.sum([area_pfz, area_not_pfz, np.sum(~mreg_big.is_background_map) * bse_step_size ** 2]),\n",
    "    img.size * bse_step_size ** 2,\n",
    "    atol=1e-5\n",
    ")"
   ]
  },
  {
   "cell_type": "markdown",
   "id": "67c6d3a5-5727-4ea2-9004-da94416140c9",
   "metadata": {},
   "source": [
    "Plot all maps"
   ]
  },
  {
   "cell_type": "code",
   "execution_count": null,
   "id": "f860e586-a9b1-473c-85ef-8c6198223363",
   "metadata": {},
   "outputs": [],
   "source": [
    "if to_plot:\n",
    "    ratio_wh = mask.shape[1] / mask.shape[0]\n",
    "    i = 9\n",
    "    figsize = (i * ratio_wh, i)\n",
    "\n",
    "    fig, axes = plt.subplots(ncols=2, nrows=2, figsize=figsize)\n",
    "    ax0, ax1, ax2, ax3 = axes.ravel()\n",
    "    ax0.imshow(skc.label2rgb(mreg_big.label_map))\n",
    "    ax1.imshow(skc.label2rgb(seg2))\n",
    "    ax2.imshow(pfz)\n",
    "    ax3.imshow(not_pfz)\n",
    "    for ax, title in zip(\n",
    "        axes.ravel(),\n",
    "        [\"Big particles\", \"Big particles extended\", \"Inside PFZ\", \"Outside PFZ\"]\n",
    "    ):\n",
    "        ax.axis(\"off\")\n",
    "        ax.set_title(title)\n",
    "    fig.tight_layout(pad=0.5)\n",
    "    fig.savefig(\n",
    "        dir_data / f\"pfz_threshold{constituent_threshold:.2f}_pfz{pfz_extent:.2f}.png\",\n",
    "        bbox_inches=\"tight\",\n",
    "        pad_inches=0,\n",
    "        dpi=300\n",
    "    )"
   ]
  },
  {
   "cell_type": "markdown",
   "id": "6f719131-1678-40c7-bed7-ecdfd294ab0d",
   "metadata": {},
   "source": [
    "Get labels of constituent particles, dispersoids inside PFZs and dispersoids outside\n",
    "PFZs"
   ]
  },
  {
   "cell_type": "code",
   "execution_count": null,
   "id": "aaef26b9-8f96-42b4-85b4-ac9f92c1361b",
   "metadata": {},
   "outputs": [],
   "source": [
    "# Constituent particles\n",
    "labels_big = mreg.label[mask_big]\n",
    "\n",
    "# All particles inside PFZs (regardless of size), excluding constituent particles\n",
    "labels_inside_all = mreg.label_map[pfz]\n",
    "labels_inside = np.unique(labels_inside_all)[1:]\n",
    "\n",
    "# Outside PFZs\n",
    "mask_outside_all = ~np.isin(mreg.label, np.concatenate([labels_big, labels_inside]))\n",
    "labels_outside = mreg.label[mask_outside_all]"
   ]
  },
  {
   "cell_type": "markdown",
   "id": "894b90f9-b190-4b3c-982c-91c7a96b162c",
   "metadata": {},
   "source": [
    "Sanity check (raises assertion error if false)"
   ]
  },
  {
   "cell_type": "code",
   "execution_count": null,
   "id": "6d98a566-1bce-46d6-9e70-808eea9ea4aa",
   "metadata": {},
   "outputs": [],
   "source": [
    "assert np.allclose(mreg.label, np.sort(np.concatenate([labels_big, labels_inside, labels_outside])))"
   ]
  },
  {
   "cell_type": "markdown",
   "id": "2f1bfb48-c32c-485b-93e4-b5f3b9be7ff9",
   "metadata": {},
   "source": [
    "Density and size of dispersoids inside PFZ"
   ]
  },
  {
   "cell_type": "code",
   "execution_count": null,
   "id": "6c2c98ef-c0ac-47f7-9a1a-4c447d967a8d",
   "metadata": {},
   "outputs": [],
   "source": [
    "r_all = 0.816 * 2 * mreg.equivalent_radius\n",
    "mask_dispersoid_all = (r_all >= dispersoid_threshold_min) & (r_all <= dispersoid_threshold_max)\n",
    "\n",
    "mask_inside_all = np.isin(mreg.label, labels_inside)\n",
    "mreg_inside = mreg[mask_inside_all & mask_dispersoid_all]\n",
    "\n",
    "n_inside = mreg_inside.label.size\n",
    "size_inside = 0.816 * 2 * mreg_inside.equivalent_radius\n",
    "area_inside = mreg_inside.area\n",
    "\n",
    "# Statistics\n",
    "density_inside = n_inside / area_pfz\n",
    "size_inside_mean = np.average(size_inside, weights=area_inside)\n",
    "\n",
    "print(f\"{density_inside:.2f}, {size_inside_mean:.2f}\")"
   ]
  },
  {
   "cell_type": "markdown",
   "id": "bc8ecffa-4023-4cbb-9d59-d0cd8935627d",
   "metadata": {},
   "source": [
    "Density and size of dispersoids outside PFZ"
   ]
  },
  {
   "cell_type": "code",
   "execution_count": null,
   "id": "2f24a3c5-0480-444d-b98e-27928fd08e7b",
   "metadata": {},
   "outputs": [],
   "source": [
    "mreg_outside = mreg[mask_outside_all & mask_dispersoid_all]\n",
    "\n",
    "n_outside = mreg_outside.label.size\n",
    "size_outside = 0.816 * 2 * mreg_outside.equivalent_radius\n",
    "area_outside = mreg_outside.area\n",
    "\n",
    "# Statistics\n",
    "density_outside = n_outside / area_not_pfz\n",
    "size_outside_mean = np.average(size_outside, weights=area_outside)\n",
    "\n",
    "print(f\"{density_outside:.2f}, {size_outside_mean:.2f}\")"
   ]
  },
  {
   "cell_type": "markdown",
   "id": "f0a732fa-5808-40cc-96a3-327c160e05bc",
   "metadata": {},
   "source": [
    "Concatenate data and save to one file"
   ]
  },
  {
   "cell_type": "code",
   "execution_count": null,
   "id": "3e0ad298-85bb-44d6-a479-b0e470d9dced",
   "metadata": {},
   "outputs": [],
   "source": [
    "columns = [\"r\", \"area\", \"is_constituent\", \"is_dispersoid\", \"inside_pfz\"]\n",
    "particles = pd.DataFrame(\n",
    "    np.zeros((mreg.label.size, len(columns))),\n",
    "    columns=columns,\n",
    ")"
   ]
  },
  {
   "cell_type": "code",
   "execution_count": null,
   "id": "7f9054ea-883a-42e2-8090-cc77bbafed98",
   "metadata": {},
   "outputs": [],
   "source": [
    "particles.loc[mask_big, \"is_constituent\"] = 1\n",
    "particles.loc[mask_dispersoid_all, \"is_dispersoid\"] = 1\n",
    "particles.loc[mask_inside_all, \"inside_pfz\"] = 1\n",
    "\n",
    "particles[\"r\"] = mreg.equivalent_radius\n",
    "particles[\"area\"] = mreg.area"
   ]
  },
  {
   "cell_type": "markdown",
   "id": "57b90aa3-965b-4344-ae07-59c143c06da4",
   "metadata": {},
   "source": [
    "Sanity check"
   ]
  },
  {
   "cell_type": "code",
   "execution_count": null,
   "id": "940453d1-521a-4b3b-a359-6d984f9b0006",
   "metadata": {},
   "outputs": [],
   "source": [
    "assert np.allclose(\n",
    "    np.sum(particles[\"inside_pfz\"].astype(bool) & particles[\"is_dispersoid\"].astype(bool)),\n",
    "    n_inside\n",
    ")\n",
    "assert np.allclose(particles[\"is_constituent\"].sum(), mreg_big.label.size)"
   ]
  },
  {
   "cell_type": "markdown",
   "id": "77b355c6-c149-45f8-9c46-b6a0ca299b68",
   "metadata": {},
   "source": [
    "Write to file"
   ]
  },
  {
   "cell_type": "code",
   "execution_count": null,
   "id": "3201d079-5fac-43ae-9cda-53d221d20496",
   "metadata": {},
   "outputs": [],
   "source": [
    "np.savetxt(\n",
    "    dir_data / f\"pfz_stats_threshold{constituent_threshold:.2f}_pfz{pfz_extent:.2f}.csv\",\n",
    "    particles.values,\n",
    "    fmt=\"%.5f,%.5f,%i,%i,%i\",\n",
    "    header=(\n",
    "        \"r,area,is_constituent,is_dispersoid,inside_pfz\\n\"\n",
    "        f\"area pfz: {area_pfz:.5f} \\n\"\n",
    "        f\"area not pfz: {area_not_pfz:.5f}\"\n",
    "    )\n",
    ")"
   ]
  },
  {
   "cell_type": "markdown",
   "id": "0a8e930b-8012-4b43-ba96-b724bebb101b",
   "metadata": {},
   "source": [
    "## Densities and sizes per condition"
   ]
  },
  {
   "cell_type": "code",
   "execution_count": null,
   "id": "a68caaf2-3dc6-4128-a4c1-96de249f6684",
   "metadata": {},
   "outputs": [],
   "source": [
    "dsets = [\"1\", \"2\", \"3\"]\n",
    "t_pfz = [0.5, 1, 1.5, 2]\n",
    "constituent_threshold = [0.7, 0.8, 0.9, 1]\n",
    "\n",
    "density_inside = np.zeros((len(identifier), len(t_pfz), len(constituent_threshold)))\n",
    "size_inside_mean = np.zeros_like(density_inside)\n",
    "density_outside = np.zeros_like(density_inside)\n",
    "size_outside_mean = np.zeros_like(density_inside)\n",
    "fv_inside = np.zeros_like(density_inside)\n",
    "fv_outside = np.zeros_like(density_inside)\n",
    "nv_inside_mean = np.zeros_like(density_inside)\n",
    "nv_outside_mean = np.zeros_like(density_inside)\n",
    "nv_inside_std = np.zeros_like(density_inside)\n",
    "nv_outside_std = np.zeros_like(density_inside)\n",
    "ns_inside_mean = np.zeros_like(density_inside)\n",
    "ns_outside_mean = np.zeros_like(density_inside)\n",
    "ns_inside_std = np.zeros_like(density_inside)\n",
    "ns_outside_std = np.zeros_like(density_inside)\n",
    "\n",
    "for i, sample in enumerate(identifier):\n",
    "    for j, t_pfz_j in enumerate(t_pfz):\n",
    "        for k, ct_k in enumerate(constituent_threshold):\n",
    "            masks_inside = np.zeros((0,), dtype=bool)\n",
    "            masks_outside = np.zeros((0,), dtype=bool)\n",
    "            radii = np.zeros((0,))\n",
    "            areas = np.zeros((0,))\n",
    "            area_pfz_all = 0\n",
    "            area_not_pfz_all = 0\n",
    "\n",
    "            for l, dset in enumerate(dsets):\n",
    "                dir_data = f\"/home/hakon/phd/data/p/prover/{sample}/{dset}/partdet\"\n",
    "                fname = f\"pfz_stats_threshold{ct_k:.2f}_pfz{t_pfz_j:.2f}.csv\"\n",
    "                \n",
    "                # Read total areas inside PFZ and outside PFZ\n",
    "                with open(dir_data + \"/\" + fname, mode=\"r\") as f:\n",
    "                    header = f.readlines()[1:3]\n",
    "                area_pfz_all += float(re.search(\"\\d+.\\d+\", header[0]).group())\n",
    "                area_not_pfz_all += float(re.search(\"\\d+.\\d+\", header[1]).group())\n",
    "                \n",
    "                # Read particle data\n",
    "                (\n",
    "                    r, area, is_const, is_disp, inside_pfz\n",
    "                ) = np.loadtxt(dir_data + \"/\" + fname, delimiter=\",\", skiprows=2, unpack=True)\n",
    "                is_const = is_const.astype(bool)\n",
    "                is_disp = is_disp.astype(bool)\n",
    "                inside_pfz = inside_pfz.astype(bool)\n",
    "                \n",
    "                # Create masks\n",
    "                mask_inside = np.logical_and.reduce((inside_pfz, is_disp, ~is_const))\n",
    "                mask_outside = np.logical_and.reduce((~inside_pfz, is_disp, ~is_const))\n",
    "                \n",
    "                # Append\n",
    "                masks_inside = np.append(masks_inside, mask_inside)\n",
    "                masks_outside = np.append(masks_outside, mask_outside)\n",
    "                radii = np.append(radii, r)\n",
    "                areas = np.append(areas, area)\n",
    "                \n",
    "            # Calculate statistics\n",
    "            radii_inside = radii[masks_inside]\n",
    "            radii_outside = radii[masks_outside]\n",
    "            area_inside = areas[masks_inside]\n",
    "            area_outside = areas[masks_outside]\n",
    "            density_inside[i, j, k] = np.sum(masks_inside) / area_pfz_all\n",
    "            density_outside[i, j, k] = np.sum(masks_outside) / area_not_pfz_all\n",
    "            size_inside_mean[i, j, k] = np.average(radii_inside, weights=area_inside)\n",
    "            size_outside_mean[i, j, k] = np.average(radii_outside, weights=area_outside)\n",
    "            \n",
    "            fv_inside[i, j, k] = np.sum(area_inside) / area_pfz_all\n",
    "            fv_outside[i, j, k] = np.sum(area_outside) / area_not_pfz_all\n",
    "            nv_in = 3 * fv_inside[i, j, k] / (4 * np.pi * radii_inside ** 3)\n",
    "            nv_out = 3 * fv_outside[i, j, k] / (4 * np.pi * radii_outside ** 3)\n",
    "            ns_in = 2 * radii_inside * nv_in\n",
    "            ns_out = 2 * radii_outside * nv_out\n",
    "            nv_inside_mean[i, j, k] = nv_in.mean()\n",
    "            nv_outside_mean[i, j, k] = nv_out.mean()\n",
    "            nv_inside_std[i, j, k] = nv_in.std()\n",
    "            nv_outside_std[i, j, k] = nv_out.std()\n",
    "            ns_inside_mean[i, j, k] = ns_in.mean()\n",
    "            ns_outside_mean[i, j, k] = ns_out.mean()\n",
    "            ns_inside_std[i, j, k] = ns_in.std()\n",
    "            ns_outside_std[i, j, k] = ns_out.std()"
   ]
  },
  {
   "cell_type": "markdown",
   "id": "99498222-0731-44e3-b37d-1f34684d83c2",
   "metadata": {},
   "source": [
    "Plot of parameter search"
   ]
  },
  {
   "cell_type": "code",
   "execution_count": null,
   "id": "0a447762-b8b3-4703-885a-340db700bbf8",
   "metadata": {},
   "outputs": [],
   "source": [
    "i = 3\n",
    "x_ticks = np.arange(len(constituent_threshold))\n",
    "y_ticks = np.arange(len(t_pfz))\n",
    "\n",
    "fig, (ax0, ax1) = plt.subplots(ncols=2, figsize=(10, 10 / 2.6))\n",
    "im0 = ax0.imshow(ns_inside_mean[i] / ns_outside_mean[i])\n",
    "im1 = ax1.imshow(size_inside_mean[i] / size_outside_mean[i])\n",
    "\n",
    "# Colorbars\n",
    "fig.colorbar(im0, ax=ax0, label=\"Relative dispersoid density $N_{\\mathrm{S,PFZ}} / N_{\\mathrm{S}}$\")\n",
    "fig.colorbar(im1, ax=ax1, label=\"Relative dispersoid size $d_{\\mathrm{A,PFZ}} / d_{\\mathrm{A}}$\")\n",
    "\n",
    "# Ticks and annotations\n",
    "for ax in (ax0, ax1):\n",
    "    ax.set_xticks(x_ticks)\n",
    "    ax.set_xticklabels(constituent_threshold)\n",
    "    ax.set_yticks(y_ticks)\n",
    "    ax.set_yticklabels(t_pfz)\n",
    "    ax.set_xlabel(r\"Min. constituent particle size $d$ [$\\mu$m]\")\n",
    "    ax.set_ylabel(r\"PFZ thickness [$\\mu$m]\")\n",
    "    # Rectangle\n",
    "    rect_vert = mpatches.Rectangle(\n",
    "        xy=(x_ticks[1] - 0.5, y_ticks[0] - 0.5),\n",
    "        width=1,\n",
    "        height=y_ticks.size,\n",
    "        ec=\"r\",\n",
    "        fc=\"none\",\n",
    "        zorder=10,\n",
    "        clip_on=False,\n",
    "        linewidth=2\n",
    "    )\n",
    "    ax.add_patch(rect_vert)\n",
    "\n",
    "# Print values inside tiles\n",
    "for y in y_ticks:\n",
    "    for x in x_ticks:\n",
    "        ax0.text(x, y, f\"{ns_inside_mean[i, y, x] / ns_outside_mean[i, y, x]:.2f}\", va=\"center\", ha=\"center\", c=\"r\")\n",
    "        ax1.text(x, y, f\"{size_inside_mean[i, y, x] / size_outside_mean[i, y, x]:.2f}\", va=\"center\", ha=\"center\", c=\"r\")\n",
    "fig.tight_layout()\n",
    "#fig.savefig(\n",
    "#    f\"/home/hakon/phd/data/p/prover/{identifier[i]}/pfz_param_search.png\",\n",
    "#    bbox_inches=\"tight\",\n",
    "#    pad_inches=0,\n",
    "#    dpi=150\n",
    "#)"
   ]
  },
  {
   "cell_type": "markdown",
   "id": "0b18103b-6d00-411c-a556-38dd3414c49b",
   "metadata": {},
   "source": [
    "Plots as a function of distance from the particle"
   ]
  },
  {
   "cell_type": "code",
   "execution_count": null,
   "id": "f635b338-b266-4af2-aa5f-1f986923e6df",
   "metadata": {},
   "outputs": [],
   "source": [
    "fig, (ax0, ax1) = plt.subplots(ncols=2, figsize=(8, 4))\n",
    "for i, title in enumerate(titles):\n",
    "    ax0.plot(x_ticks, ns_inside_mean[i, :, 1] / ns_outside_mean[i, :, 1], \"-o\", label=title)\n",
    "    ax1.plot(x_ticks, size_inside_mean[i, :, 1] / size_outside_mean[i, :, 1], \"-o\")\n",
    "# Ticks\n",
    "ax0.set_xticks(x_ticks)\n",
    "ax0.set_xticklabels(t_pfz)\n",
    "ax1.set_xticks(x_ticks)\n",
    "ax1.set_xticklabels(t_pfz)\n",
    "# Labels\n",
    "ax0.set_xlabel(\"Distance from constituent particles [$\\mu$m]\")\n",
    "ax0.set_ylabel(\"Relative dispersoid density $N_{\\mathrm{S,PFZ}} / N_{\\mathrm{S}}$\")\n",
    "ax1.set_xlabel(\"Distance from constituent particles [$\\mu$m]\")\n",
    "ax1.set_ylabel(\"Relative dispersoid size $d_{\\mathrm{A,PFZ}} / d_{\\mathrm{A}}$\")\n",
    "# Horizontal line at 1\n",
    "xlim = ax0.get_xlim()\n",
    "ax0.plot([x_ticks[0] - 1, x_ticks[-1] + 1], [1, 1], \"--\", color=\"gray\", zorder=0)\n",
    "ax0.set_xlim(*xlim)\n",
    "ax0.legend()\n",
    "fig.tight_layout()\n",
    "#fig.savefig(\"/home/hakon/phd/data/p/prover/pfz_distance.png\", bbox_inches=\"tight\", pad_inches=0, dpi=300)"
   ]
  }
 ],
 "metadata": {
  "kernelspec": {
   "display_name": "Python 3 (ipykernel)",
   "language": "python",
   "name": "python3"
  },
  "language_info": {
   "codemirror_mode": {
    "name": "ipython",
    "version": 3
   },
   "file_extension": ".py",
   "mimetype": "text/x-python",
   "name": "python",
   "nbconvert_exporter": "python",
   "pygments_lexer": "ipython3",
   "version": "3.10.8"
  }
 },
 "nbformat": 4,
 "nbformat_minor": 5
}
