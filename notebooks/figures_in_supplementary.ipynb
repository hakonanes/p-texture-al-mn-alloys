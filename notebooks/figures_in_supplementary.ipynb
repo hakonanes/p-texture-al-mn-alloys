{
 "cells": [
  {
   "cell_type": "markdown",
   "id": "dd30e9a0-7158-441e-b085-6640c03b034c",
   "metadata": {},
   "source": [
    "# Figures in supplementary\n",
    "\n",
    "Håkon Wiik Ånes (hakon.w.anes@ntnu.no), 2022-11-29, Norwegian University of Science and Technology (NTNU)\n",
    "\n",
    "Some figures in the supplementary are generated in the `figures_in_paper` notebook."
   ]
  },
  {
   "cell_type": "code",
   "execution_count": null,
   "id": "6d9d0675-aba6-41d8-ba5e-41e2bb5dff87",
   "metadata": {},
   "outputs": [],
   "source": [
    "# Switch to interactive Matplotlib backend (e.g. qt5) for control point determination\n",
    "%matplotlib qt5\n",
    "\n",
    "from datetime import date\n",
    "import importlib_metadata\n",
    "import os\n",
    "\n",
    "import matplotlib.pyplot as plt\n",
    "from matplotlib_scalebar.scalebar import ScaleBar\n",
    "import scipy.ndimage as ndi\n",
    "import numpy as np\n",
    "import skimage.exposure as ske\n",
    "import skimage.color as skc\n",
    "import skimage.transform as skt\n",
    "\n",
    "\n",
    "# Interactive plotting OFF\n",
    "plt.ioff()\n",
    "\n",
    "# Other Matplotlib parameters\n",
    "scalebar_kwds = dict(\n",
    "    units=\"um\",\n",
    "    dimension=\"si-length\",\n",
    "    location=\"lower left\",\n",
    "    pad=0.2,\n",
    "    sep=3,\n",
    "    border_pad=0.5,\n",
    "    box_alpha=0.6,\n",
    "    fixed_value=15,\n",
    ")\n",
    "plt.rcParams.update({\"font.size\": 11, \"figure.dpi\": 300})\n",
    "savefig_kw = dict(bbox_inches=\"tight\", pad_inches=0.01, transparent=True)\n",
    "\n",
    "print(\"Run date: \", date.today())\n",
    "print(\"\\nSoftware versions\\n-----------------\")\n",
    "for pkg in [\"matplotlib\", \"numpy\", \"scikit-image\"]:\n",
    "    if pkg == \"numpy\":\n",
    "        ver = np.__version__\n",
    "    else:\n",
    "        ver = importlib_metadata.version(pkg)\n",
    "    print(pkg, \":\", ver)"
   ]
  },
  {
   "cell_type": "code",
   "execution_count": null,
   "id": "fde62ad7-9b74-4ead-b0c5-23c19de75fbf",
   "metadata": {},
   "outputs": [],
   "source": [
    "step_size = dict(ebsd=100, bse=1 / 39.2e-3)\n",
    "scale_ebsd_bse = step_size[\"ebsd\"] / step_size[\"bse\"]"
   ]
  },
  {
   "cell_type": "code",
   "execution_count": null,
   "id": "9ccaf7b6-97a7-451b-8c80-187a86c5d878",
   "metadata": {},
   "outputs": [],
   "source": [
    "ebsd_pad = {\n",
    "    \"0s\": {1: [(0, 0), (0, 0)], 2: [(0, 0), (0, 0)], 3: [(0, 0), (0, 0)]},\n",
    "    \"175c\": {1: [(100, 0), (0, 0)], 2: [(0, 0), (0, 0)], 3: [(200, 100), (100, 0)]},\n",
    "    \"300c\": {1: [(0, 0), (0, 0)], 2: [(0, 0), (0, 0)], 3: [(0, 0), (0, 0)]},\n",
    "    \"325c\": {1: [(0, 0), (0, 0)], 2: [(0, 0), (0, 0)], 3: [(100, 0), (0, 0)]},\n",
    "}"
   ]
  },
  {
   "cell_type": "code",
   "execution_count": null,
   "id": "7edd1c37-6d0c-40d1-bb0b-318f0d6d87df",
   "metadata": {},
   "outputs": [],
   "source": [
    "sample = \"325c\"\n",
    "dset_no = 3\n",
    "dir_article = \"/home/hakon/phd/artikler_abstract/202204_aanes_p_texture_almn_alloy_actamat/latex/fig\"\n",
    "dir_data = os.path.join(\"/home/hakon/phd/data/p/prover\", sample, str(dset_no))\n",
    "dir_bse = os.path.join(dir_data, \"bse\")\n",
    "dir_mtex = os.path.join(dir_data, \"mtex\")\n",
    "dir_imreg = os.path.join(dir_data, \"imreg\")\n",
    "dir_partdet = os.path.join(dir_data, \"partdet\")"
   ]
  },
  {
   "cell_type": "markdown",
   "id": "568ae405-a90e-410f-97b3-a65ec8bb1ace",
   "metadata": {},
   "source": [
    "Read backscatter electron (BSE) image from region of interest (ROI) of electron backscatter diffraction (EBSD) map"
   ]
  },
  {
   "cell_type": "code",
   "execution_count": null,
   "id": "abfee49d-5490-40dc-8d5a-0d31f7d8463e",
   "metadata": {},
   "outputs": [],
   "source": [
    "bse = plt.imread(os.path.join(dir_imreg, \"reg_bse_no_padding.png\"))\n",
    "bse = skc.rgb2gray(bse[..., :3])\n",
    "\n",
    "# Cut to ROI\n",
    "mask1 = bse != 0\n",
    "mask1 = ndi.binary_fill_holes(mask1)\n",
    "y1, x1 = np.where(mask1)\n",
    "ymin1, ymax1 = np.min(y1), np.max(y1)\n",
    "xmin1, xmax1 = np.min(x1), np.max(x1)\n",
    "bse = bse[ymin1:ymax1, xmin1:xmax1]\n",
    "\n",
    "# Blank out black inside ROI\n",
    "mask2 = bse != 0\n",
    "mask2 = ndi.binary_fill_holes(mask2)\n",
    "bse[~mask2] = np.nan"
   ]
  },
  {
   "cell_type": "markdown",
   "id": "8090efab-6005-4f8e-a647-5f2511e82c30",
   "metadata": {},
   "source": [
    "Read BSE image with particles detected using *ImageJ*.\n",
    "The image is cropped to the same ROI as the above image (quite a lot of wrangling to enable use of a common scalebar)."
   ]
  },
  {
   "cell_type": "code",
   "execution_count": null,
   "id": "55075b12-7285-419d-ab75-e0259f14c1e3",
   "metadata": {},
   "outputs": [],
   "source": [
    "bse_part = plt.imread(os.path.join(dir_partdet, \"bse_particles_roi.png\"))\n",
    "\n",
    "# Upscale to enable use of EBSD ROI mask from image registration notebook\n",
    "bse0 = plt.imread(os.path.join(dir_bse, \"4500x_cropped2_fused_cropped_cropped.png\"))\n",
    "bse_part = skt.rescale(bse_part, tuple(np.array(bse0.shape) / np.array(bse_part.shape[:2])) + (1,))\n",
    "\n",
    "# Read mask\n",
    "mask3 = np.load(os.path.join(dir_imreg, \"mask_ebsd_correct.npy\"))\n",
    "mask3 = skt.rescale(mask3, scale_ebsd_bse)\n",
    "\n",
    "# Pad particle BSE image or crop mask and EBSD ROI, depending on which have the\n",
    "# greater shape\n",
    "mask3_bse_shape_diff = np.array(mask3.shape) - np.array(bse_part.shape[:2])\n",
    "if mask3_bse_shape_diff[0] > 0:\n",
    "    # Add rows to the end of the BSE image\n",
    "    bse_part2 = np.pad(bse_part, [(0, mask3_bse_shape_diff[0]), (0, 0), (0, 0)])\n",
    "else:\n",
    "    # Add rows to the end of the rescaled mask and EBSD intensity map\n",
    "    mask3 = mask3[:bse_part.shape[0]]\n",
    "    mask3 = np.pad(mask3, [(0, -mask3_bse_shape_diff[0]), (0, 0)])\n",
    "    bse_part2 = bse_part.copy()\n",
    "if mask3_bse_shape_diff[1] > 0:\n",
    "    # Add columns to the end of the BSE image\n",
    "    bse_part2 = np.pad(bse_part2, [(0, 0), (0, mask3_bse_shape_diff[1]), (0, 0)])\n",
    "else:\n",
    "    # Add columns to the end of the rescaled mask and EBSD intensity map\n",
    "    mask3 = mask3[:, :bse_part.shape[1]]\n",
    "    mask3 = np.pad(mask3, [(0, 0), (0, -mask3_bse_shape_diff[1])])\n",
    "\n",
    "# Apply mask to BSE particle image\n",
    "bse_part2[~mask3] = 0\n",
    "\n",
    "# Remove black borders\n",
    "mask4 = skc.rgb2gray(bse_part2[..., :3]) != 0\n",
    "mask4 = ndi.binary_fill_holes(mask4)\n",
    "y4, x4 = np.where(mask4)\n",
    "ymin4, ymax4 = np.min(y4), np.max(y4)\n",
    "xmin4, xmax4 = np.min(x4), np.max(x4)\n",
    "bse_part3 = bse_part2[ymin4:ymax4, xmin4:xmax4]\n",
    "\n",
    "# Crop to fit above BSE image\n",
    "bse_part3 = bse_part3[:bse.shape[0], :bse.shape[1]]"
   ]
  },
  {
   "cell_type": "markdown",
   "id": "6035b0bc-c019-4d86-8069-d36e0f50e7e1",
   "metadata": {},
   "source": [
    "Pad both BSE images to fit the EBSD ROI exactly"
   ]
  },
  {
   "cell_type": "code",
   "execution_count": null,
   "id": "a056d3db-4456-4cb2-a538-c1bbe1417554",
   "metadata": {},
   "outputs": [],
   "source": [
    "pad = np.array(ebsd_pad[sample][dset_no]) / scale_ebsd_bse\n",
    "pad = np.round(pad).astype(int)\n",
    "\n",
    "bse2 = np.pad(bse, pad, constant_values=np.nan)\n",
    "bse_part4 = np.pad(bse_part3, list(pad) + [(0, 0)])"
   ]
  },
  {
   "cell_type": "markdown",
   "id": "8c4a4d52-a52e-49d3-b13f-f3d104a65000",
   "metadata": {},
   "source": [
    "Read inverse pole figure (IPF) map with orientations colored according to the lattice vector parallel to the rolling direction (RD) upwards"
   ]
  },
  {
   "cell_type": "code",
   "execution_count": null,
   "id": "e60edb2b-b476-480d-ab2f-fee2bfb55206",
   "metadata": {},
   "outputs": [],
   "source": [
    "ideal_map = plt.imread(os.path.join(dir_mtex, \"maps_grains_ideal_particles.png\"))\n",
    "ideal_map = ideal_map[3:-3, 3:-3]"
   ]
  },
  {
   "cell_type": "markdown",
   "id": "6b85792b-dffe-4911-8284-89e06794cb6a",
   "metadata": {},
   "source": [
    "Combine images in a figure with a common scalebar"
   ]
  },
  {
   "cell_type": "code",
   "execution_count": null,
   "id": "67d2e943-c155-4dbe-85cc-ce709ff0733f",
   "metadata": {},
   "outputs": [],
   "source": [
    "figsize = (9 * bse.shape[1] / max(bse.shape), 3 * bse.shape[0] / max(bse.shape))\n",
    "fig, axes = plt.subplots(ncols=3, figsize=figsize)\n",
    "axes[0].imshow(bse2, cmap=\"gray\")\n",
    "axes[1].imshow(bse_part4)\n",
    "axes[2].imshow(ideal_map)\n",
    "axes[0].add_artist(ScaleBar(dx=step_size[\"bse\"] * 1e-3, **scalebar_kwds))\n",
    "for ax in axes:\n",
    "    ax.axis(\"off\")\n",
    "fig.tight_layout(pad=0.3)\n",
    "fig.savefig(os.path.join(dir_article, \"maps\", f\"maps_{sample}_{dset_no}.png\"), **savefig_kw)"
   ]
  }
 ],
 "metadata": {
  "kernelspec": {
   "display_name": "Python 3 (ipykernel)",
   "language": "python",
   "name": "python3"
  },
  "language_info": {
   "codemirror_mode": {
    "name": "ipython",
    "version": 3
   },
   "file_extension": ".py",
   "mimetype": "text/x-python",
   "name": "python",
   "nbconvert_exporter": "python",
   "pygments_lexer": "ipython3",
   "version": "3.10.8"
  }
 },
 "nbformat": 4,
 "nbformat_minor": 5
}
