{
 "cells": [
  {
   "cell_type": "markdown",
   "metadata": {},
   "source": [
    "# Detect particles in BSE images and EBSD intensity maps\n",
    "\n",
    "Håkon Wiik Ånes (hakon.w.anes@ntnu.no)"
   ]
  },
  {
   "cell_type": "code",
   "execution_count": 1,
   "metadata": {},
   "outputs": [
    {
     "name": "stdout",
     "output_type": "stream",
     "text": [
      "175c 3\n",
      "Run date:  2022-09-08\n",
      "\n",
      "Software versions\n",
      "-----------------\n",
      "mapregions : 0.1.dev1\n",
      "matplotlib : 3.5.2\n",
      "numpy : 1.22.4\n",
      "orix : 0.9.0.post0\n",
      "scipy : 1.9.0\n",
      "scikit-image : 0.19.3\n"
     ]
    }
   ],
   "source": [
    "# Switch to interactive Matplotlib backend (e.g. qt5) for control point determination\n",
    "%matplotlib qt5\n",
    "\n",
    "from datetime import date\n",
    "import gc\n",
    "import importlib_metadata\n",
    "import os\n",
    "\n",
    "from mapregions import MapRegions\n",
    "import matplotlib.pyplot as plt\n",
    "import numpy as np\n",
    "from scipy import ndimage\n",
    "import skimage.color as skc\n",
    "import skimage.exposure as ske\n",
    "import skimage.io as ski\n",
    "import skimage.filters as skf\n",
    "from skimage.segmentation import watershed\n",
    "import skimage.transform as skt\n",
    "\n",
    "\n",
    "# Directories for input and output\n",
    "sample = \"175c\"\n",
    "dset_no = 3\n",
    "dir_data = f\"/home/hakon/phd/data/p/prover/{sample}/{dset_no}\"\n",
    "dir_bse = os.path.join(dir_data, \"bse\")\n",
    "dir_imreg = os.path.join(dir_data, \"imreg\")\n",
    "dir_kp = os.path.join(dir_data, \"kp\")\n",
    "dir_partdet = os.path.join(dir_data, \"partdet\")\n",
    "\n",
    "# Matplotlib configuration and keyword arguments\n",
    "plt.rcParams.update({\"axes.grid\": False, \"figure.figsize\": (15, 5), \"font.size\": 12})\n",
    "savefig_kw = dict(bbox_inches=\"tight\", pad_inches=0, transparent=True, dpi=300)\n",
    "scatter_kw = dict(s=70, linewidth=2, facecolor=\"none\", clip_on=False)\n",
    "plt.ioff()\n",
    "\n",
    "print(sample, dset_no)\n",
    "print(\"Run date: \", date.today())\n",
    "print(\"\\nSoftware versions\\n-----------------\")\n",
    "for pkg in [\"mapregions\", \"matplotlib\", \"numpy\", \"orix\", \"scipy\", \"scikit-image\"]:\n",
    "    if pkg == \"numpy\":\n",
    "        ver = np.__version__\n",
    "    else:\n",
    "        ver = importlib_metadata.version(pkg)\n",
    "    print(pkg, \":\", ver)"
   ]
  },
  {
   "cell_type": "markdown",
   "metadata": {},
   "source": [
    "Step sizes"
   ]
  },
  {
   "cell_type": "code",
   "execution_count": 2,
   "metadata": {},
   "outputs": [],
   "source": [
    "step_size = dict(ebsd=0.1, bse=1 / 39.2, bse_upscaled=0.025)\n",
    "scale_ebsd_bse = step_size[\"ebsd\"] / step_size[\"bse\"]\n",
    "scale_bse_ebsd = step_size[\"bse\"] / step_size[\"ebsd\"]\n",
    "x_bin = int(np.ceil(scale_ebsd_bse))\n",
    "upscale_factor = x_bin * scale_bse_ebsd"
   ]
  },
  {
   "cell_type": "markdown",
   "metadata": {},
   "source": [
    "Dataset specific parameters"
   ]
  },
  {
   "cell_type": "code",
   "execution_count": 3,
   "metadata": {},
   "outputs": [],
   "source": [
    "# Crop to EBSD ROI\n",
    "# EBSD\n",
    "ebsd_slice = {\n",
    "    \"0s\": {\n",
    "        1: (slice(392, 3272), slice(1367, 4357)),\n",
    "        2: (slice(4, 5364), slice(229, 5229)),\n",
    "        3: (slice(190, 4390), slice(787, 4487)),\n",
    "    },\n",
    "    \"175c\": {\n",
    "        1: (slice(0, 3642), slice(0, 3214)),\n",
    "        2: (slice(0, 4386), slice(205, 4206)),\n",
    "        3: (slice(0, -1), slice(0, 3354)),\n",
    "    },\n",
    "    \"300c\": {\n",
    "        1: (slice(175, -1), slice(850, 4450)),\n",
    "        2: (slice(398, -1), slice(1276, 4376)),\n",
    "        3: (slice(0, -1), slice(263, 3763)),\n",
    "    },\n",
    "    \"325c\": {\n",
    "        1: (slice(198, 3788), slice(229, 3930)),\n",
    "        2: (slice(572, -1), slice(1083, 4083)),\n",
    "        3: (slice(0, -1), slice(0, 4201)),\n",
    "    },\n",
    "}\n",
    "ebsd_pad = {\n",
    "    \"0s\": {1: [(0, 0), (0, 0)], 2: [(0, 0), (0, 0)], 3: [(0, 0), (0, 0)]},\n",
    "    \"175c\": {1: [(100, 0), (0, 0)], 2: [(0, 0), (0, 0)], 3: [(200, 100), (100, 0)]},\n",
    "    \"300c\": {1: [(0, 0), (0, 0)], 2: [(0, 0), (0, 0)], 3: [(0, 0), (0, 0)]},\n",
    "    \"325c\": {1: [(0, 0), (0, 0)], 2: [(0, 0), (0, 0)], 3: [(100, 0), (0, 0)]},\n",
    "}"
   ]
  },
  {
   "cell_type": "markdown",
   "metadata": {},
   "source": [
    "Image to load"
   ]
  },
  {
   "cell_type": "code",
   "execution_count": 4,
   "metadata": {},
   "outputs": [],
   "source": [
    "#data_type = \"ebsd\"\n",
    "data_type = \"bse\""
   ]
  },
  {
   "cell_type": "markdown",
   "metadata": {},
   "source": [
    "Load image"
   ]
  },
  {
   "cell_type": "code",
   "execution_count": 5,
   "metadata": {},
   "outputs": [],
   "source": [
    "if data_type == \"ebsd\":\n",
    "    mask = np.load(os.path.join(dir_imreg, \"mask_ebsd_correct.npy\"))\n",
    "    img = plt.imread(os.path.join(dir_imreg, \"ebsd_correct.png\"))\n",
    "    intensity_img = img.copy()\n",
    "else:\n",
    "    img = plt.imread(os.path.join(dir_bse, \"4500x_cropped2_fused_cropped_histmatch.png\"))\n",
    "    img_int = plt.imread(os.path.join(dir_bse, \"4500x_cropped2_fused_cropped.png\"))\n",
    "    if img.ndim > 2:\n",
    "        img = skc.rgb2gray(img[..., :3])\n",
    "    if img_int.ndim > 2:\n",
    "        img_int = skc.rgb2gray(img_int[..., :3])\n",
    "    mask = np.ones(img.shape, dtype=bool)\n",
    "\n",
    "img = img.astype(np.float32)\n",
    "figsize = (9 * img.shape[1] / max(img.shape), 3 * img.shape[0] / max(img.shape))"
   ]
  },
  {
   "cell_type": "markdown",
   "metadata": {},
   "source": [
    "# Detection steps\n",
    "\n",
    "### 1. Intensity processing\n",
    "\n",
    "In *ImageJ*:\n",
    "1. Histogram matching to 300C #1, available in the *Bleach Correction* plugin (Image > Adjust > Bleach Correction)\n",
    "2. Create two separate images for detecting large and small particles in\n",
    "3. Large particles: Image created using a rolling ball averaging, with a ball radius of 1 pixel\n",
    "4. Small particles: Image by subtracting (3) from (1)"
   ]
  },
  {
   "cell_type": "markdown",
   "metadata": {},
   "source": [
    "### 2. Threshold intensities\n",
    "\n",
    "Threshold with *ImageJ* using the following algorithms:\n",
    "1. Large particles: \"Minimum\" (https://imagej.net/plugins/auto-threshold#minimum)\n",
    "2. Small particles: \"Yen\" (https://imagej.net/plugins/auto-threshold#yen)"
   ]
  },
  {
   "cell_type": "markdown",
   "metadata": {},
   "source": [
    "### 3. Reconstruct particles\n",
    "\n",
    "1. Combine thresholded binary images from *ImageJ*\n",
    "2. Fill holes, assuming closed particles"
   ]
  },
  {
   "cell_type": "code",
   "execution_count": 6,
   "metadata": {},
   "outputs": [],
   "source": [
    "mask_large = ski.imread(os.path.join(dir_partdet, \"mask_large.png\"))\n",
    "mask_small = ski.imread(os.path.join(dir_partdet, \"mask_small.png\"))\n",
    "mask_comb = ~(mask_large * mask_small).astype(bool)"
   ]
  },
  {
   "cell_type": "code",
   "execution_count": 7,
   "metadata": {},
   "outputs": [
    {
     "name": "stdout",
     "output_type": "stream",
     "text": [
      "19184\n",
      "10616\n"
     ]
    }
   ],
   "source": [
    "# Remove small holes with mathematical morphology\n",
    "seg = ndimage.binary_fill_holes(mask_comb)\n",
    "\n",
    "# Label particles\n",
    "labeled_particles, n = ndimage.label(seg)\n",
    "print(n)\n",
    "\n",
    "if data_type == \"bse\":\n",
    "    seg2 = np.pad(seg, ebsd_pad[sample][dset_no])\n",
    "    seg3 = seg2[ebsd_slice[sample][dset_no]]\n",
    "    seg4 = skt.rescale(seg3, upscale_factor)\n",
    "    labeled_particles_roi, n_roi = ndimage.label(seg4)\n",
    "    print(n_roi)\n",
    "    \n",
    "    img_int2 = np.pad(img_int, ebsd_pad[sample][dset_no])\n",
    "    img_int3 = img_int2[ebsd_slice[sample][dset_no]]\n",
    "    ski.imsave(\n",
    "        os.path.join(dir_bse, \"4500x_cropped2_fused_cropped_cropped.png\"),\n",
    "        ske.rescale_intensity(img_int3, out_range=np.uint8)\n",
    "    )\n",
    "    img_int4 = skt.rescale(img_int3, upscale_factor)"
   ]
  },
  {
   "cell_type": "markdown",
   "metadata": {},
   "source": [
    "### 4. Remove incorrectly detected particles"
   ]
  },
  {
   "cell_type": "code",
   "execution_count": 8,
   "metadata": {},
   "outputs": [],
   "source": [
    "# Remove incorrectly detected particles\n",
    "regions = MapRegions(\n",
    "    label_map=labeled_particles,\n",
    "    background_label=0,\n",
    "    intensity_image=img_int,\n",
    ")\n",
    "mean_intensity = regions.mean_intensity\n",
    "roundness = regions.roundness\n",
    "solidity = regions.solidity\n",
    "\n",
    "if data_type == \"bse\":\n",
    "    regions_roi = MapRegions(\n",
    "        label_map=labeled_particles_roi,\n",
    "        background_label=0,\n",
    "        intensity_image=img_int4,\n",
    "    )\n",
    "    mean_intensity_roi = regions_roi.mean_intensity\n",
    "    roundness_roi = regions_roi.roundness\n",
    "    solidity_roi = regions_roi.solidity"
   ]
  },
  {
   "cell_type": "code",
   "execution_count": null,
   "metadata": {},
   "outputs": [],
   "source": [
    "## Check spatial distribution of rejection properties\n",
    "#titles = [\"Mean intensity\", \"Roundness\", \"Solidity\"]\n",
    "#fig, ax = plt.subplots(ncols=3, sharex=True, sharey=True, figsize=figsize)\n",
    "#ax[0].imshow(regions.get_map_data(mean_intensity))\n",
    "#ax[1].imshow(regions.get_map_data(roundness))\n",
    "#ax[2].imshow(regions.get_map_data(solidity))\n",
    "#for i, ax_i in enumerate(ax):\n",
    "#    ax_i.set_title(titles[i])\n",
    "#    ax_i.axis(\"off\")\n",
    "#fig.tight_layout(pad=-0.1)\n",
    "#fig.savefig(os.path.join(dir_partdet, f\"{data_type}_reject.png\"), **savefig_kw)"
   ]
  },
  {
   "cell_type": "code",
   "execution_count": 9,
   "metadata": {},
   "outputs": [
    {
     "name": "stdout",
     "output_type": "stream",
     "text": [
      "0.35098040103912354 1.0 2.6666667461395264\n",
      "MapRegions: 19151\n",
      "MapRegions: 10545 0.7608719180899193\n"
     ]
    }
   ],
   "source": [
    "# Filter detected particles\n",
    "threshold_mean_intensity = np.percentile(mean_intensity, 55)  # 55\n",
    "threshold_roundness = np.percentile(roundness[roundness > 0], 25)  # 25\n",
    "threshold_solidity = np.percentile(solidity[solidity > 0], 25)  # 25\n",
    "print(threshold_mean_intensity, threshold_roundness, threshold_solidity)\n",
    "\n",
    "keep = (\n",
    "    mean_intensity > threshold_mean_intensity,\n",
    "    roundness == 0,\n",
    "    roundness > threshold_roundness,\n",
    "    solidity == 0,\n",
    "    solidity > threshold_solidity,\n",
    ")\n",
    "\n",
    "# Reject some particles\n",
    "regions2 = regions[np.logical_or.reduce(keep)]\n",
    "print(regions2)\n",
    "\n",
    "if data_type == \"bse\":\n",
    "    keep_roi = (\n",
    "        mean_intensity_roi > threshold_mean_intensity,\n",
    "        roundness_roi == 0,\n",
    "        roundness_roi > threshold_roundness,\n",
    "        solidity_roi == 0,\n",
    "        solidity_roi > threshold_solidity,\n",
    "    )\n",
    "    regions_roi2 = regions_roi[np.logical_or.reduce(keep_roi)]\n",
    "    print(regions_roi2, (regions_roi2.label.size / regions_roi2.map_size) * 1e3)"
   ]
  },
  {
   "cell_type": "code",
   "execution_count": null,
   "metadata": {},
   "outputs": [],
   "source": [
    "## Check histograms of rejection properties\n",
    "#titles = [\"Mean intensity\", \"Roundness\", \"Solidity\"]\n",
    "## Inspect thresholds\n",
    "#fig, (ax0, ax1, ax2) = plt.subplots(ncols=3)\n",
    "#ax0.hist(mean_intensity, bins=100);\n",
    "#ax1.hist(roundness, bins=100);\n",
    "#ax2.hist(solidity, bins=100);\n",
    "#ax0.axvspan(threshold_mean_intensity, mean_intensity.max(), color=\"C1\", alpha=0.5, label=\"Keep\")\n",
    "#ax1.axvspan(threshold_roundness, roundness.max(), color=\"C1\", alpha=0.5, label=\"Keep\")\n",
    "#ax2.axvspan(threshold_solidity, solidity.max(), color=\"C1\", alpha=0.5, label=\"Keep\")\n",
    "#for i, ax in enumerate((ax0, ax1, ax2)):\n",
    "#    ax.set_xlabel(titles[i])\n",
    "#    ax.set_ylabel(\"Frequency\")\n",
    "#    ax.legend()\n",
    "#fig.tight_layout()\n",
    "#fig.savefig(os.path.join(dir_partdet, f\"{data_type}_hist_reject.png\"), **savefig_kw)"
   ]
  },
  {
   "cell_type": "code",
   "execution_count": 10,
   "metadata": {},
   "outputs": [],
   "source": [
    "# Check plot of rejected particles\n",
    "with plt.rc_context(rc={\"lines.linewidth\": 0.5}):\n",
    "    contour_kwds = dict(zorder=2, linewidths=0.5)\n",
    "    fig, ax = plt.subplots(sharex=True, sharey=True, figsize=(10, 10))\n",
    "    ax.imshow(regions.intensity_image, cmap=\"gray\")\n",
    "    ax.contour(~regions.is_background_map, colors=\"red\", **contour_kwds)\n",
    "    ax.contour(~regions2.is_background_map, colors=\"lime\", **contour_kwds)\n",
    "    ax.axis(\"off\")\n",
    "    fig.tight_layout()\n",
    "    fig.savefig(os.path.join(dir_partdet, f\"{data_type}_particles.png\"), **savefig_kw)\n",
    "\n",
    "    if data_type == \"bse\":\n",
    "        contour_kwds = dict(zorder=2, linewidths=0.5)\n",
    "        fig, ax = plt.subplots(sharex=True, sharey=True, figsize=(10, 10))\n",
    "        ax.imshow(regions_roi.intensity_image, cmap=\"gray\")\n",
    "        ax.contour(~regions_roi.is_background_map, colors=\"red\", **contour_kwds)\n",
    "        ax.contour(~regions_roi2.is_background_map, colors=\"lime\", **contour_kwds)\n",
    "        ax.axis(\"off\")\n",
    "        fig.tight_layout()\n",
    "        fig.savefig(os.path.join(dir_partdet, \"bse_particles_roi.png\"), **savefig_kw)"
   ]
  },
  {
   "cell_type": "code",
   "execution_count": 11,
   "metadata": {},
   "outputs": [],
   "source": [
    "# Save labeled particles to file\n",
    "if data_type == \"ebsd\":\n",
    "    np.save(os.path.join(dir_partdet, \"ebsd_labels_filled\"), labeled_particles)\n",
    "elif data_type == \"bse\":\n",
    "    np.save(os.path.join(dir_partdet, \"bse_labels_filled_filtered\"), regions2.label_map)\n",
    "    np.save(os.path.join(dir_partdet, \"bse_labels_filled_filtered_roi\"), regions_roi2.label_map)"
   ]
  }
 ],
 "metadata": {
  "kernelspec": {
   "display_name": "Python 3 (ipykernel)",
   "language": "python",
   "name": "python3"
  },
  "language_info": {
   "codemirror_mode": {
    "name": "ipython",
    "version": 3
   },
   "file_extension": ".py",
   "mimetype": "text/x-python",
   "name": "python",
   "nbconvert_exporter": "python",
   "pygments_lexer": "ipython3",
   "version": "3.9.13"
  }
 },
 "nbformat": 4,
 "nbformat_minor": 4
}
